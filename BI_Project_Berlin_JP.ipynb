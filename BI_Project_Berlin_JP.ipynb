{
  "nbformat": 4,
  "nbformat_minor": 0,
  "metadata": {
    "colab": {
      "name": "BI Project_Berlin_JP.ipynb",
      "provenance": [],
      "toc_visible": true
    },
    "kernelspec": {
      "name": "python3",
      "display_name": "Python 3"
    },
    "language_info": {
      "name": "python"
    }
  },
  "cells": [
    {
      "cell_type": "markdown",
      "metadata": {
        "id": "fKfIAoiHYpC4"
      },
      "source": [
        ""
      ]
    },
    {
      "cell_type": "code",
      "metadata": {
        "id": "9FtOLTAW4aOp"
      },
      "source": [
        "import pandas as pd\n",
        "import numpy as np\n",
        "\n",
        "import matplotlib.pyplot as plt\n",
        "%matplotlib inline\n",
        "import seaborn as sns"
      ],
      "execution_count": 1,
      "outputs": []
    },
    {
      "cell_type": "code",
      "metadata": {
        "colab": {
          "base_uri": "https://localhost:8080/"
        },
        "id": "YMS3lxOu44qQ",
        "outputId": "98d1665b-3da6-4445-b242-2a84e7cf1966"
      },
      "source": [
        "import os\n",
        "import glob\n",
        "from google.colab import drive\n",
        "\n",
        "## load train, test and validation label arrays\n",
        "drive = drive.mount('/content/drive', force_remount = True)"
      ],
      "execution_count": 2,
      "outputs": [
        {
          "output_type": "stream",
          "text": [
            "Mounted at /content/drive\n"
          ],
          "name": "stdout"
        }
      ]
    },
    {
      "cell_type": "markdown",
      "metadata": {
        "id": "CbHwtevMMIu4"
      },
      "source": [
        "# Berlin Crime Data"
      ]
    },
    {
      "cell_type": "code",
      "metadata": {
        "colab": {
          "base_uri": "https://localhost:8080/",
          "height": 293
        },
        "id": "ANGwWYvbMMKd",
        "outputId": "3e7cdd5b-465f-4af0-9e8d-ef5690a21087"
      },
      "source": [
        "path = 'drive/MyDrive/Colab Notebooks/BI/data/'\n",
        "df_cr = pd.read_csv(path+'Berlin_crimes.csv', encoding=\"utf-8\", parse_dates=['Year'])\n",
        "df_cr.head()"
      ],
      "execution_count": null,
      "outputs": [
        {
          "output_type": "execute_result",
          "data": {
            "text/html": [
              "<div>\n",
              "<style scoped>\n",
              "    .dataframe tbody tr th:only-of-type {\n",
              "        vertical-align: middle;\n",
              "    }\n",
              "\n",
              "    .dataframe tbody tr th {\n",
              "        vertical-align: top;\n",
              "    }\n",
              "\n",
              "    .dataframe thead th {\n",
              "        text-align: right;\n",
              "    }\n",
              "</style>\n",
              "<table border=\"1\" class=\"dataframe\">\n",
              "  <thead>\n",
              "    <tr style=\"text-align: right;\">\n",
              "      <th></th>\n",
              "      <th>Year</th>\n",
              "      <th>District</th>\n",
              "      <th>Code</th>\n",
              "      <th>Location</th>\n",
              "      <th>Robbery</th>\n",
              "      <th>Street_robbery</th>\n",
              "      <th>Injury</th>\n",
              "      <th>Agg_assault</th>\n",
              "      <th>Threat</th>\n",
              "      <th>Theft</th>\n",
              "      <th>Car</th>\n",
              "      <th>From_car</th>\n",
              "      <th>Bike</th>\n",
              "      <th>Burglary</th>\n",
              "      <th>Fire</th>\n",
              "      <th>Arson</th>\n",
              "      <th>Damage</th>\n",
              "      <th>Graffiti</th>\n",
              "      <th>Drugs</th>\n",
              "      <th>Local</th>\n",
              "    </tr>\n",
              "  </thead>\n",
              "  <tbody>\n",
              "    <tr>\n",
              "      <th>0</th>\n",
              "      <td>2012-01-01</td>\n",
              "      <td>Mitte</td>\n",
              "      <td>10111</td>\n",
              "      <td>Tiergarten Süd</td>\n",
              "      <td>70</td>\n",
              "      <td>46</td>\n",
              "      <td>586</td>\n",
              "      <td>194</td>\n",
              "      <td>118</td>\n",
              "      <td>2263</td>\n",
              "      <td>18</td>\n",
              "      <td>328</td>\n",
              "      <td>120</td>\n",
              "      <td>68</td>\n",
              "      <td>16</td>\n",
              "      <td>4</td>\n",
              "      <td>273</td>\n",
              "      <td>26</td>\n",
              "      <td>171</td>\n",
              "      <td>1032</td>\n",
              "    </tr>\n",
              "    <tr>\n",
              "      <th>1</th>\n",
              "      <td>2012-01-01</td>\n",
              "      <td>Mitte</td>\n",
              "      <td>10112</td>\n",
              "      <td>Regierungsviertel</td>\n",
              "      <td>65</td>\n",
              "      <td>29</td>\n",
              "      <td>474</td>\n",
              "      <td>123</td>\n",
              "      <td>142</td>\n",
              "      <td>3203</td>\n",
              "      <td>10</td>\n",
              "      <td>307</td>\n",
              "      <td>170</td>\n",
              "      <td>37</td>\n",
              "      <td>10</td>\n",
              "      <td>4</td>\n",
              "      <td>380</td>\n",
              "      <td>124</td>\n",
              "      <td>98</td>\n",
              "      <td>870</td>\n",
              "    </tr>\n",
              "    <tr>\n",
              "      <th>2</th>\n",
              "      <td>2012-01-01</td>\n",
              "      <td>Mitte</td>\n",
              "      <td>10113</td>\n",
              "      <td>Alexanderplatz</td>\n",
              "      <td>242</td>\n",
              "      <td>136</td>\n",
              "      <td>1541</td>\n",
              "      <td>454</td>\n",
              "      <td>304</td>\n",
              "      <td>8988</td>\n",
              "      <td>81</td>\n",
              "      <td>792</td>\n",
              "      <td>822</td>\n",
              "      <td>275</td>\n",
              "      <td>49</td>\n",
              "      <td>27</td>\n",
              "      <td>1538</td>\n",
              "      <td>522</td>\n",
              "      <td>435</td>\n",
              "      <td>3108</td>\n",
              "    </tr>\n",
              "    <tr>\n",
              "      <th>3</th>\n",
              "      <td>2012-01-01</td>\n",
              "      <td>Mitte</td>\n",
              "      <td>10114</td>\n",
              "      <td>Brunnenstraße Süd</td>\n",
              "      <td>52</td>\n",
              "      <td>25</td>\n",
              "      <td>254</td>\n",
              "      <td>60</td>\n",
              "      <td>66</td>\n",
              "      <td>1916</td>\n",
              "      <td>86</td>\n",
              "      <td>192</td>\n",
              "      <td>396</td>\n",
              "      <td>131</td>\n",
              "      <td>14</td>\n",
              "      <td>5</td>\n",
              "      <td>428</td>\n",
              "      <td>122</td>\n",
              "      <td>213</td>\n",
              "      <td>752</td>\n",
              "    </tr>\n",
              "    <tr>\n",
              "      <th>4</th>\n",
              "      <td>2012-01-01</td>\n",
              "      <td>Mitte</td>\n",
              "      <td>10221</td>\n",
              "      <td>Moabit West</td>\n",
              "      <td>130</td>\n",
              "      <td>51</td>\n",
              "      <td>629</td>\n",
              "      <td>185</td>\n",
              "      <td>199</td>\n",
              "      <td>2470</td>\n",
              "      <td>94</td>\n",
              "      <td>410</td>\n",
              "      <td>325</td>\n",
              "      <td>161</td>\n",
              "      <td>42</td>\n",
              "      <td>22</td>\n",
              "      <td>516</td>\n",
              "      <td>64</td>\n",
              "      <td>259</td>\n",
              "      <td>1403</td>\n",
              "    </tr>\n",
              "  </tbody>\n",
              "</table>\n",
              "</div>"
            ],
            "text/plain": [
              "        Year District   Code           Location  ...  Damage  Graffiti  Drugs  Local\n",
              "0 2012-01-01    Mitte  10111     Tiergarten Süd  ...     273        26    171   1032\n",
              "1 2012-01-01    Mitte  10112  Regierungsviertel  ...     380       124     98    870\n",
              "2 2012-01-01    Mitte  10113     Alexanderplatz  ...    1538       522    435   3108\n",
              "3 2012-01-01    Mitte  10114  Brunnenstraße Süd  ...     428       122    213    752\n",
              "4 2012-01-01    Mitte  10221        Moabit West  ...     516        64    259   1403\n",
              "\n",
              "[5 rows x 20 columns]"
            ]
          },
          "metadata": {
            "tags": []
          },
          "execution_count": 126
        }
      ]
    },
    {
      "cell_type": "code",
      "metadata": {
        "colab": {
          "base_uri": "https://localhost:8080/"
        },
        "id": "-gJ5C6RG45Oh",
        "outputId": "81f773b1-5f0e-4f7d-8df1-bbcac2eae140"
      },
      "source": [
        "df_cr.shape"
      ],
      "execution_count": null,
      "outputs": [
        {
          "output_type": "execute_result",
          "data": {
            "text/plain": [
              "(1200, 20)"
            ]
          },
          "metadata": {
            "tags": []
          },
          "execution_count": 6
        }
      ]
    },
    {
      "cell_type": "code",
      "metadata": {
        "colab": {
          "base_uri": "https://localhost:8080/"
        },
        "id": "2_OlUXNA5pR5",
        "outputId": "d84aee28-f8af-4bce-9914-ea804af6af0e"
      },
      "source": [
        "df_cr.info()"
      ],
      "execution_count": null,
      "outputs": [
        {
          "output_type": "stream",
          "text": [
            "<class 'pandas.core.frame.DataFrame'>\n",
            "RangeIndex: 1200 entries, 0 to 1199\n",
            "Data columns (total 20 columns):\n",
            " #   Column          Non-Null Count  Dtype         \n",
            "---  ------          --------------  -----         \n",
            " 0   Year            1200 non-null   datetime64[ns]\n",
            " 1   District        1200 non-null   object        \n",
            " 2   Code            1200 non-null   int64         \n",
            " 3   Location        1200 non-null   object        \n",
            " 4   Robbery         1200 non-null   int64         \n",
            " 5   Street_robbery  1200 non-null   int64         \n",
            " 6   Injury          1200 non-null   int64         \n",
            " 7   Agg_assault     1200 non-null   int64         \n",
            " 8   Threat          1200 non-null   int64         \n",
            " 9   Theft           1200 non-null   int64         \n",
            " 10  Car             1200 non-null   int64         \n",
            " 11  From_car        1200 non-null   int64         \n",
            " 12  Bike            1200 non-null   int64         \n",
            " 13  Burglary        1200 non-null   int64         \n",
            " 14  Fire            1200 non-null   int64         \n",
            " 15  Arson           1200 non-null   int64         \n",
            " 16  Damage          1200 non-null   int64         \n",
            " 17  Graffiti        1200 non-null   int64         \n",
            " 18  Drugs           1200 non-null   int64         \n",
            " 19  Local           1200 non-null   int64         \n",
            "dtypes: datetime64[ns](1), int64(17), object(2)\n",
            "memory usage: 187.6+ KB\n"
          ],
          "name": "stdout"
        }
      ]
    },
    {
      "cell_type": "markdown",
      "metadata": {
        "id": "elsvEjv857-o"
      },
      "source": [
        "Note: no null values need to be handled, no data type changed"
      ]
    },
    {
      "cell_type": "code",
      "metadata": {
        "colab": {
          "base_uri": "https://localhost:8080/"
        },
        "id": "OBjMUfMg5MwK",
        "outputId": "addc8365-8fa2-4bff-ea04-ac0454c342e5"
      },
      "source": [
        "df_cr['District'].unique()"
      ],
      "execution_count": null,
      "outputs": [
        {
          "output_type": "execute_result",
          "data": {
            "text/plain": [
              "array(['Mitte', 'Friedrichshain-Kreuzberg', 'Pankow',\n",
              "       'Charlottenburg-Wilmersdorf', 'Spandau', 'Steglitz-Zehlendorf',\n",
              "       'Tempelhof-Schöneberg', 'Neukölln', 'Treptow-Köpenick',\n",
              "       'Marzahn-Hellersdorf', 'Lichtenberg', 'Reinickendorf'],\n",
              "      dtype=object)"
            ]
          },
          "metadata": {
            "tags": []
          },
          "execution_count": 10
        }
      ]
    },
    {
      "cell_type": "code",
      "metadata": {
        "colab": {
          "base_uri": "https://localhost:8080/",
          "height": 1000
        },
        "id": "_36V506L6RwH",
        "outputId": "82bdab96-b10b-47cd-9ea8-40277d3e62d2"
      },
      "source": [
        "crimes = ['Robbery','Street_robbery','Injury','Agg_assault','Threat','Theft','Car','From_car','Bike','Burglary','Fire','Arson','Damage','Graffiti','Drugs','Local']\n",
        "\n",
        "for col in crimes:\n",
        "  print(col)\n",
        "  sns.histplot(df_cr[[col]])\n",
        "  plt.show()"
      ],
      "execution_count": null,
      "outputs": [
        {
          "output_type": "stream",
          "text": [
            "Robbery\n"
          ],
          "name": "stdout"
        },
        {
          "output_type": "display_data",
          "data": {
            "image/png": "[encoded data removed]",
            "text/plain": [
              "<Figure size 432x288 with 1 Axes>"
            ]
          },
          "metadata": {
            "tags": [],
            "needs_background": "light"
          }
        },
        {
          "output_type": "stream",
          "text": [
            "Street_robbery\n"
          ],
          "name": "stdout"
        },
        {
          "output_type": "display_data",
          "data": {
            "image/png": "[encoded data removed]",
            "text/plain": [
              "<Figure size 432x288 with 1 Axes>"
            ]
          },
          "metadata": {
            "tags": [],
            "needs_background": "light"
          }
        },
        {
          "output_type": "stream",
          "text": [
            "Injury\n"
          ],
          "name": "stdout"
        },
        {
          "output_type": "display_data",
          "data": {
            "image/png": "[encoded data removed]",
            "text/plain": [
              "<Figure size 432x288 with 1 Axes>"
            ]
          },
          "metadata": {
            "tags": [],
            "needs_background": "light"
          }
        },
        {
          "output_type": "stream",
          "text": [
            "Agg_assault\n"
          ],
          "name": "stdout"
        },
        {
          "output_type": "display_data",
          "data": {
            "image/png": "[encoded data removed]",
            "text/plain": [
              "<Figure size 432x288 with 1 Axes>"
            ]
          },
          "metadata": {
            "tags": [],
            "needs_background": "light"
          }
        },
        {
          "output_type": "stream",
          "text": [
            "Threat\n"
          ],
          "name": "stdout"
        },
        {
          "output_type": "display_data",
          "data": {
            "image/png": "[encoded data removed]",
            "text/plain": [
              "<Figure size 432x288 with 1 Axes>"
            ]
          },
          "metadata": {
            "tags": [],
            "needs_background": "light"
          }
        },
        {
          "output_type": "stream",
          "text": [
            "Theft\n"
          ],
          "name": "stdout"
        },
        {
          "output_type": "display_data",
          "data": {
            "image/png": "[encoded data removed]",
            "text/plain": [
              "<Figure size 432x288 with 1 Axes>"
            ]
          },
          "metadata": {
            "tags": [],
            "needs_background": "light"
          }
        },
        {
          "output_type": "stream",
          "text": [
            "Car\n"
          ],
          "name": "stdout"
        },
        {
          "output_type": "display_data",
          "data": {
            "image/png": "[encoded data removed]",
            "text/plain": [
              "<Figure size 432x288 with 1 Axes>"
            ]
          },
          "metadata": {
            "tags": [],
            "needs_background": "light"
          }
        },
        {
          "output_type": "stream",
          "text": [
            "From_car\n"
          ],
          "name": "stdout"
        },
        {
          "output_type": "display_data",
          "data": {
            "image/png": "[encoded data removed]",
            "text/plain": [
              "<Figure size 432x288 with 1 Axes>"
            ]
          },
          "metadata": {
            "tags": [],
            "needs_background": "light"
          }
        },
        {
          "output_type": "stream",
          "text": [
            "Bike\n"
          ],
          "name": "stdout"
        },
        {
          "output_type": "display_data",
          "data": {
            "image/png": "[encoded data removed]",
            "text/plain": [
              "<Figure size 432x288 with 1 Axes>"
            ]
          },
          "metadata": {
            "tags": [],
            "needs_background": "light"
          }
        },
        {
          "output_type": "stream",
          "text": [
            "Burglary\n"
          ],
          "name": "stdout"
        },
        {
          "output_type": "display_data",
          "data": {
            "image/png": "[encoded data removed]",
            "text/plain": [
              "<Figure size 432x288 with 1 Axes>"
            ]
          },
          "metadata": {
            "tags": [],
            "needs_background": "light"
          }
        },
        {
          "output_type": "stream",
          "text": [
            "Fire\n"
          ],
          "name": "stdout"
        },
        {
          "output_type": "display_data",
          "data": {
            "image/png": "[encoded data removed]",
            "text/plain": [
              "<Figure size 432x288 with 1 Axes>"
            ]
          },
          "metadata": {
            "tags": [],
            "needs_background": "light"
          }
        },
        {
          "output_type": "stream",
          "text": [
            "Arson\n"
          ],
          "name": "stdout"
        },
        {
          "output_type": "display_data",
          "data": {
            "image/png": "[encoded data removed]",
            "text/plain": [
              "<Figure size 432x288 with 1 Axes>"
            ]
          },
          "metadata": {
            "tags": [],
            "needs_background": "light"
          }
        },
        {
          "output_type": "stream",
          "text": [
            "Damage\n"
          ],
          "name": "stdout"
        },
        {
          "output_type": "display_data",
          "data": {
            "image/png": "[encoded data removed]",
            "text/plain": [
              "<Figure size 432x288 with 1 Axes>"
            ]
          },
          "metadata": {
            "tags": [],
            "needs_background": "light"
          }
        },
        {
          "output_type": "stream",
          "text": [
            "Graffiti\n"
          ],
          "name": "stdout"
        },
        {
          "output_type": "display_data",
          "data": {
            "image/png": "[encoded data removed]",
            "text/plain": [
              "<Figure size 432x288 with 1 Axes>"
            ]
          },
          "metadata": {
            "tags": [],
            "needs_background": "light"
          }
        },
        {
          "output_type": "stream",
          "text": [
            "Drugs\n"
          ],
          "name": "stdout"
        },
        {
          "output_type": "display_data",
          "data": {
            "image/png": "[encoded data removed]",
            "text/plain": [
              "<Figure size 432x288 with 1 Axes>"
            ]
          },
          "metadata": {
            "tags": [],
            "needs_background": "light"
          }
        },
        {
          "output_type": "stream",
          "text": [
            "Local\n"
          ],
          "name": "stdout"
        },
        {
          "output_type": "display_data",
          "data": {
            "image/png": "[encoded data removed]",
            "text/plain": [
              "<Figure size 432x288 with 1 Axes>"
            ]
          },
          "metadata": {
            "tags": [],
            "needs_background": "light"
          }
        }
      ]
    },
    {
      "cell_type": "code",
      "metadata": {
        "colab": {
          "base_uri": "https://localhost:8080/",
          "height": 424
        },
        "id": "SvgPO0_Abg23",
        "outputId": "dbc3f219-a4ca-40f3-d685-985fd4cf5fde"
      },
      "source": [
        "berlin_district_crime = df_cr.melt(id_vars=[\"Year\", 'District',\"Code\", 'Location'], \n",
        "                                var_name=\"Crime\", \n",
        "                                value_name=\"Value\")\n",
        "berlin_district_crime.to_csv('berlin_district_crime.csv')\n",
        "berlin_district_crime"
      ],
      "execution_count": null,
      "outputs": [
        {
          "output_type": "execute_result",
          "data": {
            "text/html": [
              "<div>\n",
              "<style scoped>\n",
              "    .dataframe tbody tr th:only-of-type {\n",
              "        vertical-align: middle;\n",
              "    }\n",
              "\n",
              "    .dataframe tbody tr th {\n",
              "        vertical-align: top;\n",
              "    }\n",
              "\n",
              "    .dataframe thead th {\n",
              "        text-align: right;\n",
              "    }\n",
              "</style>\n",
              "<table border=\"1\" class=\"dataframe\">\n",
              "  <thead>\n",
              "    <tr style=\"text-align: right;\">\n",
              "      <th></th>\n",
              "      <th>Year</th>\n",
              "      <th>District</th>\n",
              "      <th>Code</th>\n",
              "      <th>Location</th>\n",
              "      <th>Crime</th>\n",
              "      <th>Value</th>\n",
              "    </tr>\n",
              "  </thead>\n",
              "  <tbody>\n",
              "    <tr>\n",
              "      <th>0</th>\n",
              "      <td>2012-01-01</td>\n",
              "      <td>Mitte</td>\n",
              "      <td>10111</td>\n",
              "      <td>Tiergarten Süd</td>\n",
              "      <td>Robbery</td>\n",
              "      <td>70</td>\n",
              "    </tr>\n",
              "    <tr>\n",
              "      <th>1</th>\n",
              "      <td>2012-01-01</td>\n",
              "      <td>Mitte</td>\n",
              "      <td>10112</td>\n",
              "      <td>Regierungsviertel</td>\n",
              "      <td>Robbery</td>\n",
              "      <td>65</td>\n",
              "    </tr>\n",
              "    <tr>\n",
              "      <th>2</th>\n",
              "      <td>2012-01-01</td>\n",
              "      <td>Mitte</td>\n",
              "      <td>10113</td>\n",
              "      <td>Alexanderplatz</td>\n",
              "      <td>Robbery</td>\n",
              "      <td>242</td>\n",
              "    </tr>\n",
              "    <tr>\n",
              "      <th>3</th>\n",
              "      <td>2012-01-01</td>\n",
              "      <td>Mitte</td>\n",
              "      <td>10114</td>\n",
              "      <td>Brunnenstraße Süd</td>\n",
              "      <td>Robbery</td>\n",
              "      <td>52</td>\n",
              "    </tr>\n",
              "    <tr>\n",
              "      <th>4</th>\n",
              "      <td>2012-01-01</td>\n",
              "      <td>Mitte</td>\n",
              "      <td>10221</td>\n",
              "      <td>Moabit West</td>\n",
              "      <td>Robbery</td>\n",
              "      <td>130</td>\n",
              "    </tr>\n",
              "    <tr>\n",
              "      <th>...</th>\n",
              "      <td>...</td>\n",
              "      <td>...</td>\n",
              "      <td>...</td>\n",
              "      <td>...</td>\n",
              "      <td>...</td>\n",
              "      <td>...</td>\n",
              "    </tr>\n",
              "    <tr>\n",
              "      <th>19195</th>\n",
              "      <td>2019-01-01</td>\n",
              "      <td>Reinickendorf</td>\n",
              "      <td>123012</td>\n",
              "      <td>Nord 2 - Waidmannslust/Wittenau/Lübars</td>\n",
              "      <td>Local</td>\n",
              "      <td>728</td>\n",
              "    </tr>\n",
              "    <tr>\n",
              "      <th>19196</th>\n",
              "      <td>2019-01-01</td>\n",
              "      <td>Reinickendorf</td>\n",
              "      <td>123021</td>\n",
              "      <td>MV 1 - Märkisches Viertel</td>\n",
              "      <td>Local</td>\n",
              "      <td>986</td>\n",
              "    </tr>\n",
              "    <tr>\n",
              "      <th>19197</th>\n",
              "      <td>2019-01-01</td>\n",
              "      <td>Reinickendorf</td>\n",
              "      <td>123022</td>\n",
              "      <td>MV 2 - Rollbergsiedlung</td>\n",
              "      <td>Local</td>\n",
              "      <td>212</td>\n",
              "    </tr>\n",
              "    <tr>\n",
              "      <th>19198</th>\n",
              "      <td>2019-01-01</td>\n",
              "      <td>Reinickendorf</td>\n",
              "      <td>123043</td>\n",
              "      <td>West 3 - Borsigwalde/Freie Scholle</td>\n",
              "      <td>Local</td>\n",
              "      <td>218</td>\n",
              "    </tr>\n",
              "    <tr>\n",
              "      <th>19199</th>\n",
              "      <td>2019-01-01</td>\n",
              "      <td>Reinickendorf</td>\n",
              "      <td>129900</td>\n",
              "      <td>Bezirk (Rd), nicht zuzuordnen</td>\n",
              "      <td>Local</td>\n",
              "      <td>21</td>\n",
              "    </tr>\n",
              "  </tbody>\n",
              "</table>\n",
              "<p>19200 rows × 6 columns</p>\n",
              "</div>"
            ],
            "text/plain": [
              "            Year       District  ...    Crime Value\n",
              "0     2012-01-01          Mitte  ...  Robbery    70\n",
              "1     2012-01-01          Mitte  ...  Robbery    65\n",
              "2     2012-01-01          Mitte  ...  Robbery   242\n",
              "3     2012-01-01          Mitte  ...  Robbery    52\n",
              "4     2012-01-01          Mitte  ...  Robbery   130\n",
              "...          ...            ...  ...      ...   ...\n",
              "19195 2019-01-01  Reinickendorf  ...    Local   728\n",
              "19196 2019-01-01  Reinickendorf  ...    Local   986\n",
              "19197 2019-01-01  Reinickendorf  ...    Local   212\n",
              "19198 2019-01-01  Reinickendorf  ...    Local   218\n",
              "19199 2019-01-01  Reinickendorf  ...    Local    21\n",
              "\n",
              "[19200 rows x 6 columns]"
            ]
          },
          "metadata": {
            "tags": []
          },
          "execution_count": 45
        }
      ]
    },
    {
      "cell_type": "markdown",
      "metadata": {
        "id": "fl_9uruPxhuE"
      },
      "source": [
        "### Checking the Berlin-wide development of crime statistics"
      ]
    },
    {
      "cell_type": "code",
      "metadata": {
        "colab": {
          "base_uri": "https://localhost:8080/",
          "height": 424
        },
        "id": "bAZpqCux7LXD",
        "outputId": "5e3a340f-6a7b-4b1d-f87c-76d6902ad5fa"
      },
      "source": [
        "## checking the Berlin-wide development of crime statistics in a table\n",
        "\n",
        "berlin_crime = df_cr.groupby(by=['Year']).sum().reset_index()\n",
        "berlin_crime = berlin_crime.melt(id_vars=[\"Year\", \"Code\"], \n",
        "                                var_name=\"Date\", \n",
        "                                value_name=\"Value\")\n",
        "berlin_crime.to_csv('berlin_crime.csv')\n",
        "berlin_crime\n"
      ],
      "execution_count": null,
      "outputs": [
        {
          "output_type": "execute_result",
          "data": {
            "text/html": [
              "<div>\n",
              "<style scoped>\n",
              "    .dataframe tbody tr th:only-of-type {\n",
              "        vertical-align: middle;\n",
              "    }\n",
              "\n",
              "    .dataframe tbody tr th {\n",
              "        vertical-align: top;\n",
              "    }\n",
              "\n",
              "    .dataframe thead th {\n",
              "        text-align: right;\n",
              "    }\n",
              "</style>\n",
              "<table border=\"1\" class=\"dataframe\">\n",
              "  <thead>\n",
              "    <tr style=\"text-align: right;\">\n",
              "      <th></th>\n",
              "      <th>Year</th>\n",
              "      <th>Code</th>\n",
              "      <th>Date</th>\n",
              "      <th>Value</th>\n",
              "    </tr>\n",
              "  </thead>\n",
              "  <tbody>\n",
              "    <tr>\n",
              "      <th>0</th>\n",
              "      <td>2012-01-01</td>\n",
              "      <td>10053418</td>\n",
              "      <td>Robbery</td>\n",
              "      <td>6283</td>\n",
              "    </tr>\n",
              "    <tr>\n",
              "      <th>1</th>\n",
              "      <td>2013-01-01</td>\n",
              "      <td>10053418</td>\n",
              "      <td>Robbery</td>\n",
              "      <td>6088</td>\n",
              "    </tr>\n",
              "    <tr>\n",
              "      <th>2</th>\n",
              "      <td>2014-01-01</td>\n",
              "      <td>10053418</td>\n",
              "      <td>Robbery</td>\n",
              "      <td>5583</td>\n",
              "    </tr>\n",
              "    <tr>\n",
              "      <th>3</th>\n",
              "      <td>2015-01-01</td>\n",
              "      <td>10053418</td>\n",
              "      <td>Robbery</td>\n",
              "      <td>5318</td>\n",
              "    </tr>\n",
              "    <tr>\n",
              "      <th>4</th>\n",
              "      <td>2016-01-01</td>\n",
              "      <td>10053418</td>\n",
              "      <td>Robbery</td>\n",
              "      <td>5046</td>\n",
              "    </tr>\n",
              "    <tr>\n",
              "      <th>...</th>\n",
              "      <td>...</td>\n",
              "      <td>...</td>\n",
              "      <td>...</td>\n",
              "      <td>...</td>\n",
              "    </tr>\n",
              "    <tr>\n",
              "      <th>123</th>\n",
              "      <td>2015-01-01</td>\n",
              "      <td>10053418</td>\n",
              "      <td>Local</td>\n",
              "      <td>100220</td>\n",
              "    </tr>\n",
              "    <tr>\n",
              "      <th>124</th>\n",
              "      <td>2016-01-01</td>\n",
              "      <td>10053418</td>\n",
              "      <td>Local</td>\n",
              "      <td>100073</td>\n",
              "    </tr>\n",
              "    <tr>\n",
              "      <th>125</th>\n",
              "      <td>2017-01-01</td>\n",
              "      <td>10053418</td>\n",
              "      <td>Local</td>\n",
              "      <td>95027</td>\n",
              "    </tr>\n",
              "    <tr>\n",
              "      <th>126</th>\n",
              "      <td>2018-01-01</td>\n",
              "      <td>10053418</td>\n",
              "      <td>Local</td>\n",
              "      <td>97763</td>\n",
              "    </tr>\n",
              "    <tr>\n",
              "      <th>127</th>\n",
              "      <td>2019-01-01</td>\n",
              "      <td>10053418</td>\n",
              "      <td>Local</td>\n",
              "      <td>101581</td>\n",
              "    </tr>\n",
              "  </tbody>\n",
              "</table>\n",
              "<p>128 rows × 4 columns</p>\n",
              "</div>"
            ],
            "text/plain": [
              "          Year      Code     Date   Value\n",
              "0   2012-01-01  10053418  Robbery    6283\n",
              "1   2013-01-01  10053418  Robbery    6088\n",
              "2   2014-01-01  10053418  Robbery    5583\n",
              "3   2015-01-01  10053418  Robbery    5318\n",
              "4   2016-01-01  10053418  Robbery    5046\n",
              "..         ...       ...      ...     ...\n",
              "123 2015-01-01  10053418    Local  100220\n",
              "124 2016-01-01  10053418    Local  100073\n",
              "125 2017-01-01  10053418    Local   95027\n",
              "126 2018-01-01  10053418    Local   97763\n",
              "127 2019-01-01  10053418    Local  101581\n",
              "\n",
              "[128 rows x 4 columns]"
            ]
          },
          "metadata": {
            "tags": []
          },
          "execution_count": 41
        }
      ]
    },
    {
      "cell_type": "code",
      "metadata": {
        "colab": {
          "base_uri": "https://localhost:8080/",
          "height": 1000
        },
        "id": "BwA3SR3R_bQ0",
        "outputId": "a93432bc-574c-441f-f40f-c7ad9ac36a99"
      },
      "source": [
        "## and in graphs\n",
        "\n",
        "fig, ax = plt.subplots(figsize=(6,4))\n",
        "\n",
        "for col in crimes:\n",
        "  print(col)\n",
        "  df_cr.groupby('Year')[col].sum().plot()\n",
        "  plt.show()"
      ],
      "execution_count": null,
      "outputs": [
        {
          "output_type": "stream",
          "text": [
            "Robbery\n"
          ],
          "name": "stdout"
        },
        {
          "output_type": "display_data",
          "data": {
            "image/png": "[encoded data removed]",
            "text/plain": [
              "<Figure size 432x288 with 1 Axes>"
            ]
          },
          "metadata": {
            "tags": [],
            "needs_background": "light"
          }
        },
        {
          "output_type": "stream",
          "text": [
            "Street_robbery\n"
          ],
          "name": "stdout"
        },
        {
          "output_type": "display_data",
          "data": {
            "image/png": "[encoded data removed]",
            "text/plain": [
              "<Figure size 432x288 with 1 Axes>"
            ]
          },
          "metadata": {
            "tags": [],
            "needs_background": "light"
          }
        },
        {
          "output_type": "stream",
          "text": [
            "Injury\n"
          ],
          "name": "stdout"
        },
        {
          "output_type": "display_data",
          "data": {
            "image/png": "[encoded data removed]",
            "text/plain": [
              "<Figure size 432x288 with 1 Axes>"
            ]
          },
          "metadata": {
            "tags": [],
            "needs_background": "light"
          }
        },
        {
          "output_type": "stream",
          "text": [
            "Agg_assault\n"
          ],
          "name": "stdout"
        },
        {
          "output_type": "display_data",
          "data": {
            "image/png": "[encoded data removed]",
            "text/plain": [
              "<Figure size 432x288 with 1 Axes>"
            ]
          },
          "metadata": {
            "tags": [],
            "needs_background": "light"
          }
        },
        {
          "output_type": "stream",
          "text": [
            "Threat\n"
          ],
          "name": "stdout"
        },
        {
          "output_type": "display_data",
          "data": {
            "image/png": "[encoded data removed]",
            "text/plain": [
              "<Figure size 432x288 with 1 Axes>"
            ]
          },
          "metadata": {
            "tags": [],
            "needs_background": "light"
          }
        },
        {
          "output_type": "stream",
          "text": [
            "Theft\n"
          ],
          "name": "stdout"
        },
        {
          "output_type": "display_data",
          "data": {
            "image/png": "[encoded data removed]",
            "text/plain": [
              "<Figure size 432x288 with 1 Axes>"
            ]
          },
          "metadata": {
            "tags": [],
            "needs_background": "light"
          }
        },
        {
          "output_type": "stream",
          "text": [
            "Car\n"
          ],
          "name": "stdout"
        },
        {
          "output_type": "display_data",
          "data": {
            "image/png": "[encoded data removed]",
            "text/plain": [
              "<Figure size 432x288 with 1 Axes>"
            ]
          },
          "metadata": {
            "tags": [],
            "needs_background": "light"
          }
        },
        {
          "output_type": "stream",
          "text": [
            "From_car\n"
          ],
          "name": "stdout"
        },
        {
          "output_type": "display_data",
          "data": {
            "image/png": "[encoded data removed]",
            "text/plain": [
              "<Figure size 432x288 with 1 Axes>"
            ]
          },
          "metadata": {
            "tags": [],
            "needs_background": "light"
          }
        },
        {
          "output_type": "stream",
          "text": [
            "Bike\n"
          ],
          "name": "stdout"
        },
        {
          "output_type": "display_data",
          "data": {
            "image/png": "[encoded data removed]",
            "text/plain": [
              "<Figure size 432x288 with 1 Axes>"
            ]
          },
          "metadata": {
            "tags": [],
            "needs_background": "light"
          }
        },
        {
          "output_type": "stream",
          "text": [
            "Burglary\n"
          ],
          "name": "stdout"
        },
        {
          "output_type": "display_data",
          "data": {
            "image/png": "[encoded data removed]",
            "text/plain": [
              "<Figure size 432x288 with 1 Axes>"
            ]
          },
          "metadata": {
            "tags": [],
            "needs_background": "light"
          }
        },
        {
          "output_type": "stream",
          "text": [
            "Fire\n"
          ],
          "name": "stdout"
        },
        {
          "output_type": "display_data",
          "data": {
            "image/png": "[encoded data removed]",
            "text/plain": [
              "<Figure size 432x288 with 1 Axes>"
            ]
          },
          "metadata": {
            "tags": [],
            "needs_background": "light"
          }
        },
        {
          "output_type": "stream",
          "text": [
            "Arson\n"
          ],
          "name": "stdout"
        },
        {
          "output_type": "display_data",
          "data": {
            "image/png": "[encoded data removed]",
            "text/plain": [
              "<Figure size 432x288 with 1 Axes>"
            ]
          },
          "metadata": {
            "tags": [],
            "needs_background": "light"
          }
        },
        {
          "output_type": "stream",
          "text": [
            "Damage\n"
          ],
          "name": "stdout"
        },
        {
          "output_type": "display_data",
          "data": {
            "image/png": "[encoded data removed]",
            "text/plain": [
              "<Figure size 432x288 with 1 Axes>"
            ]
          },
          "metadata": {
            "tags": [],
            "needs_background": "light"
          }
        },
        {
          "output_type": "stream",
          "text": [
            "Graffiti\n"
          ],
          "name": "stdout"
        },
        {
          "output_type": "display_data",
          "data": {
            "image/png": "[encoded data removed]",
            "text/plain": [
              "<Figure size 432x288 with 1 Axes>"
            ]
          },
          "metadata": {
            "tags": [],
            "needs_background": "light"
          }
        },
        {
          "output_type": "stream",
          "text": [
            "Drugs\n"
          ],
          "name": "stdout"
        },
        {
          "output_type": "display_data",
          "data": {
            "image/png": "[encoded data removed]",
            "text/plain": [
              "<Figure size 432x288 with 1 Axes>"
            ]
          },
          "metadata": {
            "tags": [],
            "needs_background": "light"
          }
        },
        {
          "output_type": "stream",
          "text": [
            "Local\n"
          ],
          "name": "stdout"
        },
        {
          "output_type": "display_data",
          "data": {
            "image/png": "[encoded data removed]",
            "text/plain": [
              "<Figure size 432x288 with 1 Axes>"
            ]
          },
          "metadata": {
            "tags": [],
            "needs_background": "light"
          }
        }
      ]
    },
    {
      "cell_type": "code",
      "metadata": {
        "colab": {
          "base_uri": "https://localhost:8080/",
          "height": 1000
        },
        "id": "cZck4vbRBDRc",
        "outputId": "dd3b4e09-55fb-4e96-f059-155f6a692d2e"
      },
      "source": [
        "fig, ax = plt.subplots(figsize=(8,6))\n",
        "for label, df in df_cr.groupby('Year'):\n",
        "    df.plot(kind=\"kde\", ax=ax, label=label)\n",
        "plt.legend()"
      ],
      "execution_count": null,
      "outputs": [
        {
          "output_type": "error",
          "ename": "LinAlgError",
          "evalue": "ignored",
          "traceback": [
            "\u001b[0;31m---------------------------------------------------------------------------\u001b[0m",
            "\u001b[0;31mLinAlgError\u001b[0m                               Traceback (most recent call last)",
            "\u001b[0;32m<ipython-input-51-04bd941948b7>\u001b[0m in \u001b[0;36m<module>\u001b[0;34m()\u001b[0m\n\u001b[1;32m      1\u001b[0m \u001b[0mfig\u001b[0m\u001b[0;34m,\u001b[0m \u001b[0max\u001b[0m \u001b[0;34m=\u001b[0m \u001b[0mplt\u001b[0m\u001b[0;34m.\u001b[0m\u001b[0msubplots\u001b[0m\u001b[0;34m(\u001b[0m\u001b[0mfigsize\u001b[0m\u001b[0;34m=\u001b[0m\u001b[0;34m(\u001b[0m\u001b[0;36m8\u001b[0m\u001b[0;34m,\u001b[0m\u001b[0;36m6\u001b[0m\u001b[0;34m)\u001b[0m\u001b[0;34m)\u001b[0m\u001b[0;34m\u001b[0m\u001b[0;34m\u001b[0m\u001b[0m\n\u001b[1;32m      2\u001b[0m \u001b[0;32mfor\u001b[0m \u001b[0mlabel\u001b[0m\u001b[0;34m,\u001b[0m \u001b[0mdf\u001b[0m \u001b[0;32min\u001b[0m \u001b[0mdf_cr\u001b[0m\u001b[0;34m.\u001b[0m\u001b[0mgroupby\u001b[0m\u001b[0;34m(\u001b[0m\u001b[0;34m'Year'\u001b[0m\u001b[0;34m)\u001b[0m\u001b[0;34m:\u001b[0m\u001b[0;34m\u001b[0m\u001b[0;34m\u001b[0m\u001b[0m\n\u001b[0;32m----> 3\u001b[0;31m     \u001b[0mdf\u001b[0m\u001b[0;34m.\u001b[0m\u001b[0mplot\u001b[0m\u001b[0;34m(\u001b[0m\u001b[0mkind\u001b[0m\u001b[0;34m=\u001b[0m\u001b[0;34m\"kde\"\u001b[0m\u001b[0;34m,\u001b[0m \u001b[0max\u001b[0m\u001b[0;34m=\u001b[0m\u001b[0max\u001b[0m\u001b[0;34m,\u001b[0m \u001b[0mlabel\u001b[0m\u001b[0;34m=\u001b[0m\u001b[0mlabel\u001b[0m\u001b[0;34m)\u001b[0m\u001b[0;34m\u001b[0m\u001b[0;34m\u001b[0m\u001b[0m\n\u001b[0m\u001b[1;32m      4\u001b[0m \u001b[0mplt\u001b[0m\u001b[0;34m.\u001b[0m\u001b[0mlegend\u001b[0m\u001b[0;34m(\u001b[0m\u001b[0;34m)\u001b[0m\u001b[0;34m\u001b[0m\u001b[0;34m\u001b[0m\u001b[0m\n",
            "\u001b[0;32m/usr/local/lib/python3.7/dist-packages/pandas/plotting/_core.py\u001b[0m in \u001b[0;36m__call__\u001b[0;34m(self, *args, **kwargs)\u001b[0m\n\u001b[1;32m    947\u001b[0m                     \u001b[0mdata\u001b[0m\u001b[0;34m.\u001b[0m\u001b[0mcolumns\u001b[0m \u001b[0;34m=\u001b[0m \u001b[0mlabel_name\u001b[0m\u001b[0;34m\u001b[0m\u001b[0;34m\u001b[0m\u001b[0m\n\u001b[1;32m    948\u001b[0m \u001b[0;34m\u001b[0m\u001b[0m\n\u001b[0;32m--> 949\u001b[0;31m         \u001b[0;32mreturn\u001b[0m \u001b[0mplot_backend\u001b[0m\u001b[0;34m.\u001b[0m\u001b[0mplot\u001b[0m\u001b[0;34m(\u001b[0m\u001b[0mdata\u001b[0m\u001b[0;34m,\u001b[0m \u001b[0mkind\u001b[0m\u001b[0;34m=\u001b[0m\u001b[0mkind\u001b[0m\u001b[0;34m,\u001b[0m \u001b[0;34m**\u001b[0m\u001b[0mkwargs\u001b[0m\u001b[0;34m)\u001b[0m\u001b[0;34m\u001b[0m\u001b[0;34m\u001b[0m\u001b[0m\n\u001b[0m\u001b[1;32m    950\u001b[0m \u001b[0;34m\u001b[0m\u001b[0m\n\u001b[1;32m    951\u001b[0m     \u001b[0m__call__\u001b[0m\u001b[0;34m.\u001b[0m\u001b[0m__doc__\u001b[0m \u001b[0;34m=\u001b[0m \u001b[0m__doc__\u001b[0m\u001b[0;34m\u001b[0m\u001b[0;34m\u001b[0m\u001b[0m\n",
            "\u001b[0;32m/usr/local/lib/python3.7/dist-packages/pandas/plotting/_matplotlib/__init__.py\u001b[0m in \u001b[0;36mplot\u001b[0;34m(data, kind, **kwargs)\u001b[0m\n\u001b[1;32m     59\u001b[0m             \u001b[0mkwargs\u001b[0m\u001b[0;34m[\u001b[0m\u001b[0;34m\"ax\"\u001b[0m\u001b[0;34m]\u001b[0m \u001b[0;34m=\u001b[0m \u001b[0mgetattr\u001b[0m\u001b[0;34m(\u001b[0m\u001b[0max\u001b[0m\u001b[0;34m,\u001b[0m \u001b[0;34m\"left_ax\"\u001b[0m\u001b[0;34m,\u001b[0m \u001b[0max\u001b[0m\u001b[0;34m)\u001b[0m\u001b[0;34m\u001b[0m\u001b[0;34m\u001b[0m\u001b[0m\n\u001b[1;32m     60\u001b[0m     \u001b[0mplot_obj\u001b[0m \u001b[0;34m=\u001b[0m \u001b[0mPLOT_CLASSES\u001b[0m\u001b[0;34m[\u001b[0m\u001b[0mkind\u001b[0m\u001b[0;34m]\u001b[0m\u001b[0;34m(\u001b[0m\u001b[0mdata\u001b[0m\u001b[0;34m,\u001b[0m \u001b[0;34m**\u001b[0m\u001b[0mkwargs\u001b[0m\u001b[0;34m)\u001b[0m\u001b[0;34m\u001b[0m\u001b[0;34m\u001b[0m\u001b[0m\n\u001b[0;32m---> 61\u001b[0;31m     \u001b[0mplot_obj\u001b[0m\u001b[0;34m.\u001b[0m\u001b[0mgenerate\u001b[0m\u001b[0;34m(\u001b[0m\u001b[0;34m)\u001b[0m\u001b[0;34m\u001b[0m\u001b[0;34m\u001b[0m\u001b[0m\n\u001b[0m\u001b[1;32m     62\u001b[0m     \u001b[0mplot_obj\u001b[0m\u001b[0;34m.\u001b[0m\u001b[0mdraw\u001b[0m\u001b[0;34m(\u001b[0m\u001b[0;34m)\u001b[0m\u001b[0;34m\u001b[0m\u001b[0;34m\u001b[0m\u001b[0m\n\u001b[1;32m     63\u001b[0m     \u001b[0;32mreturn\u001b[0m \u001b[0mplot_obj\u001b[0m\u001b[0;34m.\u001b[0m\u001b[0mresult\u001b[0m\u001b[0;34m\u001b[0m\u001b[0;34m\u001b[0m\u001b[0m\n",
            "\u001b[0;32m/usr/local/lib/python3.7/dist-packages/pandas/plotting/_matplotlib/core.py\u001b[0m in \u001b[0;36mgenerate\u001b[0;34m(self)\u001b[0m\n\u001b[1;32m    269\u001b[0m         \u001b[0mself\u001b[0m\u001b[0;34m.\u001b[0m\u001b[0m_compute_plot_data\u001b[0m\u001b[0;34m(\u001b[0m\u001b[0;34m)\u001b[0m\u001b[0;34m\u001b[0m\u001b[0;34m\u001b[0m\u001b[0m\n\u001b[1;32m    270\u001b[0m         \u001b[0mself\u001b[0m\u001b[0;34m.\u001b[0m\u001b[0m_setup_subplots\u001b[0m\u001b[0;34m(\u001b[0m\u001b[0;34m)\u001b[0m\u001b[0;34m\u001b[0m\u001b[0;34m\u001b[0m\u001b[0m\n\u001b[0;32m--> 271\u001b[0;31m         \u001b[0mself\u001b[0m\u001b[0;34m.\u001b[0m\u001b[0m_make_plot\u001b[0m\u001b[0;34m(\u001b[0m\u001b[0;34m)\u001b[0m\u001b[0;34m\u001b[0m\u001b[0;34m\u001b[0m\u001b[0m\n\u001b[0m\u001b[1;32m    272\u001b[0m         \u001b[0mself\u001b[0m\u001b[0;34m.\u001b[0m\u001b[0m_add_table\u001b[0m\u001b[0;34m(\u001b[0m\u001b[0;34m)\u001b[0m\u001b[0;34m\u001b[0m\u001b[0;34m\u001b[0m\u001b[0m\n\u001b[1;32m    273\u001b[0m         \u001b[0mself\u001b[0m\u001b[0;34m.\u001b[0m\u001b[0m_make_legend\u001b[0m\u001b[0;34m(\u001b[0m\u001b[0;34m)\u001b[0m\u001b[0;34m\u001b[0m\u001b[0;34m\u001b[0m\u001b[0m\n",
            "\u001b[0;32m/usr/local/lib/python3.7/dist-packages/pandas/plotting/_matplotlib/hist.py\u001b[0m in \u001b[0;36m_make_plot\u001b[0;34m(self)\u001b[0m\n\u001b[1;32m     81\u001b[0m                 \u001b[0mkwds\u001b[0m\u001b[0;34m[\u001b[0m\u001b[0;34m\"weights\"\u001b[0m\u001b[0;34m]\u001b[0m \u001b[0;34m=\u001b[0m \u001b[0mweights\u001b[0m\u001b[0;34m[\u001b[0m\u001b[0;34m:\u001b[0m\u001b[0;34m,\u001b[0m \u001b[0mi\u001b[0m\u001b[0;34m]\u001b[0m\u001b[0;34m\u001b[0m\u001b[0;34m\u001b[0m\u001b[0m\n\u001b[1;32m     82\u001b[0m \u001b[0;34m\u001b[0m\u001b[0m\n\u001b[0;32m---> 83\u001b[0;31m             \u001b[0martists\u001b[0m \u001b[0;34m=\u001b[0m \u001b[0mself\u001b[0m\u001b[0;34m.\u001b[0m\u001b[0m_plot\u001b[0m\u001b[0;34m(\u001b[0m\u001b[0max\u001b[0m\u001b[0;34m,\u001b[0m \u001b[0my\u001b[0m\u001b[0;34m,\u001b[0m \u001b[0mcolumn_num\u001b[0m\u001b[0;34m=\u001b[0m\u001b[0mi\u001b[0m\u001b[0;34m,\u001b[0m \u001b[0mstacking_id\u001b[0m\u001b[0;34m=\u001b[0m\u001b[0mstacking_id\u001b[0m\u001b[0;34m,\u001b[0m \u001b[0;34m**\u001b[0m\u001b[0mkwds\u001b[0m\u001b[0;34m)\u001b[0m\u001b[0;34m\u001b[0m\u001b[0;34m\u001b[0m\u001b[0m\n\u001b[0m\u001b[1;32m     84\u001b[0m             \u001b[0mself\u001b[0m\u001b[0;34m.\u001b[0m\u001b[0m_add_legend_handle\u001b[0m\u001b[0;34m(\u001b[0m\u001b[0martists\u001b[0m\u001b[0;34m[\u001b[0m\u001b[0;36m0\u001b[0m\u001b[0;34m]\u001b[0m\u001b[0;34m,\u001b[0m \u001b[0mlabel\u001b[0m\u001b[0;34m,\u001b[0m \u001b[0mindex\u001b[0m\u001b[0;34m=\u001b[0m\u001b[0mi\u001b[0m\u001b[0;34m)\u001b[0m\u001b[0;34m\u001b[0m\u001b[0;34m\u001b[0m\u001b[0m\n\u001b[1;32m     85\u001b[0m \u001b[0;34m\u001b[0m\u001b[0m\n",
            "\u001b[0;32m/usr/local/lib/python3.7/dist-packages/pandas/plotting/_matplotlib/hist.py\u001b[0m in \u001b[0;36m_plot\u001b[0;34m(cls, ax, y, style, bw_method, ind, column_num, stacking_id, **kwds)\u001b[0m\n\u001b[1;32m    152\u001b[0m \u001b[0;34m\u001b[0m\u001b[0m\n\u001b[1;32m    153\u001b[0m         \u001b[0my\u001b[0m \u001b[0;34m=\u001b[0m \u001b[0mremove_na_arraylike\u001b[0m\u001b[0;34m(\u001b[0m\u001b[0my\u001b[0m\u001b[0;34m)\u001b[0m\u001b[0;34m\u001b[0m\u001b[0;34m\u001b[0m\u001b[0m\n\u001b[0;32m--> 154\u001b[0;31m         \u001b[0mgkde\u001b[0m \u001b[0;34m=\u001b[0m \u001b[0mgaussian_kde\u001b[0m\u001b[0;34m(\u001b[0m\u001b[0my\u001b[0m\u001b[0;34m,\u001b[0m \u001b[0mbw_method\u001b[0m\u001b[0;34m=\u001b[0m\u001b[0mbw_method\u001b[0m\u001b[0;34m)\u001b[0m\u001b[0;34m\u001b[0m\u001b[0;34m\u001b[0m\u001b[0m\n\u001b[0m\u001b[1;32m    155\u001b[0m \u001b[0;34m\u001b[0m\u001b[0m\n\u001b[1;32m    156\u001b[0m         \u001b[0my\u001b[0m \u001b[0;34m=\u001b[0m \u001b[0mgkde\u001b[0m\u001b[0;34m.\u001b[0m\u001b[0mevaluate\u001b[0m\u001b[0;34m(\u001b[0m\u001b[0mind\u001b[0m\u001b[0;34m)\u001b[0m\u001b[0;34m\u001b[0m\u001b[0;34m\u001b[0m\u001b[0m\n",
            "\u001b[0;32m/usr/local/lib/python3.7/dist-packages/scipy/stats/kde.py\u001b[0m in \u001b[0;36m__init__\u001b[0;34m(self, dataset, bw_method, weights)\u001b[0m\n\u001b[1;32m    207\u001b[0m             \u001b[0mself\u001b[0m\u001b[0;34m.\u001b[0m\u001b[0m_neff\u001b[0m \u001b[0;34m=\u001b[0m \u001b[0;36m1\u001b[0m\u001b[0;34m/\u001b[0m\u001b[0msum\u001b[0m\u001b[0;34m(\u001b[0m\u001b[0mself\u001b[0m\u001b[0;34m.\u001b[0m\u001b[0m_weights\u001b[0m\u001b[0;34m**\u001b[0m\u001b[0;36m2\u001b[0m\u001b[0;34m)\u001b[0m\u001b[0;34m\u001b[0m\u001b[0;34m\u001b[0m\u001b[0m\n\u001b[1;32m    208\u001b[0m \u001b[0;34m\u001b[0m\u001b[0m\n\u001b[0;32m--> 209\u001b[0;31m         \u001b[0mself\u001b[0m\u001b[0;34m.\u001b[0m\u001b[0mset_bandwidth\u001b[0m\u001b[0;34m(\u001b[0m\u001b[0mbw_method\u001b[0m\u001b[0;34m=\u001b[0m\u001b[0mbw_method\u001b[0m\u001b[0;34m)\u001b[0m\u001b[0;34m\u001b[0m\u001b[0;34m\u001b[0m\u001b[0m\n\u001b[0m\u001b[1;32m    210\u001b[0m \u001b[0;34m\u001b[0m\u001b[0m\n\u001b[1;32m    211\u001b[0m     \u001b[0;32mdef\u001b[0m \u001b[0mevaluate\u001b[0m\u001b[0;34m(\u001b[0m\u001b[0mself\u001b[0m\u001b[0;34m,\u001b[0m \u001b[0mpoints\u001b[0m\u001b[0;34m)\u001b[0m\u001b[0;34m:\u001b[0m\u001b[0;34m\u001b[0m\u001b[0;34m\u001b[0m\u001b[0m\n",
            "\u001b[0;32m/usr/local/lib/python3.7/dist-packages/scipy/stats/kde.py\u001b[0m in \u001b[0;36mset_bandwidth\u001b[0;34m(self, bw_method)\u001b[0m\n\u001b[1;32m    563\u001b[0m             \u001b[0;32mraise\u001b[0m \u001b[0mValueError\u001b[0m\u001b[0;34m(\u001b[0m\u001b[0mmsg\u001b[0m\u001b[0;34m)\u001b[0m\u001b[0;34m\u001b[0m\u001b[0;34m\u001b[0m\u001b[0m\n\u001b[1;32m    564\u001b[0m \u001b[0;34m\u001b[0m\u001b[0m\n\u001b[0;32m--> 565\u001b[0;31m         \u001b[0mself\u001b[0m\u001b[0;34m.\u001b[0m\u001b[0m_compute_covariance\u001b[0m\u001b[0;34m(\u001b[0m\u001b[0;34m)\u001b[0m\u001b[0;34m\u001b[0m\u001b[0;34m\u001b[0m\u001b[0m\n\u001b[0m\u001b[1;32m    566\u001b[0m \u001b[0;34m\u001b[0m\u001b[0m\n\u001b[1;32m    567\u001b[0m     \u001b[0;32mdef\u001b[0m \u001b[0m_compute_covariance\u001b[0m\u001b[0;34m(\u001b[0m\u001b[0mself\u001b[0m\u001b[0;34m)\u001b[0m\u001b[0;34m:\u001b[0m\u001b[0;34m\u001b[0m\u001b[0;34m\u001b[0m\u001b[0m\n",
            "\u001b[0;32m/usr/local/lib/python3.7/dist-packages/scipy/stats/kde.py\u001b[0m in \u001b[0;36m_compute_covariance\u001b[0;34m(self)\u001b[0m\n\u001b[1;32m    575\u001b[0m                                                \u001b[0mbias\u001b[0m\u001b[0;34m=\u001b[0m\u001b[0;32mFalse\u001b[0m\u001b[0;34m,\u001b[0m\u001b[0;34m\u001b[0m\u001b[0;34m\u001b[0m\u001b[0m\n\u001b[1;32m    576\u001b[0m                                                aweights=self.weights))\n\u001b[0;32m--> 577\u001b[0;31m             \u001b[0mself\u001b[0m\u001b[0;34m.\u001b[0m\u001b[0m_data_inv_cov\u001b[0m \u001b[0;34m=\u001b[0m \u001b[0mlinalg\u001b[0m\u001b[0;34m.\u001b[0m\u001b[0minv\u001b[0m\u001b[0;34m(\u001b[0m\u001b[0mself\u001b[0m\u001b[0;34m.\u001b[0m\u001b[0m_data_covariance\u001b[0m\u001b[0;34m)\u001b[0m\u001b[0;34m\u001b[0m\u001b[0;34m\u001b[0m\u001b[0m\n\u001b[0m\u001b[1;32m    578\u001b[0m \u001b[0;34m\u001b[0m\u001b[0m\n\u001b[1;32m    579\u001b[0m         \u001b[0mself\u001b[0m\u001b[0;34m.\u001b[0m\u001b[0mcovariance\u001b[0m \u001b[0;34m=\u001b[0m \u001b[0mself\u001b[0m\u001b[0;34m.\u001b[0m\u001b[0m_data_covariance\u001b[0m \u001b[0;34m*\u001b[0m \u001b[0mself\u001b[0m\u001b[0;34m.\u001b[0m\u001b[0mfactor\u001b[0m\u001b[0;34m**\u001b[0m\u001b[0;36m2\u001b[0m\u001b[0;34m\u001b[0m\u001b[0;34m\u001b[0m\u001b[0m\n",
            "\u001b[0;32m/usr/local/lib/python3.7/dist-packages/scipy/linalg/basic.py\u001b[0m in \u001b[0;36minv\u001b[0;34m(a, overwrite_a, check_finite)\u001b[0m\n\u001b[1;32m    977\u001b[0m         \u001b[0minv_a\u001b[0m\u001b[0;34m,\u001b[0m \u001b[0minfo\u001b[0m \u001b[0;34m=\u001b[0m \u001b[0mgetri\u001b[0m\u001b[0;34m(\u001b[0m\u001b[0mlu\u001b[0m\u001b[0;34m,\u001b[0m \u001b[0mpiv\u001b[0m\u001b[0;34m,\u001b[0m \u001b[0mlwork\u001b[0m\u001b[0;34m=\u001b[0m\u001b[0mlwork\u001b[0m\u001b[0;34m,\u001b[0m \u001b[0moverwrite_lu\u001b[0m\u001b[0;34m=\u001b[0m\u001b[0;36m1\u001b[0m\u001b[0;34m)\u001b[0m\u001b[0;34m\u001b[0m\u001b[0;34m\u001b[0m\u001b[0m\n\u001b[1;32m    978\u001b[0m     \u001b[0;32mif\u001b[0m \u001b[0minfo\u001b[0m \u001b[0;34m>\u001b[0m \u001b[0;36m0\u001b[0m\u001b[0;34m:\u001b[0m\u001b[0;34m\u001b[0m\u001b[0;34m\u001b[0m\u001b[0m\n\u001b[0;32m--> 979\u001b[0;31m         \u001b[0;32mraise\u001b[0m \u001b[0mLinAlgError\u001b[0m\u001b[0;34m(\u001b[0m\u001b[0;34m\"singular matrix\"\u001b[0m\u001b[0;34m)\u001b[0m\u001b[0;34m\u001b[0m\u001b[0;34m\u001b[0m\u001b[0m\n\u001b[0m\u001b[1;32m    980\u001b[0m     \u001b[0;32mif\u001b[0m \u001b[0minfo\u001b[0m \u001b[0;34m<\u001b[0m \u001b[0;36m0\u001b[0m\u001b[0;34m:\u001b[0m\u001b[0;34m\u001b[0m\u001b[0;34m\u001b[0m\u001b[0m\n\u001b[1;32m    981\u001b[0m         raise ValueError('illegal value in %d-th argument of internal '\n",
            "\u001b[0;31mLinAlgError\u001b[0m: singular matrix"
          ]
        },
        {
          "output_type": "display_data",
          "data": {
            "image/png": "[encoded data removed]",
            "text/plain": [
              "<Figure size 576x432 with 1 Axes>"
            ]
          },
          "metadata": {
            "tags": [],
            "needs_background": "light"
          }
        }
      ]
    },
    {
      "cell_type": "markdown",
      "metadata": {
        "id": "GhqAQVDLx_6h"
      },
      "source": [
        "### Checking the crime stats by district"
      ]
    },
    {
      "cell_type": "code",
      "metadata": {
        "colab": {
          "base_uri": "https://localhost:8080/",
          "height": 628
        },
        "id": "EiQGMMLwCDBI",
        "outputId": "8627eae9-f9a0-4d00-90aa-50ff754b5232"
      },
      "source": [
        "crime_districts_years = df_cr.groupby(by=['District','Year']).sum()\n",
        "crime_districts_years"
      ],
      "execution_count": null,
      "outputs": [
        {
          "output_type": "execute_result",
          "data": {
            "text/html": [
              "<div>\n",
              "<style scoped>\n",
              "    .dataframe tbody tr th:only-of-type {\n",
              "        vertical-align: middle;\n",
              "    }\n",
              "\n",
              "    .dataframe tbody tr th {\n",
              "        vertical-align: top;\n",
              "    }\n",
              "\n",
              "    .dataframe thead th {\n",
              "        text-align: right;\n",
              "    }\n",
              "</style>\n",
              "<table border=\"1\" class=\"dataframe\">\n",
              "  <thead>\n",
              "    <tr style=\"text-align: right;\">\n",
              "      <th></th>\n",
              "      <th></th>\n",
              "      <th>Code</th>\n",
              "      <th>Robbery</th>\n",
              "      <th>Street_robbery</th>\n",
              "      <th>Injury</th>\n",
              "      <th>Agg_assault</th>\n",
              "      <th>Threat</th>\n",
              "      <th>Theft</th>\n",
              "      <th>Car</th>\n",
              "      <th>From_car</th>\n",
              "      <th>Bike</th>\n",
              "      <th>Burglary</th>\n",
              "      <th>Fire</th>\n",
              "      <th>Arson</th>\n",
              "      <th>Damage</th>\n",
              "      <th>Graffiti</th>\n",
              "      <th>Drugs</th>\n",
              "      <th>Local</th>\n",
              "    </tr>\n",
              "    <tr>\n",
              "      <th>District</th>\n",
              "      <th>Year</th>\n",
              "      <th></th>\n",
              "      <th></th>\n",
              "      <th></th>\n",
              "      <th></th>\n",
              "      <th></th>\n",
              "      <th></th>\n",
              "      <th></th>\n",
              "      <th></th>\n",
              "      <th></th>\n",
              "      <th></th>\n",
              "      <th></th>\n",
              "      <th></th>\n",
              "      <th></th>\n",
              "      <th></th>\n",
              "      <th></th>\n",
              "      <th></th>\n",
              "      <th></th>\n",
              "    </tr>\n",
              "  </thead>\n",
              "  <tbody>\n",
              "    <tr>\n",
              "      <th rowspan=\"5\" valign=\"top\">Charlottenburg-Wilmersdorf</th>\n",
              "      <th>2012-01-01</th>\n",
              "      <td>735953</td>\n",
              "      <td>643</td>\n",
              "      <td>248</td>\n",
              "      <td>4224</td>\n",
              "      <td>1195</td>\n",
              "      <td>1427</td>\n",
              "      <td>24061</td>\n",
              "      <td>707</td>\n",
              "      <td>3770</td>\n",
              "      <td>3173</td>\n",
              "      <td>1544</td>\n",
              "      <td>133</td>\n",
              "      <td>45</td>\n",
              "      <td>3975</td>\n",
              "      <td>847</td>\n",
              "      <td>1064</td>\n",
              "      <td>9997</td>\n",
              "    </tr>\n",
              "    <tr>\n",
              "      <th>2013-01-01</th>\n",
              "      <td>735953</td>\n",
              "      <td>639</td>\n",
              "      <td>258</td>\n",
              "      <td>3998</td>\n",
              "      <td>1049</td>\n",
              "      <td>1507</td>\n",
              "      <td>25733</td>\n",
              "      <td>720</td>\n",
              "      <td>4686</td>\n",
              "      <td>2973</td>\n",
              "      <td>1663</td>\n",
              "      <td>149</td>\n",
              "      <td>64</td>\n",
              "      <td>3759</td>\n",
              "      <td>889</td>\n",
              "      <td>1180</td>\n",
              "      <td>10062</td>\n",
              "    </tr>\n",
              "    <tr>\n",
              "      <th>2014-01-01</th>\n",
              "      <td>735953</td>\n",
              "      <td>641</td>\n",
              "      <td>338</td>\n",
              "      <td>3840</td>\n",
              "      <td>907</td>\n",
              "      <td>1493</td>\n",
              "      <td>26829</td>\n",
              "      <td>767</td>\n",
              "      <td>4674</td>\n",
              "      <td>3117</td>\n",
              "      <td>1746</td>\n",
              "      <td>134</td>\n",
              "      <td>58</td>\n",
              "      <td>3422</td>\n",
              "      <td>769</td>\n",
              "      <td>1208</td>\n",
              "      <td>10047</td>\n",
              "    </tr>\n",
              "    <tr>\n",
              "      <th>2015-01-01</th>\n",
              "      <td>735953</td>\n",
              "      <td>536</td>\n",
              "      <td>288</td>\n",
              "      <td>3805</td>\n",
              "      <td>880</td>\n",
              "      <td>1355</td>\n",
              "      <td>30622</td>\n",
              "      <td>741</td>\n",
              "      <td>4499</td>\n",
              "      <td>3824</td>\n",
              "      <td>1567</td>\n",
              "      <td>145</td>\n",
              "      <td>64</td>\n",
              "      <td>3401</td>\n",
              "      <td>548</td>\n",
              "      <td>885</td>\n",
              "      <td>10407</td>\n",
              "    </tr>\n",
              "    <tr>\n",
              "      <th>2016-01-01</th>\n",
              "      <td>735953</td>\n",
              "      <td>523</td>\n",
              "      <td>292</td>\n",
              "      <td>3919</td>\n",
              "      <td>865</td>\n",
              "      <td>1418</td>\n",
              "      <td>28893</td>\n",
              "      <td>755</td>\n",
              "      <td>4345</td>\n",
              "      <td>3446</td>\n",
              "      <td>1095</td>\n",
              "      <td>175</td>\n",
              "      <td>83</td>\n",
              "      <td>3497</td>\n",
              "      <td>668</td>\n",
              "      <td>948</td>\n",
              "      <td>9441</td>\n",
              "    </tr>\n",
              "    <tr>\n",
              "      <th>...</th>\n",
              "      <th>...</th>\n",
              "      <td>...</td>\n",
              "      <td>...</td>\n",
              "      <td>...</td>\n",
              "      <td>...</td>\n",
              "      <td>...</td>\n",
              "      <td>...</td>\n",
              "      <td>...</td>\n",
              "      <td>...</td>\n",
              "      <td>...</td>\n",
              "      <td>...</td>\n",
              "      <td>...</td>\n",
              "      <td>...</td>\n",
              "      <td>...</td>\n",
              "      <td>...</td>\n",
              "      <td>...</td>\n",
              "      <td>...</td>\n",
              "      <td>...</td>\n",
              "    </tr>\n",
              "    <tr>\n",
              "      <th rowspan=\"5\" valign=\"top\">Treptow-Köpenick</th>\n",
              "      <th>2015-01-01</th>\n",
              "      <td>1906110</td>\n",
              "      <td>197</td>\n",
              "      <td>98</td>\n",
              "      <td>1860</td>\n",
              "      <td>434</td>\n",
              "      <td>730</td>\n",
              "      <td>11706</td>\n",
              "      <td>460</td>\n",
              "      <td>1760</td>\n",
              "      <td>2079</td>\n",
              "      <td>709</td>\n",
              "      <td>155</td>\n",
              "      <td>70</td>\n",
              "      <td>2360</td>\n",
              "      <td>462</td>\n",
              "      <td>517</td>\n",
              "      <td>4798</td>\n",
              "    </tr>\n",
              "    <tr>\n",
              "      <th>2016-01-01</th>\n",
              "      <td>1906110</td>\n",
              "      <td>146</td>\n",
              "      <td>85</td>\n",
              "      <td>2139</td>\n",
              "      <td>451</td>\n",
              "      <td>718</td>\n",
              "      <td>12524</td>\n",
              "      <td>676</td>\n",
              "      <td>1772</td>\n",
              "      <td>2772</td>\n",
              "      <td>693</td>\n",
              "      <td>161</td>\n",
              "      <td>81</td>\n",
              "      <td>2388</td>\n",
              "      <td>513</td>\n",
              "      <td>371</td>\n",
              "      <td>4979</td>\n",
              "    </tr>\n",
              "    <tr>\n",
              "      <th>2017-01-01</th>\n",
              "      <td>1906110</td>\n",
              "      <td>200</td>\n",
              "      <td>113</td>\n",
              "      <td>2306</td>\n",
              "      <td>497</td>\n",
              "      <td>750</td>\n",
              "      <td>11453</td>\n",
              "      <td>674</td>\n",
              "      <td>2100</td>\n",
              "      <td>2023</td>\n",
              "      <td>439</td>\n",
              "      <td>105</td>\n",
              "      <td>48</td>\n",
              "      <td>2871</td>\n",
              "      <td>890</td>\n",
              "      <td>495</td>\n",
              "      <td>5042</td>\n",
              "    </tr>\n",
              "    <tr>\n",
              "      <th>2018-01-01</th>\n",
              "      <td>1906110</td>\n",
              "      <td>216</td>\n",
              "      <td>125</td>\n",
              "      <td>2400</td>\n",
              "      <td>500</td>\n",
              "      <td>853</td>\n",
              "      <td>11145</td>\n",
              "      <td>466</td>\n",
              "      <td>1735</td>\n",
              "      <td>2139</td>\n",
              "      <td>496</td>\n",
              "      <td>176</td>\n",
              "      <td>75</td>\n",
              "      <td>2673</td>\n",
              "      <td>687</td>\n",
              "      <td>574</td>\n",
              "      <td>5337</td>\n",
              "    </tr>\n",
              "    <tr>\n",
              "      <th>2019-01-01</th>\n",
              "      <td>1906110</td>\n",
              "      <td>169</td>\n",
              "      <td>103</td>\n",
              "      <td>2452</td>\n",
              "      <td>562</td>\n",
              "      <td>859</td>\n",
              "      <td>11108</td>\n",
              "      <td>582</td>\n",
              "      <td>1733</td>\n",
              "      <td>2152</td>\n",
              "      <td>458</td>\n",
              "      <td>219</td>\n",
              "      <td>110</td>\n",
              "      <td>2830</td>\n",
              "      <td>636</td>\n",
              "      <td>633</td>\n",
              "      <td>5816</td>\n",
              "    </tr>\n",
              "  </tbody>\n",
              "</table>\n",
              "<p>96 rows × 17 columns</p>\n",
              "</div>"
            ],
            "text/plain": [
              "                                          Code  Robbery  ...  Drugs  Local\n",
              "District                   Year                          ...              \n",
              "Charlottenburg-Wilmersdorf 2012-01-01   735953      643  ...   1064   9997\n",
              "                           2013-01-01   735953      639  ...   1180  10062\n",
              "                           2014-01-01   735953      641  ...   1208  10047\n",
              "                           2015-01-01   735953      536  ...    885  10407\n",
              "                           2016-01-01   735953      523  ...    948   9441\n",
              "...                                        ...      ...  ...    ...    ...\n",
              "Treptow-Köpenick           2015-01-01  1906110      197  ...    517   4798\n",
              "                           2016-01-01  1906110      146  ...    371   4979\n",
              "                           2017-01-01  1906110      200  ...    495   5042\n",
              "                           2018-01-01  1906110      216  ...    574   5337\n",
              "                           2019-01-01  1906110      169  ...    633   5816\n",
              "\n",
              "[96 rows x 17 columns]"
            ]
          },
          "metadata": {
            "tags": []
          },
          "execution_count": 43
        }
      ]
    },
    {
      "cell_type": "code",
      "metadata": {
        "colab": {
          "base_uri": "https://localhost:8080/",
          "height": 454
        },
        "id": "y_stsAxvyD5s",
        "outputId": "b7e2c19d-5d10-41a2-d184-84feb0e44629"
      },
      "source": [
        "crime_years_districts = df_cr.groupby(by=['Year','District']).sum()\n"
      ],
      "execution_count": null,
      "outputs": [
        {
          "output_type": "execute_result",
          "data": {
            "text/html": [
              "<div>\n",
              "<style scoped>\n",
              "    .dataframe tbody tr th:only-of-type {\n",
              "        vertical-align: middle;\n",
              "    }\n",
              "\n",
              "    .dataframe tbody tr th {\n",
              "        vertical-align: top;\n",
              "    }\n",
              "\n",
              "    .dataframe thead th {\n",
              "        text-align: right;\n",
              "    }\n",
              "</style>\n",
              "<table border=\"1\" class=\"dataframe\">\n",
              "  <thead>\n",
              "    <tr style=\"text-align: right;\">\n",
              "      <th></th>\n",
              "      <th></th>\n",
              "      <th>Code</th>\n",
              "      <th>Robbery</th>\n",
              "      <th>Street_robbery</th>\n",
              "      <th>Injury</th>\n",
              "      <th>Agg_assault</th>\n",
              "      <th>Threat</th>\n",
              "      <th>Theft</th>\n",
              "      <th>Car</th>\n",
              "      <th>From_car</th>\n",
              "      <th>Bike</th>\n",
              "      <th>Burglary</th>\n",
              "      <th>Fire</th>\n",
              "      <th>Arson</th>\n",
              "      <th>Damage</th>\n",
              "      <th>Graffiti</th>\n",
              "      <th>Drugs</th>\n",
              "      <th>Local</th>\n",
              "    </tr>\n",
              "    <tr>\n",
              "      <th>Year</th>\n",
              "      <th>District</th>\n",
              "      <th></th>\n",
              "      <th></th>\n",
              "      <th></th>\n",
              "      <th></th>\n",
              "      <th></th>\n",
              "      <th></th>\n",
              "      <th></th>\n",
              "      <th></th>\n",
              "      <th></th>\n",
              "      <th></th>\n",
              "      <th></th>\n",
              "      <th></th>\n",
              "      <th></th>\n",
              "      <th></th>\n",
              "      <th></th>\n",
              "      <th></th>\n",
              "      <th></th>\n",
              "    </tr>\n",
              "  </thead>\n",
              "  <tbody>\n",
              "    <tr>\n",
              "      <th rowspan=\"5\" valign=\"top\">2012</th>\n",
              "      <th>Charlottenburg-Wilmersdorf</th>\n",
              "      <td>735953</td>\n",
              "      <td>643</td>\n",
              "      <td>248</td>\n",
              "      <td>4224</td>\n",
              "      <td>1195</td>\n",
              "      <td>1427</td>\n",
              "      <td>24061</td>\n",
              "      <td>707</td>\n",
              "      <td>3770</td>\n",
              "      <td>3173</td>\n",
              "      <td>1544</td>\n",
              "      <td>133</td>\n",
              "      <td>45</td>\n",
              "      <td>3975</td>\n",
              "      <td>847</td>\n",
              "      <td>1064</td>\n",
              "      <td>9997</td>\n",
              "    </tr>\n",
              "    <tr>\n",
              "      <th>Friedrichshain-Kreuzberg</th>\n",
              "      <td>192636</td>\n",
              "      <td>868</td>\n",
              "      <td>504</td>\n",
              "      <td>4613</td>\n",
              "      <td>1383</td>\n",
              "      <td>1153</td>\n",
              "      <td>22050</td>\n",
              "      <td>436</td>\n",
              "      <td>2380</td>\n",
              "      <td>3285</td>\n",
              "      <td>1214</td>\n",
              "      <td>314</td>\n",
              "      <td>105</td>\n",
              "      <td>5499</td>\n",
              "      <td>1311</td>\n",
              "      <td>1853</td>\n",
              "      <td>11001</td>\n",
              "    </tr>\n",
              "    <tr>\n",
              "      <th>Lichtenberg</th>\n",
              "      <td>1553791</td>\n",
              "      <td>260</td>\n",
              "      <td>112</td>\n",
              "      <td>2570</td>\n",
              "      <td>586</td>\n",
              "      <td>789</td>\n",
              "      <td>11911</td>\n",
              "      <td>445</td>\n",
              "      <td>1979</td>\n",
              "      <td>1418</td>\n",
              "      <td>632</td>\n",
              "      <td>187</td>\n",
              "      <td>67</td>\n",
              "      <td>3355</td>\n",
              "      <td>896</td>\n",
              "      <td>335</td>\n",
              "      <td>6252</td>\n",
              "    </tr>\n",
              "    <tr>\n",
              "      <th>Marzahn-Hellersdorf</th>\n",
              "      <td>1011945</td>\n",
              "      <td>331</td>\n",
              "      <td>148</td>\n",
              "      <td>3052</td>\n",
              "      <td>625</td>\n",
              "      <td>929</td>\n",
              "      <td>9714</td>\n",
              "      <td>451</td>\n",
              "      <td>1778</td>\n",
              "      <td>1075</td>\n",
              "      <td>457</td>\n",
              "      <td>242</td>\n",
              "      <td>77</td>\n",
              "      <td>3435</td>\n",
              "      <td>800</td>\n",
              "      <td>308</td>\n",
              "      <td>6202</td>\n",
              "    </tr>\n",
              "    <tr>\n",
              "      <th>Mitte</th>\n",
              "      <td>122339</td>\n",
              "      <td>1253</td>\n",
              "      <td>610</td>\n",
              "      <td>7921</td>\n",
              "      <td>2362</td>\n",
              "      <td>2242</td>\n",
              "      <td>36486</td>\n",
              "      <td>620</td>\n",
              "      <td>4317</td>\n",
              "      <td>3358</td>\n",
              "      <td>1695</td>\n",
              "      <td>354</td>\n",
              "      <td>140</td>\n",
              "      <td>6180</td>\n",
              "      <td>1346</td>\n",
              "      <td>2849</td>\n",
              "      <td>16545</td>\n",
              "    </tr>\n",
              "    <tr>\n",
              "      <th>...</th>\n",
              "      <th>...</th>\n",
              "      <td>...</td>\n",
              "      <td>...</td>\n",
              "      <td>...</td>\n",
              "      <td>...</td>\n",
              "      <td>...</td>\n",
              "      <td>...</td>\n",
              "      <td>...</td>\n",
              "      <td>...</td>\n",
              "      <td>...</td>\n",
              "      <td>...</td>\n",
              "      <td>...</td>\n",
              "      <td>...</td>\n",
              "      <td>...</td>\n",
              "      <td>...</td>\n",
              "      <td>...</td>\n",
              "      <td>...</td>\n",
              "      <td>...</td>\n",
              "    </tr>\n",
              "    <tr>\n",
              "      <th rowspan=\"5\" valign=\"top\">2019</th>\n",
              "      <th>Reinickendorf</th>\n",
              "      <td>1475044</td>\n",
              "      <td>236</td>\n",
              "      <td>129</td>\n",
              "      <td>2614</td>\n",
              "      <td>644</td>\n",
              "      <td>1092</td>\n",
              "      <td>9989</td>\n",
              "      <td>311</td>\n",
              "      <td>1706</td>\n",
              "      <td>1082</td>\n",
              "      <td>623</td>\n",
              "      <td>145</td>\n",
              "      <td>60</td>\n",
              "      <td>2227</td>\n",
              "      <td>428</td>\n",
              "      <td>843</td>\n",
              "      <td>5717</td>\n",
              "    </tr>\n",
              "    <tr>\n",
              "      <th>Spandau</th>\n",
              "      <td>511845</td>\n",
              "      <td>211</td>\n",
              "      <td>97</td>\n",
              "      <td>2744</td>\n",
              "      <td>619</td>\n",
              "      <td>1057</td>\n",
              "      <td>9694</td>\n",
              "      <td>397</td>\n",
              "      <td>1349</td>\n",
              "      <td>903</td>\n",
              "      <td>395</td>\n",
              "      <td>194</td>\n",
              "      <td>97</td>\n",
              "      <td>2332</td>\n",
              "      <td>236</td>\n",
              "      <td>606</td>\n",
              "      <td>5941</td>\n",
              "    </tr>\n",
              "    <tr>\n",
              "      <th>Steglitz-Zehlendorf</th>\n",
              "      <td>551936</td>\n",
              "      <td>217</td>\n",
              "      <td>128</td>\n",
              "      <td>1884</td>\n",
              "      <td>362</td>\n",
              "      <td>862</td>\n",
              "      <td>11356</td>\n",
              "      <td>402</td>\n",
              "      <td>1927</td>\n",
              "      <td>2146</td>\n",
              "      <td>777</td>\n",
              "      <td>194</td>\n",
              "      <td>72</td>\n",
              "      <td>2709</td>\n",
              "      <td>756</td>\n",
              "      <td>412</td>\n",
              "      <td>4876</td>\n",
              "    </tr>\n",
              "    <tr>\n",
              "      <th>Tempelhof-Schöneberg</th>\n",
              "      <td>572728</td>\n",
              "      <td>352</td>\n",
              "      <td>202</td>\n",
              "      <td>3353</td>\n",
              "      <td>762</td>\n",
              "      <td>1377</td>\n",
              "      <td>17618</td>\n",
              "      <td>464</td>\n",
              "      <td>2554</td>\n",
              "      <td>2511</td>\n",
              "      <td>779</td>\n",
              "      <td>213</td>\n",
              "      <td>89</td>\n",
              "      <td>3599</td>\n",
              "      <td>934</td>\n",
              "      <td>1209</td>\n",
              "      <td>8879</td>\n",
              "    </tr>\n",
              "    <tr>\n",
              "      <th>Treptow-Köpenick</th>\n",
              "      <td>1906110</td>\n",
              "      <td>169</td>\n",
              "      <td>103</td>\n",
              "      <td>2452</td>\n",
              "      <td>562</td>\n",
              "      <td>859</td>\n",
              "      <td>11108</td>\n",
              "      <td>582</td>\n",
              "      <td>1733</td>\n",
              "      <td>2152</td>\n",
              "      <td>458</td>\n",
              "      <td>219</td>\n",
              "      <td>110</td>\n",
              "      <td>2830</td>\n",
              "      <td>636</td>\n",
              "      <td>633</td>\n",
              "      <td>5816</td>\n",
              "    </tr>\n",
              "  </tbody>\n",
              "</table>\n",
              "<p>96 rows × 17 columns</p>\n",
              "</div>"
            ],
            "text/plain": [
              "                                    Code  Robbery  ...  Drugs  Local\n",
              "Year District                                      ...              \n",
              "2012 Charlottenburg-Wilmersdorf   735953      643  ...   1064   9997\n",
              "     Friedrichshain-Kreuzberg     192636      868  ...   1853  11001\n",
              "     Lichtenberg                 1553791      260  ...    335   6252\n",
              "     Marzahn-Hellersdorf         1011945      331  ...    308   6202\n",
              "     Mitte                        122339     1253  ...   2849  16545\n",
              "...                                  ...      ...  ...    ...    ...\n",
              "2019 Reinickendorf               1475044      236  ...    843   5717\n",
              "     Spandau                      511845      211  ...    606   5941\n",
              "     Steglitz-Zehlendorf          551936      217  ...    412   4876\n",
              "     Tempelhof-Schöneberg         572728      352  ...   1209   8879\n",
              "     Treptow-Köpenick            1906110      169  ...    633   5816\n",
              "\n",
              "[96 rows x 17 columns]"
            ]
          },
          "metadata": {
            "tags": []
          },
          "execution_count": 7
        }
      ]
    },
    {
      "cell_type": "code",
      "metadata": {
        "colab": {
          "base_uri": "https://localhost:8080/",
          "height": 457
        },
        "id": "s8388vxdylJ3",
        "outputId": "de220bfa-6b4f-40ae-8d2a-ea3f35b7009f"
      },
      "source": [
        "df_cr[df_cr['Year']==2012].groupby(by=['Year','District']).sum()"
      ],
      "execution_count": null,
      "outputs": [
        {
          "output_type": "execute_result",
          "data": {
            "text/html": [
              "<div>\n",
              "<style scoped>\n",
              "    .dataframe tbody tr th:only-of-type {\n",
              "        vertical-align: middle;\n",
              "    }\n",
              "\n",
              "    .dataframe tbody tr th {\n",
              "        vertical-align: top;\n",
              "    }\n",
              "\n",
              "    .dataframe thead th {\n",
              "        text-align: right;\n",
              "    }\n",
              "</style>\n",
              "<table border=\"1\" class=\"dataframe\">\n",
              "  <thead>\n",
              "    <tr style=\"text-align: right;\">\n",
              "      <th></th>\n",
              "      <th></th>\n",
              "      <th>Code</th>\n",
              "      <th>Robbery</th>\n",
              "      <th>Street_robbery</th>\n",
              "      <th>Injury</th>\n",
              "      <th>Agg_assault</th>\n",
              "      <th>Threat</th>\n",
              "      <th>Theft</th>\n",
              "      <th>Car</th>\n",
              "      <th>From_car</th>\n",
              "      <th>Bike</th>\n",
              "      <th>Burglary</th>\n",
              "      <th>Fire</th>\n",
              "      <th>Arson</th>\n",
              "      <th>Damage</th>\n",
              "      <th>Graffiti</th>\n",
              "      <th>Drugs</th>\n",
              "      <th>Local</th>\n",
              "    </tr>\n",
              "    <tr>\n",
              "      <th>Year</th>\n",
              "      <th>District</th>\n",
              "      <th></th>\n",
              "      <th></th>\n",
              "      <th></th>\n",
              "      <th></th>\n",
              "      <th></th>\n",
              "      <th></th>\n",
              "      <th></th>\n",
              "      <th></th>\n",
              "      <th></th>\n",
              "      <th></th>\n",
              "      <th></th>\n",
              "      <th></th>\n",
              "      <th></th>\n",
              "      <th></th>\n",
              "      <th></th>\n",
              "      <th></th>\n",
              "      <th></th>\n",
              "    </tr>\n",
              "  </thead>\n",
              "  <tbody>\n",
              "    <tr>\n",
              "      <th rowspan=\"12\" valign=\"top\">2012</th>\n",
              "      <th>Charlottenburg-Wilmersdorf</th>\n",
              "      <td>735953</td>\n",
              "      <td>643</td>\n",
              "      <td>248</td>\n",
              "      <td>4224</td>\n",
              "      <td>1195</td>\n",
              "      <td>1427</td>\n",
              "      <td>24061</td>\n",
              "      <td>707</td>\n",
              "      <td>3770</td>\n",
              "      <td>3173</td>\n",
              "      <td>1544</td>\n",
              "      <td>133</td>\n",
              "      <td>45</td>\n",
              "      <td>3975</td>\n",
              "      <td>847</td>\n",
              "      <td>1064</td>\n",
              "      <td>9997</td>\n",
              "    </tr>\n",
              "    <tr>\n",
              "      <th>Friedrichshain-Kreuzberg</th>\n",
              "      <td>192636</td>\n",
              "      <td>868</td>\n",
              "      <td>504</td>\n",
              "      <td>4613</td>\n",
              "      <td>1383</td>\n",
              "      <td>1153</td>\n",
              "      <td>22050</td>\n",
              "      <td>436</td>\n",
              "      <td>2380</td>\n",
              "      <td>3285</td>\n",
              "      <td>1214</td>\n",
              "      <td>314</td>\n",
              "      <td>105</td>\n",
              "      <td>5499</td>\n",
              "      <td>1311</td>\n",
              "      <td>1853</td>\n",
              "      <td>11001</td>\n",
              "    </tr>\n",
              "    <tr>\n",
              "      <th>Lichtenberg</th>\n",
              "      <td>1553791</td>\n",
              "      <td>260</td>\n",
              "      <td>112</td>\n",
              "      <td>2570</td>\n",
              "      <td>586</td>\n",
              "      <td>789</td>\n",
              "      <td>11911</td>\n",
              "      <td>445</td>\n",
              "      <td>1979</td>\n",
              "      <td>1418</td>\n",
              "      <td>632</td>\n",
              "      <td>187</td>\n",
              "      <td>67</td>\n",
              "      <td>3355</td>\n",
              "      <td>896</td>\n",
              "      <td>335</td>\n",
              "      <td>6252</td>\n",
              "    </tr>\n",
              "    <tr>\n",
              "      <th>Marzahn-Hellersdorf</th>\n",
              "      <td>1011945</td>\n",
              "      <td>331</td>\n",
              "      <td>148</td>\n",
              "      <td>3052</td>\n",
              "      <td>625</td>\n",
              "      <td>929</td>\n",
              "      <td>9714</td>\n",
              "      <td>451</td>\n",
              "      <td>1778</td>\n",
              "      <td>1075</td>\n",
              "      <td>457</td>\n",
              "      <td>242</td>\n",
              "      <td>77</td>\n",
              "      <td>3435</td>\n",
              "      <td>800</td>\n",
              "      <td>308</td>\n",
              "      <td>6202</td>\n",
              "    </tr>\n",
              "    <tr>\n",
              "      <th>Mitte</th>\n",
              "      <td>122339</td>\n",
              "      <td>1253</td>\n",
              "      <td>610</td>\n",
              "      <td>7921</td>\n",
              "      <td>2362</td>\n",
              "      <td>2242</td>\n",
              "      <td>36486</td>\n",
              "      <td>620</td>\n",
              "      <td>4317</td>\n",
              "      <td>3358</td>\n",
              "      <td>1695</td>\n",
              "      <td>354</td>\n",
              "      <td>140</td>\n",
              "      <td>6180</td>\n",
              "      <td>1346</td>\n",
              "      <td>2849</td>\n",
              "      <td>16545</td>\n",
              "    </tr>\n",
              "    <tr>\n",
              "      <th>Neukölln</th>\n",
              "      <td>891955</td>\n",
              "      <td>767</td>\n",
              "      <td>379</td>\n",
              "      <td>4368</td>\n",
              "      <td>1272</td>\n",
              "      <td>1594</td>\n",
              "      <td>19121</td>\n",
              "      <td>394</td>\n",
              "      <td>2872</td>\n",
              "      <td>1453</td>\n",
              "      <td>1388</td>\n",
              "      <td>242</td>\n",
              "      <td>95</td>\n",
              "      <td>4558</td>\n",
              "      <td>789</td>\n",
              "      <td>1578</td>\n",
              "      <td>11342</td>\n",
              "    </tr>\n",
              "    <tr>\n",
              "      <th>Pankow</th>\n",
              "      <td>527136</td>\n",
              "      <td>410</td>\n",
              "      <td>166</td>\n",
              "      <td>2790</td>\n",
              "      <td>687</td>\n",
              "      <td>963</td>\n",
              "      <td>20310</td>\n",
              "      <td>770</td>\n",
              "      <td>2553</td>\n",
              "      <td>4139</td>\n",
              "      <td>1092</td>\n",
              "      <td>207</td>\n",
              "      <td>83</td>\n",
              "      <td>4722</td>\n",
              "      <td>1294</td>\n",
              "      <td>522</td>\n",
              "      <td>8441</td>\n",
              "    </tr>\n",
              "    <tr>\n",
              "      <th>Reinickendorf</th>\n",
              "      <td>1475044</td>\n",
              "      <td>337</td>\n",
              "      <td>131</td>\n",
              "      <td>2876</td>\n",
              "      <td>713</td>\n",
              "      <td>1191</td>\n",
              "      <td>12898</td>\n",
              "      <td>369</td>\n",
              "      <td>2464</td>\n",
              "      <td>1540</td>\n",
              "      <td>985</td>\n",
              "      <td>193</td>\n",
              "      <td>63</td>\n",
              "      <td>3295</td>\n",
              "      <td>635</td>\n",
              "      <td>1024</td>\n",
              "      <td>6815</td>\n",
              "    </tr>\n",
              "    <tr>\n",
              "      <th>Spandau</th>\n",
              "      <td>511845</td>\n",
              "      <td>359</td>\n",
              "      <td>143</td>\n",
              "      <td>2848</td>\n",
              "      <td>700</td>\n",
              "      <td>1090</td>\n",
              "      <td>11084</td>\n",
              "      <td>253</td>\n",
              "      <td>1470</td>\n",
              "      <td>1058</td>\n",
              "      <td>589</td>\n",
              "      <td>175</td>\n",
              "      <td>61</td>\n",
              "      <td>3257</td>\n",
              "      <td>542</td>\n",
              "      <td>481</td>\n",
              "      <td>7225</td>\n",
              "    </tr>\n",
              "    <tr>\n",
              "      <th>Steglitz-Zehlendorf</th>\n",
              "      <td>551936</td>\n",
              "      <td>284</td>\n",
              "      <td>110</td>\n",
              "      <td>1752</td>\n",
              "      <td>348</td>\n",
              "      <td>849</td>\n",
              "      <td>12410</td>\n",
              "      <td>466</td>\n",
              "      <td>2376</td>\n",
              "      <td>1568</td>\n",
              "      <td>961</td>\n",
              "      <td>115</td>\n",
              "      <td>39</td>\n",
              "      <td>3082</td>\n",
              "      <td>772</td>\n",
              "      <td>298</td>\n",
              "      <td>4818</td>\n",
              "    </tr>\n",
              "    <tr>\n",
              "      <th>Tempelhof-Schöneberg</th>\n",
              "      <td>572728</td>\n",
              "      <td>546</td>\n",
              "      <td>241</td>\n",
              "      <td>3216</td>\n",
              "      <td>735</td>\n",
              "      <td>1301</td>\n",
              "      <td>17414</td>\n",
              "      <td>504</td>\n",
              "      <td>2973</td>\n",
              "      <td>2169</td>\n",
              "      <td>1123</td>\n",
              "      <td>208</td>\n",
              "      <td>69</td>\n",
              "      <td>3907</td>\n",
              "      <td>822</td>\n",
              "      <td>1066</td>\n",
              "      <td>8263</td>\n",
              "    </tr>\n",
              "    <tr>\n",
              "      <th>Treptow-Köpenick</th>\n",
              "      <td>1906110</td>\n",
              "      <td>225</td>\n",
              "      <td>94</td>\n",
              "      <td>1923</td>\n",
              "      <td>426</td>\n",
              "      <td>668</td>\n",
              "      <td>9881</td>\n",
              "      <td>317</td>\n",
              "      <td>1571</td>\n",
              "      <td>1600</td>\n",
              "      <td>605</td>\n",
              "      <td>144</td>\n",
              "      <td>60</td>\n",
              "      <td>3317</td>\n",
              "      <td>1016</td>\n",
              "      <td>309</td>\n",
              "      <td>4571</td>\n",
              "    </tr>\n",
              "  </tbody>\n",
              "</table>\n",
              "</div>"
            ],
            "text/plain": [
              "                                    Code  Robbery  ...  Drugs  Local\n",
              "Year District                                      ...              \n",
              "2012 Charlottenburg-Wilmersdorf   735953      643  ...   1064   9997\n",
              "     Friedrichshain-Kreuzberg     192636      868  ...   1853  11001\n",
              "     Lichtenberg                 1553791      260  ...    335   6252\n",
              "     Marzahn-Hellersdorf         1011945      331  ...    308   6202\n",
              "     Mitte                        122339     1253  ...   2849  16545\n",
              "     Neukölln                     891955      767  ...   1578  11342\n",
              "     Pankow                       527136      410  ...    522   8441\n",
              "     Reinickendorf               1475044      337  ...   1024   6815\n",
              "     Spandau                      511845      359  ...    481   7225\n",
              "     Steglitz-Zehlendorf          551936      284  ...    298   4818\n",
              "     Tempelhof-Schöneberg         572728      546  ...   1066   8263\n",
              "     Treptow-Köpenick            1906110      225  ...    309   4571\n",
              "\n",
              "[12 rows x 17 columns]"
            ]
          },
          "metadata": {
            "tags": []
          },
          "execution_count": 11
        }
      ]
    },
    {
      "cell_type": "markdown",
      "metadata": {
        "id": "0sEJP_OP4B6V"
      },
      "source": [
        "### Time-Series Prediction"
      ]
    },
    {
      "cell_type": "code",
      "metadata": {
        "id": "OE7uAofp06V0"
      },
      "source": [
        "from sklearn.linear_model import LinearRegression\n",
        "from sklearn.model_selection import train_test_split"
      ],
      "execution_count": null,
      "outputs": []
    },
    {
      "cell_type": "code",
      "metadata": {
        "id": "fR4KGPO84Ta1"
      },
      "source": [
        "#X = Data.drop(['name of the target column'],axis=1).values\n",
        "#y = Data['name of the target column'].values\n",
        "#X_train,X_test,y_train,y_test = train_test_split(X,y,random_state=0)"
      ],
      "execution_count": null,
      "outputs": []
    },
    {
      "cell_type": "code",
      "metadata": {
        "colab": {
          "base_uri": "https://localhost:8080/"
        },
        "id": "soTKY30BEkO-",
        "outputId": "c7e5ef42-14e6-4fc4-9fdb-81ebd932986d"
      },
      "source": [
        "from dateutil.parser import parse \n",
        "from statsmodels.tsa.seasonal import seasonal_decompose\n",
        "plt.rcParams.update({'figure.figsize': (10, 7), 'figure.dpi': 120})\n",
        "import matplotlib as mpl\n"
      ],
      "execution_count": null,
      "outputs": [
        {
          "output_type": "stream",
          "text": [
            "/usr/local/lib/python3.7/dist-packages/statsmodels/tools/_testing.py:19: FutureWarning: pandas.util.testing is deprecated. Use the functions in the public API at pandas.testing instead.\n",
            "  import pandas.util.testing as tm\n"
          ],
          "name": "stderr"
        }
      ]
    },
    {
      "cell_type": "code",
      "metadata": {
        "colab": {
          "base_uri": "https://localhost:8080/",
          "height": 480
        },
        "id": "QlTQfJmaEtq1",
        "outputId": "78d9ab1a-e913-46c5-8ed2-44086efaf6ca"
      },
      "source": [
        "# Draw Plot\n",
        "def plot_df(berlin_crime, x, y, title=\"\", xlabel='Date', ylabel='Value', dpi=100):\n",
        "    plt.figure(figsize=(16,5), dpi=dpi)\n",
        "    plt.plot(x, y, color='tab:red')\n",
        "    plt.gca().set(title=title, xlabel=xlabel, ylabel=ylabel)\n",
        "    plt.show()\n",
        "\n",
        "plot_df(berlin_crime, x=berlin_crime.Year, y=berlin_crime.Robbery, title='Development of robbery crimes in Berlin')    "
      ],
      "execution_count": null,
      "outputs": [
        {
          "output_type": "display_data",
          "data": {
            "image/png": "[encoded data removed]",
            "text/plain": [
              "<Figure size 1600x500 with 1 Axes>"
            ]
          },
          "metadata": {
            "tags": [],
            "needs_background": "light"
          }
        }
      ]
    },
    {
      "cell_type": "code",
      "metadata": {
        "colab": {
          "base_uri": "https://localhost:8080/",
          "height": 381
        },
        "id": "0qigg71ZGHan",
        "outputId": "a51022b7-c18e-48ea-e600-538f97627ae3"
      },
      "source": [
        "## saving the groupby statement as csv with Year as index\n",
        "bc = df_cr.groupby(by=['Year']).sum()\n",
        "bc.head()\n",
        "\n"
      ],
      "execution_count": null,
      "outputs": [
        {
          "output_type": "error",
          "ename": "KeyError",
          "evalue": "ignored",
          "traceback": [
            "\u001b[0;31m---------------------------------------------------------------------------\u001b[0m",
            "\u001b[0;31mKeyError\u001b[0m                                  Traceback (most recent call last)",
            "\u001b[0;32m<ipython-input-38-ecc84c104014>\u001b[0m in \u001b[0;36m<module>\u001b[0;34m()\u001b[0m\n\u001b[1;32m      3\u001b[0m bc.melt(id_vars=[\"Year\", \"Code\"], \n\u001b[1;32m      4\u001b[0m         \u001b[0mvar_name\u001b[0m\u001b[0;34m=\u001b[0m\u001b[0;34m\"Date\"\u001b[0m\u001b[0;34m,\u001b[0m\u001b[0;34m\u001b[0m\u001b[0;34m\u001b[0m\u001b[0m\n\u001b[0;32m----> 5\u001b[0;31m         value_name=\"Value\")\n\u001b[0m\u001b[1;32m      6\u001b[0m \u001b[0mbc\u001b[0m\u001b[0;34m.\u001b[0m\u001b[0mto_csv\u001b[0m\u001b[0;34m(\u001b[0m\u001b[0;34m'berlin_crime.csv'\u001b[0m\u001b[0;34m)\u001b[0m\u001b[0;34m\u001b[0m\u001b[0;34m\u001b[0m\u001b[0m\n\u001b[1;32m      7\u001b[0m \u001b[0mbc\u001b[0m\u001b[0;34m.\u001b[0m\u001b[0mhead\u001b[0m\u001b[0;34m(\u001b[0m\u001b[0;34m)\u001b[0m\u001b[0;34m\u001b[0m\u001b[0;34m\u001b[0m\u001b[0m\n",
            "\u001b[0;32m/usr/local/lib/python3.7/dist-packages/pandas/core/frame.py\u001b[0m in \u001b[0;36mmelt\u001b[0;34m(self, id_vars, value_vars, var_name, value_name, col_level, ignore_index)\u001b[0m\n\u001b[1;32m   7171\u001b[0m             \u001b[0mvalue_name\u001b[0m\u001b[0;34m=\u001b[0m\u001b[0mvalue_name\u001b[0m\u001b[0;34m,\u001b[0m\u001b[0;34m\u001b[0m\u001b[0;34m\u001b[0m\u001b[0m\n\u001b[1;32m   7172\u001b[0m             \u001b[0mcol_level\u001b[0m\u001b[0;34m=\u001b[0m\u001b[0mcol_level\u001b[0m\u001b[0;34m,\u001b[0m\u001b[0;34m\u001b[0m\u001b[0;34m\u001b[0m\u001b[0m\n\u001b[0;32m-> 7173\u001b[0;31m             \u001b[0mignore_index\u001b[0m\u001b[0;34m=\u001b[0m\u001b[0mignore_index\u001b[0m\u001b[0;34m,\u001b[0m\u001b[0;34m\u001b[0m\u001b[0;34m\u001b[0m\u001b[0m\n\u001b[0m\u001b[1;32m   7174\u001b[0m         )\n\u001b[1;32m   7175\u001b[0m \u001b[0;34m\u001b[0m\u001b[0m\n",
            "\u001b[0;32m/usr/local/lib/python3.7/dist-packages/pandas/core/reshape/melt.py\u001b[0m in \u001b[0;36mmelt\u001b[0;34m(frame, id_vars, value_vars, var_name, value_name, col_level, ignore_index)\u001b[0m\n\u001b[1;32m     66\u001b[0m             \u001b[0;32mif\u001b[0m \u001b[0;32mnot\u001b[0m \u001b[0mmissing\u001b[0m\u001b[0;34m.\u001b[0m\u001b[0mempty\u001b[0m\u001b[0;34m:\u001b[0m\u001b[0;34m\u001b[0m\u001b[0;34m\u001b[0m\u001b[0m\n\u001b[1;32m     67\u001b[0m                 raise KeyError(\n\u001b[0;32m---> 68\u001b[0;31m                     \u001b[0;34m\"The following 'id_vars' are not present \"\u001b[0m\u001b[0;34m\u001b[0m\u001b[0;34m\u001b[0m\u001b[0m\n\u001b[0m\u001b[1;32m     69\u001b[0m                     \u001b[0;34mf\"in the DataFrame: {list(missing)}\"\u001b[0m\u001b[0;34m\u001b[0m\u001b[0;34m\u001b[0m\u001b[0m\n\u001b[1;32m     70\u001b[0m                 )\n",
            "\u001b[0;31mKeyError\u001b[0m: \"The following 'id_vars' are not present in the DataFrame: ['Year']\""
          ]
        }
      ]
    },
    {
      "cell_type": "code",
      "metadata": {
        "colab": {
          "base_uri": "https://localhost:8080/",
          "height": 1000
        },
        "id": "aQk2zvXpHGet",
        "outputId": "78a9da2a-0906-42d0-89f7-94186cb446d8"
      },
      "source": [
        "## Checking the components of the Time Series\n",
        "\n",
        "# Import Data\n",
        "df = pd.read_csv(path+'berlin_crime.csv', parse_dates=['Year'], index_col='Year')\n",
        "\n",
        "# Multiplicative Decomposition \n",
        "result_mul = seasonal_decompose(df['Robbery'], model='multiplicative', extrapolate_trend='freq')\n",
        "\n",
        "# Additive Decomposition\n",
        "result_add = seasonal_decompose(df['Robbery'], model='additive', extrapolate_trend='freq')\n",
        "\n",
        "# Plot\n",
        "plt.rcParams.update({'figure.figsize': (5,5)})\n",
        "result_mul.plot().suptitle('Multiplicative Decompose', fontsize=10)\n",
        "result_add.plot().suptitle('Additive Decompose', fontsize=10)\n",
        "plt.show()"
      ],
      "execution_count": null,
      "outputs": [
        {
          "output_type": "display_data",
          "data": {
            "image/png": "[encoded data removed]",
            "text/plain": [
              "<Figure size 600x600 with 4 Axes>"
            ]
          },
          "metadata": {
            "tags": [],
            "needs_background": "light"
          }
        },
        {
          "output_type": "display_data",
          "data": {
            "image/png": "[encoded data removed]",
            "text/plain": [
              "<Figure size 600x600 with 4 Axes>"
            ]
          },
          "metadata": {
            "tags": [],
            "needs_background": "light"
          }
        }
      ]
    },
    {
      "cell_type": "code",
      "metadata": {
        "colab": {
          "base_uri": "https://localhost:8080/"
        },
        "id": "WUOhjun3JINC",
        "outputId": "6c86ec91-650b-4f59-c41d-0e6fecf251ce"
      },
      "source": [
        "## checking for stationarity\n",
        "\n",
        "from statsmodels.tsa.stattools import adfuller, kpss\n",
        "\n",
        "# ADF Test\n",
        "result = adfuller(df.Robbery.values, autolag='AIC')\n",
        "print(f'ADF Statistic: {result[0]}')\n",
        "print(f'p-value: {result[1]}')\n",
        "for key, value in result[4].items():\n",
        "    print('Critial Values:')\n",
        "    print(f'   {key}, {value}')"
      ],
      "execution_count": null,
      "outputs": [
        {
          "output_type": "stream",
          "text": [
            "ADF Statistic: 0.7088133399789415\n",
            "p-value: 0.9900121236391749\n",
            "Critial Values:\n",
            "   1%, -6.045114\n",
            "Critial Values:\n",
            "   5%, -3.9292800000000003\n",
            "Critial Values:\n",
            "   10%, -2.98681\n"
          ],
          "name": "stdout"
        }
      ]
    },
    {
      "cell_type": "code",
      "metadata": {
        "id": "Fi18DuobL-kY"
      },
      "source": [
        ""
      ],
      "execution_count": null,
      "outputs": []
    },
    {
      "cell_type": "markdown",
      "metadata": {
        "id": "ltpzn01-MS_x"
      },
      "source": [
        "# Berlin Airbnb Data"
      ]
    },
    {
      "cell_type": "markdown",
      "metadata": {
        "id": "JZ-pPz6uNOg8"
      },
      "source": [
        "### Neighbourhoods"
      ]
    },
    {
      "cell_type": "code",
      "metadata": {
        "colab": {
          "base_uri": "https://localhost:8080/",
          "height": 278
        },
        "id": "c8VIRzH4MVo4",
        "outputId": "ff3d9d26-203f-42be-9f75-4f8e9eb4378d"
      },
      "source": [
        "## loading the neighbourhoods\n",
        "df_n = pd.read_csv(path+'berlin_neighbourhoods3.csv', encoding=\"utf-8\")\n",
        "df_n.head()"
      ],
      "execution_count": null,
      "outputs": [
        {
          "output_type": "execute_result",
          "data": {
            "text/html": [
              "<div>\n",
              "<style scoped>\n",
              "    .dataframe tbody tr th:only-of-type {\n",
              "        vertical-align: middle;\n",
              "    }\n",
              "\n",
              "    .dataframe tbody tr th {\n",
              "        vertical-align: top;\n",
              "    }\n",
              "\n",
              "    .dataframe thead th {\n",
              "        text-align: right;\n",
              "    }\n",
              "</style>\n",
              "<table border=\"1\" class=\"dataframe\">\n",
              "  <thead>\n",
              "    <tr style=\"text-align: right;\">\n",
              "      <th></th>\n",
              "      <th>city</th>\n",
              "      <th>neighbourhood_group</th>\n",
              "      <th>neighbourhood</th>\n",
              "      <th>Unnamed: 3</th>\n",
              "      <th>Unnamed: 4</th>\n",
              "      <th>Unnamed: 5</th>\n",
              "      <th>Unnamed: 6</th>\n",
              "    </tr>\n",
              "  </thead>\n",
              "  <tbody>\n",
              "    <tr>\n",
              "      <th>0</th>\n",
              "      <td>Berlin</td>\n",
              "      <td>Charlottenburg-Wilm.</td>\n",
              "      <td>Barstraße</td>\n",
              "      <td>NaN</td>\n",
              "      <td>NaN</td>\n",
              "      <td>NaN</td>\n",
              "      <td>NaN</td>\n",
              "    </tr>\n",
              "    <tr>\n",
              "      <th>1</th>\n",
              "      <td>Berlin</td>\n",
              "      <td>Charlottenburg-Wilm.</td>\n",
              "      <td>Charlottenburg Nord</td>\n",
              "      <td>NaN</td>\n",
              "      <td>NaN</td>\n",
              "      <td>NaN</td>\n",
              "      <td>NaN</td>\n",
              "    </tr>\n",
              "    <tr>\n",
              "      <th>2</th>\n",
              "      <td>Berlin</td>\n",
              "      <td>Charlottenburg-Wilm.</td>\n",
              "      <td>Düsseldorfer Straße</td>\n",
              "      <td>NaN</td>\n",
              "      <td>NaN</td>\n",
              "      <td>NaN</td>\n",
              "      <td>NaN</td>\n",
              "    </tr>\n",
              "    <tr>\n",
              "      <th>3</th>\n",
              "      <td>Berlin</td>\n",
              "      <td>Charlottenburg-Wilm.</td>\n",
              "      <td>Forst Grunewald</td>\n",
              "      <td>NaN</td>\n",
              "      <td>NaN</td>\n",
              "      <td>NaN</td>\n",
              "      <td>NaN</td>\n",
              "    </tr>\n",
              "    <tr>\n",
              "      <th>4</th>\n",
              "      <td>Berlin</td>\n",
              "      <td>Charlottenburg-Wilm.</td>\n",
              "      <td>Grunewald</td>\n",
              "      <td>NaN</td>\n",
              "      <td>NaN</td>\n",
              "      <td>NaN</td>\n",
              "      <td>NaN</td>\n",
              "    </tr>\n",
              "  </tbody>\n",
              "</table>\n",
              "</div>"
            ],
            "text/plain": [
              "     city   neighbourhood_group  ... Unnamed: 5  Unnamed: 6\n",
              "0  Berlin  Charlottenburg-Wilm.  ...        NaN         NaN\n",
              "1  Berlin  Charlottenburg-Wilm.  ...        NaN         NaN\n",
              "2  Berlin  Charlottenburg-Wilm.  ...        NaN         NaN\n",
              "3  Berlin  Charlottenburg-Wilm.  ...        NaN         NaN\n",
              "4  Berlin  Charlottenburg-Wilm.  ...        NaN         NaN\n",
              "\n",
              "[5 rows x 7 columns]"
            ]
          },
          "metadata": {
            "tags": []
          },
          "execution_count": 20
        }
      ]
    },
    {
      "cell_type": "code",
      "metadata": {
        "colab": {
          "base_uri": "https://localhost:8080/",
          "height": 101
        },
        "id": "1KqnCLDmMy5M",
        "outputId": "d3df0f57-c103-4b16-fb9e-22aaa69ff950"
      },
      "source": [
        "## dropping the extra columns\n",
        "df_n = df_n.drop(['Unnamed: 3', 'Unnamed: 4', 'Unnamed: 5', 'Unnamed: 6'], axis=1)\n",
        "df_n.head(1)"
      ],
      "execution_count": null,
      "outputs": [
        {
          "output_type": "execute_result",
          "data": {
            "text/html": [
              "<div>\n",
              "<style scoped>\n",
              "    .dataframe tbody tr th:only-of-type {\n",
              "        vertical-align: middle;\n",
              "    }\n",
              "\n",
              "    .dataframe tbody tr th {\n",
              "        vertical-align: top;\n",
              "    }\n",
              "\n",
              "    .dataframe thead th {\n",
              "        text-align: right;\n",
              "    }\n",
              "</style>\n",
              "<table border=\"1\" class=\"dataframe\">\n",
              "  <thead>\n",
              "    <tr style=\"text-align: right;\">\n",
              "      <th></th>\n",
              "      <th>city</th>\n",
              "      <th>neighbourhood_group</th>\n",
              "      <th>neighbourhood</th>\n",
              "    </tr>\n",
              "  </thead>\n",
              "  <tbody>\n",
              "    <tr>\n",
              "      <th>0</th>\n",
              "      <td>Berlin</td>\n",
              "      <td>Charlottenburg-Wilm.</td>\n",
              "      <td>Barstraße</td>\n",
              "    </tr>\n",
              "  </tbody>\n",
              "</table>\n",
              "</div>"
            ],
            "text/plain": [
              "     city   neighbourhood_group neighbourhood\n",
              "0  Berlin  Charlottenburg-Wilm.     Barstraße"
            ]
          },
          "metadata": {
            "tags": []
          },
          "execution_count": 21
        }
      ]
    },
    {
      "cell_type": "code",
      "metadata": {
        "colab": {
          "base_uri": "https://localhost:8080/"
        },
        "id": "En9BJ6ImMgZD",
        "outputId": "6ed9a837-34ef-4a11-958e-0c919ceb14ff"
      },
      "source": [
        "df_n.info()"
      ],
      "execution_count": null,
      "outputs": [
        {
          "output_type": "stream",
          "text": [
            "<class 'pandas.core.frame.DataFrame'>\n",
            "RangeIndex: 138 entries, 0 to 137\n",
            "Data columns (total 3 columns):\n",
            " #   Column               Non-Null Count  Dtype \n",
            "---  ------               --------------  ----- \n",
            " 0   city                 138 non-null    object\n",
            " 1   neighbourhood_group  138 non-null    object\n",
            " 2   neighbourhood        138 non-null    object\n",
            "dtypes: object(3)\n",
            "memory usage: 3.4+ KB\n"
          ],
          "name": "stdout"
        }
      ]
    },
    {
      "cell_type": "code",
      "metadata": {
        "id": "qdhhIs3wMwHL"
      },
      "source": [
        ""
      ],
      "execution_count": null,
      "outputs": []
    },
    {
      "cell_type": "markdown",
      "metadata": {
        "id": "4wCfbwBSNUIY"
      },
      "source": [
        "### Calendar"
      ]
    },
    {
      "cell_type": "code",
      "metadata": {
        "colab": {
          "base_uri": "https://localhost:8080/",
          "height": 206
        },
        "id": "_xf460SzNXFa",
        "outputId": "f7e9fc87-a92b-4174-bf95-040773b2b08d"
      },
      "source": [
        "## loading the calendar\n",
        "df_c = pd.read_csv(path+'calendar_summary.csv', encoding=\"utf-8\")\n",
        "df_c.head()"
      ],
      "execution_count": null,
      "outputs": [
        {
          "output_type": "execute_result",
          "data": {
            "text/html": [
              "<div>\n",
              "<style scoped>\n",
              "    .dataframe tbody tr th:only-of-type {\n",
              "        vertical-align: middle;\n",
              "    }\n",
              "\n",
              "    .dataframe tbody tr th {\n",
              "        vertical-align: top;\n",
              "    }\n",
              "\n",
              "    .dataframe thead th {\n",
              "        text-align: right;\n",
              "    }\n",
              "</style>\n",
              "<table border=\"1\" class=\"dataframe\">\n",
              "  <thead>\n",
              "    <tr style=\"text-align: right;\">\n",
              "      <th></th>\n",
              "      <th>listing_id</th>\n",
              "      <th>date</th>\n",
              "      <th>available</th>\n",
              "      <th>price</th>\n",
              "    </tr>\n",
              "  </thead>\n",
              "  <tbody>\n",
              "    <tr>\n",
              "      <th>0</th>\n",
              "      <td>2015</td>\n",
              "      <td>2019-09-10</td>\n",
              "      <td>f</td>\n",
              "      <td>NaN</td>\n",
              "    </tr>\n",
              "    <tr>\n",
              "      <th>1</th>\n",
              "      <td>2015</td>\n",
              "      <td>2019-09-09</td>\n",
              "      <td>f</td>\n",
              "      <td>NaN</td>\n",
              "    </tr>\n",
              "    <tr>\n",
              "      <th>2</th>\n",
              "      <td>2015</td>\n",
              "      <td>2019-09-08</td>\n",
              "      <td>f</td>\n",
              "      <td>NaN</td>\n",
              "    </tr>\n",
              "    <tr>\n",
              "      <th>3</th>\n",
              "      <td>2015</td>\n",
              "      <td>2019-09-07</td>\n",
              "      <td>f</td>\n",
              "      <td>NaN</td>\n",
              "    </tr>\n",
              "    <tr>\n",
              "      <th>4</th>\n",
              "      <td>2015</td>\n",
              "      <td>2019-09-06</td>\n",
              "      <td>f</td>\n",
              "      <td>NaN</td>\n",
              "    </tr>\n",
              "  </tbody>\n",
              "</table>\n",
              "</div>"
            ],
            "text/plain": [
              "   listing_id        date available price\n",
              "0        2015  2019-09-10         f   NaN\n",
              "1        2015  2019-09-09         f   NaN\n",
              "2        2015  2019-09-08         f   NaN\n",
              "3        2015  2019-09-07         f   NaN\n",
              "4        2015  2019-09-06         f   NaN"
            ]
          },
          "metadata": {
            "tags": []
          },
          "execution_count": 106
        }
      ]
    },
    {
      "cell_type": "code",
      "metadata": {
        "colab": {
          "base_uri": "https://localhost:8080/"
        },
        "id": "8m1SzIOWNaFn",
        "outputId": "cc198949-e96e-4be6-ce22-dcaf125da3b7"
      },
      "source": [
        "df_c.info()"
      ],
      "execution_count": null,
      "outputs": [
        {
          "output_type": "stream",
          "text": [
            "<class 'pandas.core.frame.DataFrame'>\n",
            "RangeIndex: 8231480 entries, 0 to 8231479\n",
            "Data columns (total 4 columns):\n",
            " #   Column      Dtype \n",
            "---  ------      ----- \n",
            " 0   listing_id  int64 \n",
            " 1   date        object\n",
            " 2   available   object\n",
            " 3   price       object\n",
            "dtypes: int64(1), object(3)\n",
            "memory usage: 251.2+ MB\n"
          ],
          "name": "stdout"
        }
      ]
    },
    {
      "cell_type": "markdown",
      "metadata": {
        "id": "VnDcICRGRhOi"
      },
      "source": [
        "We see that the date column is in string format, thus we change it:"
      ]
    },
    {
      "cell_type": "code",
      "metadata": {
        "id": "k8haUuHJNw7V"
      },
      "source": [
        "df_c['date'] = pd.to_datetime(df_c['date'])"
      ],
      "execution_count": null,
      "outputs": []
    },
    {
      "cell_type": "code",
      "metadata": {
        "colab": {
          "base_uri": "https://localhost:8080/"
        },
        "id": "fitPeRuBQWSP",
        "outputId": "139ed86d-a4ad-4221-b383-ab563ca43dc0"
      },
      "source": [
        "##validity check\n",
        "df_c.info()"
      ],
      "execution_count": null,
      "outputs": [
        {
          "output_type": "stream",
          "text": [
            "<class 'pandas.core.frame.DataFrame'>\n",
            "RangeIndex: 8231480 entries, 0 to 8231479\n",
            "Data columns (total 4 columns):\n",
            " #   Column      Dtype         \n",
            "---  ------      -----         \n",
            " 0   listing_id  int64         \n",
            " 1   date        datetime64[ns]\n",
            " 2   available   object        \n",
            " 3   price       object        \n",
            "dtypes: datetime64[ns](1), int64(1), object(2)\n",
            "memory usage: 251.2+ MB\n"
          ],
          "name": "stdout"
        }
      ]
    },
    {
      "cell_type": "code",
      "metadata": {
        "colab": {
          "base_uri": "https://localhost:8080/",
          "height": 168
        },
        "id": "QaeBv6LbQivG",
        "outputId": "ad586f58-2cb5-45da-8b11-cac81f86d7c9"
      },
      "source": [
        "## somehow it doesn't show the number of null valeus\n",
        "\n",
        "print('number of null entries in listing_id column: ', df_c.listing_id.isna().sum())\n",
        "print('number of null entries in date column: ', df_c.date.isna().sum())\n",
        "print('number of null entries in \"available\" column: ', df_c.available.isna().sum())\n",
        "print('number of null entries in price column: ', df_c.price.isna().sum())\n",
        "print()\n",
        "\n",
        "## check an example value\n",
        "df_c[df_c.price.notnull()].head(1)"
      ],
      "execution_count": null,
      "outputs": [
        {
          "output_type": "stream",
          "text": [
            "number of null entries in listing_id column:  0\n",
            "number of null entries in date column:  0\n",
            "number of null entries in \"available\" column:  0\n",
            "number of null entries in price column:  6430639\n",
            "\n"
          ],
          "name": "stdout"
        },
        {
          "output_type": "execute_result",
          "data": {
            "text/html": [
              "<div>\n",
              "<style scoped>\n",
              "    .dataframe tbody tr th:only-of-type {\n",
              "        vertical-align: middle;\n",
              "    }\n",
              "\n",
              "    .dataframe tbody tr th {\n",
              "        vertical-align: top;\n",
              "    }\n",
              "\n",
              "    .dataframe thead th {\n",
              "        text-align: right;\n",
              "    }\n",
              "</style>\n",
              "<table border=\"1\" class=\"dataframe\">\n",
              "  <thead>\n",
              "    <tr style=\"text-align: right;\">\n",
              "      <th></th>\n",
              "      <th>listing_id</th>\n",
              "      <th>date</th>\n",
              "      <th>available</th>\n",
              "      <th>price</th>\n",
              "    </tr>\n",
              "  </thead>\n",
              "  <tbody>\n",
              "    <tr>\n",
              "      <th>128</th>\n",
              "      <td>2015</td>\n",
              "      <td>2019-05-05</td>\n",
              "      <td>t</td>\n",
              "      <td>$76.00</td>\n",
              "    </tr>\n",
              "  </tbody>\n",
              "</table>\n",
              "</div>"
            ],
            "text/plain": [
              "     listing_id       date available   price\n",
              "128        2015 2019-05-05         t  $76.00"
            ]
          },
          "metadata": {
            "tags": []
          },
          "execution_count": 110
        }
      ]
    },
    {
      "cell_type": "code",
      "metadata": {
        "colab": {
          "base_uri": "https://localhost:8080/"
        },
        "id": "1mmvccooQumh",
        "outputId": "27a94150-175b-446a-8366-0594206d67ce"
      },
      "source": [
        "## changing the last column to float values, including stripping the $ sign\n",
        "# needs to fill NA values for the strip method to work\n",
        "df_c['price'] = df_c['price'].fillna(\"$0.00\")\n",
        "df_c['price'] = df_c['price'].apply(lambda x: x.strip(\"$\"))\n",
        "df_c['price'] = df_c['price'].apply(lambda x: x.replace(\",\",\"\"))\n",
        "df_c['price'] = df_c['price'].astype(float)\n",
        "print(df_c.head(1))\n",
        "print()\n",
        "df_c.info()\n",
        "\n",
        "## do we need to change back the 0.00 values to NAs?"
      ],
      "execution_count": null,
      "outputs": [
        {
          "output_type": "stream",
          "text": [
            "   listing_id       date available  price\n",
            "0        2015 2019-09-10         f    0.0\n",
            "\n",
            "<class 'pandas.core.frame.DataFrame'>\n",
            "RangeIndex: 8231480 entries, 0 to 8231479\n",
            "Data columns (total 4 columns):\n",
            " #   Column      Dtype         \n",
            "---  ------      -----         \n",
            " 0   listing_id  int64         \n",
            " 1   date        datetime64[ns]\n",
            " 2   available   object        \n",
            " 3   price       float64       \n",
            "dtypes: datetime64[ns](1), float64(1), int64(1), object(1)\n",
            "memory usage: 251.2+ MB\n"
          ],
          "name": "stdout"
        }
      ]
    },
    {
      "cell_type": "markdown",
      "metadata": {
        "id": "dNE9R_vQc0og"
      },
      "source": [
        "### Reviews"
      ]
    },
    {
      "cell_type": "code",
      "metadata": {
        "colab": {
          "base_uri": "https://localhost:8080/",
          "height": 206
        },
        "id": "WDoU1OTpc7H5",
        "outputId": "3efe1464-720a-4cdd-a582-e43329873c21"
      },
      "source": [
        "## loading the reviews\n",
        "df_r = pd.read_csv(path+'reviews.csv', encoding=\"utf-8\")\n",
        "df_r.head()"
      ],
      "execution_count": null,
      "outputs": [
        {
          "output_type": "execute_result",
          "data": {
            "text/html": [
              "<div>\n",
              "<style scoped>\n",
              "    .dataframe tbody tr th:only-of-type {\n",
              "        vertical-align: middle;\n",
              "    }\n",
              "\n",
              "    .dataframe tbody tr th {\n",
              "        vertical-align: top;\n",
              "    }\n",
              "\n",
              "    .dataframe thead th {\n",
              "        text-align: right;\n",
              "    }\n",
              "</style>\n",
              "<table border=\"1\" class=\"dataframe\">\n",
              "  <thead>\n",
              "    <tr style=\"text-align: right;\">\n",
              "      <th></th>\n",
              "      <th>listing_id</th>\n",
              "      <th>date</th>\n",
              "    </tr>\n",
              "  </thead>\n",
              "  <tbody>\n",
              "    <tr>\n",
              "      <th>0</th>\n",
              "      <td>2015</td>\n",
              "      <td>2016-04-11</td>\n",
              "    </tr>\n",
              "    <tr>\n",
              "      <th>1</th>\n",
              "      <td>2015</td>\n",
              "      <td>2016-04-15</td>\n",
              "    </tr>\n",
              "    <tr>\n",
              "      <th>2</th>\n",
              "      <td>2015</td>\n",
              "      <td>2016-04-26</td>\n",
              "    </tr>\n",
              "    <tr>\n",
              "      <th>3</th>\n",
              "      <td>2015</td>\n",
              "      <td>2016-05-10</td>\n",
              "    </tr>\n",
              "    <tr>\n",
              "      <th>4</th>\n",
              "      <td>2015</td>\n",
              "      <td>2016-05-14</td>\n",
              "    </tr>\n",
              "  </tbody>\n",
              "</table>\n",
              "</div>"
            ],
            "text/plain": [
              "   listing_id        date\n",
              "0        2015  2016-04-11\n",
              "1        2015  2016-04-15\n",
              "2        2015  2016-04-26\n",
              "3        2015  2016-05-10\n",
              "4        2015  2016-05-14"
            ]
          },
          "metadata": {
            "tags": []
          },
          "execution_count": 127
        }
      ]
    },
    {
      "cell_type": "code",
      "metadata": {
        "colab": {
          "base_uri": "https://localhost:8080/"
        },
        "id": "g-kZoBOmdEGt",
        "outputId": "06bdecbe-5169-4f59-c066-450f9ad899e9"
      },
      "source": [
        "df_r.shape"
      ],
      "execution_count": null,
      "outputs": [
        {
          "output_type": "execute_result",
          "data": {
            "text/plain": [
              "(401963, 2)"
            ]
          },
          "metadata": {
            "tags": []
          },
          "execution_count": 128
        }
      ]
    },
    {
      "cell_type": "code",
      "metadata": {
        "colab": {
          "base_uri": "https://localhost:8080/"
        },
        "id": "2m4OeKaydAIx",
        "outputId": "6d2dab0f-d060-47e7-9386-21cb6015b824"
      },
      "source": [
        "df_r.info()"
      ],
      "execution_count": null,
      "outputs": [
        {
          "output_type": "stream",
          "text": [
            "<class 'pandas.core.frame.DataFrame'>\n",
            "RangeIndex: 401963 entries, 0 to 401962\n",
            "Data columns (total 2 columns):\n",
            " #   Column      Non-Null Count   Dtype \n",
            "---  ------      --------------   ----- \n",
            " 0   listing_id  401963 non-null  int64 \n",
            " 1   date        401963 non-null  object\n",
            "dtypes: int64(1), object(1)\n",
            "memory usage: 6.1+ MB\n"
          ],
          "name": "stdout"
        }
      ]
    },
    {
      "cell_type": "code",
      "metadata": {
        "id": "x13PW5audMCE"
      },
      "source": [
        "## changing the date colun to datetime type\n",
        "df_r['date'] = pd.to_datetime(df_r['date'])"
      ],
      "execution_count": null,
      "outputs": []
    },
    {
      "cell_type": "code",
      "metadata": {
        "colab": {
          "base_uri": "https://localhost:8080/"
        },
        "id": "N2stvpNzYvRZ",
        "outputId": "dec637d5-cf1b-4500-f260-92a496fb1572"
      },
      "source": [
        "df_r['date'].max()"
      ],
      "execution_count": null,
      "outputs": [
        {
          "output_type": "execute_result",
          "data": {
            "text/plain": [
              "Timestamp('2018-11-07 00:00:00')"
            ]
          },
          "metadata": {
            "tags": []
          },
          "execution_count": 131
        }
      ]
    },
    {
      "cell_type": "markdown",
      "metadata": {
        "id": "fzi8KUicdVnB"
      },
      "source": [
        "### Reviews Summary"
      ]
    },
    {
      "cell_type": "code",
      "metadata": {
        "colab": {
          "base_uri": "https://localhost:8080/",
          "height": 206
        },
        "id": "74AN-O52dXkg",
        "outputId": "877ba49e-4961-45ce-a837-670e5958ba42"
      },
      "source": [
        "## loading the reviews summary\n",
        "df_rs = pd.read_csv(path+'reviews_summary.csv', encoding=\"utf-8\")\n",
        "df_rs.head()"
      ],
      "execution_count": null,
      "outputs": [
        {
          "output_type": "execute_result",
          "data": {
            "text/html": [
              "<div>\n",
              "<style scoped>\n",
              "    .dataframe tbody tr th:only-of-type {\n",
              "        vertical-align: middle;\n",
              "    }\n",
              "\n",
              "    .dataframe tbody tr th {\n",
              "        vertical-align: top;\n",
              "    }\n",
              "\n",
              "    .dataframe thead th {\n",
              "        text-align: right;\n",
              "    }\n",
              "</style>\n",
              "<table border=\"1\" class=\"dataframe\">\n",
              "  <thead>\n",
              "    <tr style=\"text-align: right;\">\n",
              "      <th></th>\n",
              "      <th>listing_id</th>\n",
              "      <th>id</th>\n",
              "      <th>date</th>\n",
              "      <th>reviewer_id</th>\n",
              "      <th>reviewer_name</th>\n",
              "      <th>comments</th>\n",
              "    </tr>\n",
              "  </thead>\n",
              "  <tbody>\n",
              "    <tr>\n",
              "      <th>0</th>\n",
              "      <td>2015</td>\n",
              "      <td>69544350</td>\n",
              "      <td>2016-04-11</td>\n",
              "      <td>7178145</td>\n",
              "      <td>Rahel</td>\n",
              "      <td>Mein Freund und ich hatten gute gemütliche vie...</td>\n",
              "    </tr>\n",
              "    <tr>\n",
              "      <th>1</th>\n",
              "      <td>2015</td>\n",
              "      <td>69990732</td>\n",
              "      <td>2016-04-15</td>\n",
              "      <td>41944715</td>\n",
              "      <td>Hannah</td>\n",
              "      <td>Jan was very friendly and welcoming host! The ...</td>\n",
              "    </tr>\n",
              "    <tr>\n",
              "      <th>2</th>\n",
              "      <td>2015</td>\n",
              "      <td>71605267</td>\n",
              "      <td>2016-04-26</td>\n",
              "      <td>30048708</td>\n",
              "      <td>Victor</td>\n",
              "      <td>Un appartement tres bien situé dans un quartie...</td>\n",
              "    </tr>\n",
              "    <tr>\n",
              "      <th>3</th>\n",
              "      <td>2015</td>\n",
              "      <td>73819566</td>\n",
              "      <td>2016-05-10</td>\n",
              "      <td>63697857</td>\n",
              "      <td>Judy</td>\n",
              "      <td>It is really nice area, food, park, transport ...</td>\n",
              "    </tr>\n",
              "    <tr>\n",
              "      <th>4</th>\n",
              "      <td>2015</td>\n",
              "      <td>74293504</td>\n",
              "      <td>2016-05-14</td>\n",
              "      <td>10414887</td>\n",
              "      <td>Romina</td>\n",
              "      <td>Buena ubicación, el departamento no está orden...</td>\n",
              "    </tr>\n",
              "  </tbody>\n",
              "</table>\n",
              "</div>"
            ],
            "text/plain": [
              "   listing_id  ...                                           comments\n",
              "0        2015  ...  Mein Freund und ich hatten gute gemütliche vie...\n",
              "1        2015  ...  Jan was very friendly and welcoming host! The ...\n",
              "2        2015  ...  Un appartement tres bien situé dans un quartie...\n",
              "3        2015  ...  It is really nice area, food, park, transport ...\n",
              "4        2015  ...  Buena ubicación, el departamento no está orden...\n",
              "\n",
              "[5 rows x 6 columns]"
            ]
          },
          "metadata": {
            "tags": []
          },
          "execution_count": 102
        }
      ]
    },
    {
      "cell_type": "code",
      "metadata": {
        "colab": {
          "base_uri": "https://localhost:8080/"
        },
        "id": "xSvTsu5WdfGz",
        "outputId": "9dddd711-2f3d-4add-a689-cef2e31680e2"
      },
      "source": [
        "df_rs.shape"
      ],
      "execution_count": null,
      "outputs": [
        {
          "output_type": "execute_result",
          "data": {
            "text/plain": [
              "(401963, 6)"
            ]
          },
          "metadata": {
            "tags": []
          },
          "execution_count": 103
        }
      ]
    },
    {
      "cell_type": "code",
      "metadata": {
        "colab": {
          "base_uri": "https://localhost:8080/"
        },
        "id": "SY5mnCDDdhIl",
        "outputId": "71b58433-9e3f-44a7-f92a-2dad0e5775de"
      },
      "source": [
        "df_rs.info()"
      ],
      "execution_count": null,
      "outputs": [
        {
          "output_type": "stream",
          "text": [
            "<class 'pandas.core.frame.DataFrame'>\n",
            "RangeIndex: 401963 entries, 0 to 401962\n",
            "Data columns (total 6 columns):\n",
            " #   Column         Non-Null Count   Dtype \n",
            "---  ------         --------------   ----- \n",
            " 0   listing_id     401963 non-null  int64 \n",
            " 1   id             401963 non-null  int64 \n",
            " 2   date           401963 non-null  object\n",
            " 3   reviewer_id    401963 non-null  int64 \n",
            " 4   reviewer_name  401963 non-null  object\n",
            " 5   comments       401467 non-null  object\n",
            "dtypes: int64(3), object(3)\n",
            "memory usage: 18.4+ MB\n"
          ],
          "name": "stdout"
        }
      ]
    },
    {
      "cell_type": "code",
      "metadata": {
        "id": "2lptYmHddofo"
      },
      "source": [
        "## changing date column to datetime type\n",
        "df_rs['date'] = pd.to_datetime(df_rs['date'])"
      ],
      "execution_count": null,
      "outputs": []
    },
    {
      "cell_type": "code",
      "metadata": {
        "colab": {
          "base_uri": "https://localhost:8080/",
          "height": 458
        },
        "id": "drAZAqoVdyiw",
        "outputId": "b48357da-d2a6-4a00-c4a4-00c2a711137b"
      },
      "source": [
        "## looking at null values in the comments column\n",
        "print('NA values in comments column: ',df_rs['comments'].isna().sum())\n",
        "print()\n",
        "df_rs[df_rs['comments'].isna()]"
      ],
      "execution_count": null,
      "outputs": [
        {
          "output_type": "stream",
          "text": [
            "NA values in comments column:  496\n",
            "\n"
          ],
          "name": "stdout"
        },
        {
          "output_type": "execute_result",
          "data": {
            "text/html": [
              "<div>\n",
              "<style scoped>\n",
              "    .dataframe tbody tr th:only-of-type {\n",
              "        vertical-align: middle;\n",
              "    }\n",
              "\n",
              "    .dataframe tbody tr th {\n",
              "        vertical-align: top;\n",
              "    }\n",
              "\n",
              "    .dataframe thead th {\n",
              "        text-align: right;\n",
              "    }\n",
              "</style>\n",
              "<table border=\"1\" class=\"dataframe\">\n",
              "  <thead>\n",
              "    <tr style=\"text-align: right;\">\n",
              "      <th></th>\n",
              "      <th>listing_id</th>\n",
              "      <th>id</th>\n",
              "      <th>date</th>\n",
              "      <th>reviewer_id</th>\n",
              "      <th>reviewer_name</th>\n",
              "      <th>comments</th>\n",
              "    </tr>\n",
              "  </thead>\n",
              "  <tbody>\n",
              "    <tr>\n",
              "      <th>3049</th>\n",
              "      <td>42809</td>\n",
              "      <td>160781</td>\n",
              "      <td>2010-12-31</td>\n",
              "      <td>226667</td>\n",
              "      <td>Frank</td>\n",
              "      <td>NaN</td>\n",
              "    </tr>\n",
              "    <tr>\n",
              "      <th>4316</th>\n",
              "      <td>63468</td>\n",
              "      <td>75695155</td>\n",
              "      <td>2016-05-22</td>\n",
              "      <td>26052219</td>\n",
              "      <td>Sebastian</td>\n",
              "      <td>NaN</td>\n",
              "    </tr>\n",
              "    <tr>\n",
              "      <th>7984</th>\n",
              "      <td>139769</td>\n",
              "      <td>10110711</td>\n",
              "      <td>2014-01-31</td>\n",
              "      <td>10977586</td>\n",
              "      <td>Mark</td>\n",
              "      <td>NaN</td>\n",
              "    </tr>\n",
              "    <tr>\n",
              "      <th>8411</th>\n",
              "      <td>153015</td>\n",
              "      <td>234852734</td>\n",
              "      <td>2018-02-14</td>\n",
              "      <td>165971645</td>\n",
              "      <td>Chiara</td>\n",
              "      <td>NaN</td>\n",
              "    </tr>\n",
              "    <tr>\n",
              "      <th>10960</th>\n",
              "      <td>183918</td>\n",
              "      <td>11107030</td>\n",
              "      <td>2014-03-21</td>\n",
              "      <td>11014142</td>\n",
              "      <td>Andrea</td>\n",
              "      <td>NaN</td>\n",
              "    </tr>\n",
              "    <tr>\n",
              "      <th>...</th>\n",
              "      <td>...</td>\n",
              "      <td>...</td>\n",
              "      <td>...</td>\n",
              "      <td>...</td>\n",
              "      <td>...</td>\n",
              "      <td>...</td>\n",
              "    </tr>\n",
              "    <tr>\n",
              "      <th>396220</th>\n",
              "      <td>27121614</td>\n",
              "      <td>299990429</td>\n",
              "      <td>2018-08-01</td>\n",
              "      <td>131384962</td>\n",
              "      <td>Sophie</td>\n",
              "      <td>NaN</td>\n",
              "    </tr>\n",
              "    <tr>\n",
              "      <th>396845</th>\n",
              "      <td>27333815</td>\n",
              "      <td>308932943</td>\n",
              "      <td>2018-08-17</td>\n",
              "      <td>136532584</td>\n",
              "      <td>Benjamin</td>\n",
              "      <td>NaN</td>\n",
              "    </tr>\n",
              "    <tr>\n",
              "      <th>398593</th>\n",
              "      <td>27768989</td>\n",
              "      <td>313279351</td>\n",
              "      <td>2018-08-25</td>\n",
              "      <td>87482774</td>\n",
              "      <td>Pierre</td>\n",
              "      <td>NaN</td>\n",
              "    </tr>\n",
              "    <tr>\n",
              "      <th>399497</th>\n",
              "      <td>28042735</td>\n",
              "      <td>323947087</td>\n",
              "      <td>2018-09-16</td>\n",
              "      <td>211975082</td>\n",
              "      <td>Jennifer</td>\n",
              "      <td>NaN</td>\n",
              "    </tr>\n",
              "    <tr>\n",
              "      <th>399639</th>\n",
              "      <td>28087115</td>\n",
              "      <td>328108657</td>\n",
              "      <td>2018-09-25</td>\n",
              "      <td>212963857</td>\n",
              "      <td>André</td>\n",
              "      <td>NaN</td>\n",
              "    </tr>\n",
              "  </tbody>\n",
              "</table>\n",
              "<p>496 rows × 6 columns</p>\n",
              "</div>"
            ],
            "text/plain": [
              "        listing_id         id       date  reviewer_id reviewer_name comments\n",
              "3049         42809     160781 2010-12-31       226667         Frank      NaN\n",
              "4316         63468   75695155 2016-05-22     26052219     Sebastian      NaN\n",
              "7984        139769   10110711 2014-01-31     10977586          Mark      NaN\n",
              "8411        153015  234852734 2018-02-14    165971645        Chiara      NaN\n",
              "10960       183918   11107030 2014-03-21     11014142        Andrea      NaN\n",
              "...            ...        ...        ...          ...           ...      ...\n",
              "396220    27121614  299990429 2018-08-01    131384962        Sophie      NaN\n",
              "396845    27333815  308932943 2018-08-17    136532584      Benjamin      NaN\n",
              "398593    27768989  313279351 2018-08-25     87482774        Pierre      NaN\n",
              "399497    28042735  323947087 2018-09-16    211975082      Jennifer      NaN\n",
              "399639    28087115  328108657 2018-09-25    212963857         André      NaN\n",
              "\n",
              "[496 rows x 6 columns]"
            ]
          },
          "metadata": {
            "tags": []
          },
          "execution_count": 119
        }
      ]
    },
    {
      "cell_type": "markdown",
      "metadata": {
        "id": "v3CADmDxeS69"
      },
      "source": [
        "For now we decide to not do anything about these entries."
      ]
    },
    {
      "cell_type": "markdown",
      "metadata": {
        "id": "jWh8tLvDeeRN"
      },
      "source": [
        "### Listings"
      ]
    },
    {
      "cell_type": "code",
      "metadata": {
        "colab": {
          "base_uri": "https://localhost:8080/",
          "height": 417
        },
        "id": "jIBJfQo2efnb",
        "outputId": "580fd81c-b933-415c-96e2-b0641f4765fb"
      },
      "source": [
        "## loading the listings\n",
        "df_l = pd.read_csv(path+'listings.csv', encoding=\"utf-8\")\n",
        "df_l.head()"
      ],
      "execution_count": null,
      "outputs": [
        {
          "output_type": "execute_result",
          "data": {
            "text/html": [
              "<div>\n",
              "<style scoped>\n",
              "    .dataframe tbody tr th:only-of-type {\n",
              "        vertical-align: middle;\n",
              "    }\n",
              "\n",
              "    .dataframe tbody tr th {\n",
              "        vertical-align: top;\n",
              "    }\n",
              "\n",
              "    .dataframe thead th {\n",
              "        text-align: right;\n",
              "    }\n",
              "</style>\n",
              "<table border=\"1\" class=\"dataframe\">\n",
              "  <thead>\n",
              "    <tr style=\"text-align: right;\">\n",
              "      <th></th>\n",
              "      <th>id</th>\n",
              "      <th>name</th>\n",
              "      <th>host_id</th>\n",
              "      <th>host_name</th>\n",
              "      <th>neighbourhood_group</th>\n",
              "      <th>neighbourhood</th>\n",
              "      <th>latitude</th>\n",
              "      <th>longitude</th>\n",
              "      <th>room_type</th>\n",
              "      <th>price</th>\n",
              "      <th>minimum_nights</th>\n",
              "      <th>number_of_reviews</th>\n",
              "      <th>last_review</th>\n",
              "      <th>reviews_per_month</th>\n",
              "      <th>calculated_host_listings_count</th>\n",
              "      <th>availability_365</th>\n",
              "    </tr>\n",
              "  </thead>\n",
              "  <tbody>\n",
              "    <tr>\n",
              "      <th>0</th>\n",
              "      <td>2015</td>\n",
              "      <td>Berlin-Mitte Value! Quiet courtyard/very central</td>\n",
              "      <td>2217</td>\n",
              "      <td>Ian</td>\n",
              "      <td>Mitte</td>\n",
              "      <td>Brunnenstr. Süd</td>\n",
              "      <td>52.534537</td>\n",
              "      <td>13.402557</td>\n",
              "      <td>Entire home/apt</td>\n",
              "      <td>60</td>\n",
              "      <td>4</td>\n",
              "      <td>118</td>\n",
              "      <td>2018-10-28</td>\n",
              "      <td>3.76</td>\n",
              "      <td>4</td>\n",
              "      <td>141</td>\n",
              "    </tr>\n",
              "    <tr>\n",
              "      <th>1</th>\n",
              "      <td>2695</td>\n",
              "      <td>Prenzlauer Berg close to Mauerpark</td>\n",
              "      <td>2986</td>\n",
              "      <td>Michael</td>\n",
              "      <td>Pankow</td>\n",
              "      <td>Prenzlauer Berg Nordwest</td>\n",
              "      <td>52.548513</td>\n",
              "      <td>13.404553</td>\n",
              "      <td>Private room</td>\n",
              "      <td>17</td>\n",
              "      <td>2</td>\n",
              "      <td>6</td>\n",
              "      <td>2018-10-01</td>\n",
              "      <td>1.42</td>\n",
              "      <td>1</td>\n",
              "      <td>0</td>\n",
              "    </tr>\n",
              "    <tr>\n",
              "      <th>2</th>\n",
              "      <td>3176</td>\n",
              "      <td>Fabulous Flat in great Location</td>\n",
              "      <td>3718</td>\n",
              "      <td>Britta</td>\n",
              "      <td>Pankow</td>\n",
              "      <td>Prenzlauer Berg Südwest</td>\n",
              "      <td>52.534996</td>\n",
              "      <td>13.417579</td>\n",
              "      <td>Entire home/apt</td>\n",
              "      <td>90</td>\n",
              "      <td>62</td>\n",
              "      <td>143</td>\n",
              "      <td>2017-03-20</td>\n",
              "      <td>1.25</td>\n",
              "      <td>1</td>\n",
              "      <td>220</td>\n",
              "    </tr>\n",
              "    <tr>\n",
              "      <th>3</th>\n",
              "      <td>3309</td>\n",
              "      <td>BerlinSpot Schöneberg near KaDeWe</td>\n",
              "      <td>4108</td>\n",
              "      <td>Jana</td>\n",
              "      <td>Tempelhof - Schöneberg</td>\n",
              "      <td>Schöneberg-Nord</td>\n",
              "      <td>52.498855</td>\n",
              "      <td>13.349065</td>\n",
              "      <td>Private room</td>\n",
              "      <td>26</td>\n",
              "      <td>5</td>\n",
              "      <td>25</td>\n",
              "      <td>2018-08-16</td>\n",
              "      <td>0.39</td>\n",
              "      <td>1</td>\n",
              "      <td>297</td>\n",
              "    </tr>\n",
              "    <tr>\n",
              "      <th>4</th>\n",
              "      <td>7071</td>\n",
              "      <td>BrightRoom with sunny greenview!</td>\n",
              "      <td>17391</td>\n",
              "      <td>Bright</td>\n",
              "      <td>Pankow</td>\n",
              "      <td>Helmholtzplatz</td>\n",
              "      <td>52.543157</td>\n",
              "      <td>13.415091</td>\n",
              "      <td>Private room</td>\n",
              "      <td>42</td>\n",
              "      <td>2</td>\n",
              "      <td>197</td>\n",
              "      <td>2018-11-04</td>\n",
              "      <td>1.75</td>\n",
              "      <td>1</td>\n",
              "      <td>26</td>\n",
              "    </tr>\n",
              "  </tbody>\n",
              "</table>\n",
              "</div>"
            ],
            "text/plain": [
              "     id  ... availability_365\n",
              "0  2015  ...              141\n",
              "1  2695  ...                0\n",
              "2  3176  ...              220\n",
              "3  3309  ...              297\n",
              "4  7071  ...               26\n",
              "\n",
              "[5 rows x 16 columns]"
            ]
          },
          "metadata": {
            "tags": []
          },
          "execution_count": 121
        }
      ]
    },
    {
      "cell_type": "code",
      "metadata": {
        "colab": {
          "base_uri": "https://localhost:8080/"
        },
        "id": "xNY3dOpwenN9",
        "outputId": "7cd5010e-6e7c-4c22-bfae-68d738e534b9"
      },
      "source": [
        "df_l.shape"
      ],
      "execution_count": null,
      "outputs": [
        {
          "output_type": "execute_result",
          "data": {
            "text/plain": [
              "(22552, 16)"
            ]
          },
          "metadata": {
            "tags": []
          },
          "execution_count": 122
        }
      ]
    },
    {
      "cell_type": "code",
      "metadata": {
        "colab": {
          "base_uri": "https://localhost:8080/"
        },
        "id": "vLwCe9zQe15O",
        "outputId": "3025c63d-2457-494f-a80c-13a1e5ac85dc"
      },
      "source": [
        "df_l.info()"
      ],
      "execution_count": null,
      "outputs": [
        {
          "output_type": "stream",
          "text": [
            "<class 'pandas.core.frame.DataFrame'>\n",
            "RangeIndex: 22552 entries, 0 to 22551\n",
            "Data columns (total 16 columns):\n",
            " #   Column                          Non-Null Count  Dtype  \n",
            "---  ------                          --------------  -----  \n",
            " 0   id                              22552 non-null  int64  \n",
            " 1   name                            22493 non-null  object \n",
            " 2   host_id                         22552 non-null  int64  \n",
            " 3   host_name                       22526 non-null  object \n",
            " 4   neighbourhood_group             22552 non-null  object \n",
            " 5   neighbourhood                   22552 non-null  object \n",
            " 6   latitude                        22552 non-null  float64\n",
            " 7   longitude                       22552 non-null  float64\n",
            " 8   room_type                       22552 non-null  object \n",
            " 9   price                           22552 non-null  int64  \n",
            " 10  minimum_nights                  22552 non-null  int64  \n",
            " 11  number_of_reviews               22552 non-null  int64  \n",
            " 12  last_review                     18644 non-null  object \n",
            " 13  reviews_per_month               18638 non-null  float64\n",
            " 14  calculated_host_listings_count  22552 non-null  int64  \n",
            " 15  availability_365                22552 non-null  int64  \n",
            "dtypes: float64(3), int64(7), object(6)\n",
            "memory usage: 2.8+ MB\n"
          ],
          "name": "stdout"
        }
      ]
    },
    {
      "cell_type": "code",
      "metadata": {
        "id": "QkAjvdOsfeMh"
      },
      "source": [
        "## changing last_review column to datetime type\n",
        "df_l['last_review'] = pd.to_datetime(df_l['last_review'])"
      ],
      "execution_count": null,
      "outputs": []
    },
    {
      "cell_type": "markdown",
      "metadata": {
        "id": "KT3RnEJTcLTj"
      },
      "source": [
        "### Listing Summary"
      ]
    },
    {
      "cell_type": "code",
      "metadata": {
        "colab": {
          "base_uri": "https://localhost:8080/",
          "height": 706
        },
        "id": "zNVTuGj4cQNP",
        "outputId": "2cf12b8d-8a6e-4909-bd7a-cb844011b573"
      },
      "source": [
        "## loading the listings summary\n",
        "df_ls = pd.read_csv(path+'listings_summary.csv', encoding=\"utf-8\")\n",
        "df_ls.head()"
      ],
      "execution_count": null,
      "outputs": [
        {
          "output_type": "execute_result",
          "data": {
            "text/html": [
              "<div>\n",
              "<style scoped>\n",
              "    .dataframe tbody tr th:only-of-type {\n",
              "        vertical-align: middle;\n",
              "    }\n",
              "\n",
              "    .dataframe tbody tr th {\n",
              "        vertical-align: top;\n",
              "    }\n",
              "\n",
              "    .dataframe thead th {\n",
              "        text-align: right;\n",
              "    }\n",
              "</style>\n",
              "<table border=\"1\" class=\"dataframe\">\n",
              "  <thead>\n",
              "    <tr style=\"text-align: right;\">\n",
              "      <th></th>\n",
              "      <th>id</th>\n",
              "      <th>listing_url</th>\n",
              "      <th>scrape_id</th>\n",
              "      <th>last_scraped</th>\n",
              "      <th>name</th>\n",
              "      <th>summary</th>\n",
              "      <th>space</th>\n",
              "      <th>description</th>\n",
              "      <th>experiences_offered</th>\n",
              "      <th>neighborhood_overview</th>\n",
              "      <th>notes</th>\n",
              "      <th>transit</th>\n",
              "      <th>access</th>\n",
              "      <th>interaction</th>\n",
              "      <th>house_rules</th>\n",
              "      <th>thumbnail_url</th>\n",
              "      <th>medium_url</th>\n",
              "      <th>picture_url</th>\n",
              "      <th>xl_picture_url</th>\n",
              "      <th>host_id</th>\n",
              "      <th>host_url</th>\n",
              "      <th>host_name</th>\n",
              "      <th>host_since</th>\n",
              "      <th>host_location</th>\n",
              "      <th>host_about</th>\n",
              "      <th>host_response_time</th>\n",
              "      <th>host_response_rate</th>\n",
              "      <th>host_acceptance_rate</th>\n",
              "      <th>host_is_superhost</th>\n",
              "      <th>host_thumbnail_url</th>\n",
              "      <th>host_picture_url</th>\n",
              "      <th>host_neighbourhood</th>\n",
              "      <th>host_listings_count</th>\n",
              "      <th>host_total_listings_count</th>\n",
              "      <th>host_verifications</th>\n",
              "      <th>host_has_profile_pic</th>\n",
              "      <th>host_identity_verified</th>\n",
              "      <th>street</th>\n",
              "      <th>neighbourhood</th>\n",
              "      <th>neighbourhood_cleansed</th>\n",
              "      <th>...</th>\n",
              "      <th>beds</th>\n",
              "      <th>bed_type</th>\n",
              "      <th>amenities</th>\n",
              "      <th>square_feet</th>\n",
              "      <th>price</th>\n",
              "      <th>weekly_price</th>\n",
              "      <th>monthly_price</th>\n",
              "      <th>security_deposit</th>\n",
              "      <th>cleaning_fee</th>\n",
              "      <th>guests_included</th>\n",
              "      <th>extra_people</th>\n",
              "      <th>minimum_nights</th>\n",
              "      <th>maximum_nights</th>\n",
              "      <th>calendar_updated</th>\n",
              "      <th>has_availability</th>\n",
              "      <th>availability_30</th>\n",
              "      <th>availability_60</th>\n",
              "      <th>availability_90</th>\n",
              "      <th>availability_365</th>\n",
              "      <th>calendar_last_scraped</th>\n",
              "      <th>number_of_reviews</th>\n",
              "      <th>first_review</th>\n",
              "      <th>last_review</th>\n",
              "      <th>review_scores_rating</th>\n",
              "      <th>review_scores_accuracy</th>\n",
              "      <th>review_scores_cleanliness</th>\n",
              "      <th>review_scores_checkin</th>\n",
              "      <th>review_scores_communication</th>\n",
              "      <th>review_scores_location</th>\n",
              "      <th>review_scores_value</th>\n",
              "      <th>requires_license</th>\n",
              "      <th>license</th>\n",
              "      <th>jurisdiction_names</th>\n",
              "      <th>instant_bookable</th>\n",
              "      <th>is_business_travel_ready</th>\n",
              "      <th>cancellation_policy</th>\n",
              "      <th>require_guest_profile_picture</th>\n",
              "      <th>require_guest_phone_verification</th>\n",
              "      <th>calculated_host_listings_count</th>\n",
              "      <th>reviews_per_month</th>\n",
              "    </tr>\n",
              "  </thead>\n",
              "  <tbody>\n",
              "    <tr>\n",
              "      <th>0</th>\n",
              "      <td>2015</td>\n",
              "      <td>https://www.airbnb.com/rooms/2015</td>\n",
              "      <td>20181107122246</td>\n",
              "      <td>2018-11-07</td>\n",
              "      <td>Berlin-Mitte Value! Quiet courtyard/very central</td>\n",
              "      <td>Great location!  30 of 75 sq meters. This wood...</td>\n",
              "      <td>A+++ location! This „Einliegerwohnung“ is an e...</td>\n",
              "      <td>Great location!  30 of 75 sq meters. This wood...</td>\n",
              "      <td>none</td>\n",
              "      <td>It is located in the former East Berlin area o...</td>\n",
              "      <td>This is my home, not a hotel. I rent out occas...</td>\n",
              "      <td>Close to U-Bahn U8 and U2 (metro), Trams M12, ...</td>\n",
              "      <td>Simple kitchen/cooking, refrigerator, microwav...</td>\n",
              "      <td>Always available</td>\n",
              "      <td>No parties No events No pets No smoking, not e...</td>\n",
              "      <td>NaN</td>\n",
              "      <td>NaN</td>\n",
              "      <td>https://a0.muscache.com/im/pictures/260fd609-7...</td>\n",
              "      <td>NaN</td>\n",
              "      <td>2217</td>\n",
              "      <td>https://www.airbnb.com/users/show/2217</td>\n",
              "      <td>Ian</td>\n",
              "      <td>2008-08-18</td>\n",
              "      <td>Key Biscayne, Florida, United States</td>\n",
              "      <td>Believe in sharing economy.</td>\n",
              "      <td>within an hour</td>\n",
              "      <td>96%</td>\n",
              "      <td>NaN</td>\n",
              "      <td>t</td>\n",
              "      <td>https://a0.muscache.com/im/pictures/21428a22-4...</td>\n",
              "      <td>https://a0.muscache.com/im/pictures/21428a22-4...</td>\n",
              "      <td>Mitte</td>\n",
              "      <td>4.0</td>\n",
              "      <td>4.0</td>\n",
              "      <td>['email', 'phone', 'reviews', 'jumio', 'offlin...</td>\n",
              "      <td>t</td>\n",
              "      <td>t</td>\n",
              "      <td>Berlin, Berlin, Germany</td>\n",
              "      <td>Mitte</td>\n",
              "      <td>Brunnenstr. Süd</td>\n",
              "      <td>...</td>\n",
              "      <td>2.0</td>\n",
              "      <td>Real Bed</td>\n",
              "      <td>{TV,\"Cable TV\",Wifi,Kitchen,Gym,Heating,\"Famil...</td>\n",
              "      <td>NaN</td>\n",
              "      <td>$60.00</td>\n",
              "      <td>NaN</td>\n",
              "      <td>NaN</td>\n",
              "      <td>$200.00</td>\n",
              "      <td>$30.00</td>\n",
              "      <td>1</td>\n",
              "      <td>$28.00</td>\n",
              "      <td>4</td>\n",
              "      <td>1125</td>\n",
              "      <td>3 months ago</td>\n",
              "      <td>t</td>\n",
              "      <td>0</td>\n",
              "      <td>21</td>\n",
              "      <td>51</td>\n",
              "      <td>141</td>\n",
              "      <td>2018-11-07</td>\n",
              "      <td>118</td>\n",
              "      <td>2016-04-11</td>\n",
              "      <td>2018-10-28</td>\n",
              "      <td>93.0</td>\n",
              "      <td>10.0</td>\n",
              "      <td>9.0</td>\n",
              "      <td>10.0</td>\n",
              "      <td>10.0</td>\n",
              "      <td>10.0</td>\n",
              "      <td>9.0</td>\n",
              "      <td>t</td>\n",
              "      <td>NaN</td>\n",
              "      <td>NaN</td>\n",
              "      <td>f</td>\n",
              "      <td>f</td>\n",
              "      <td>strict_14_with_grace_period</td>\n",
              "      <td>f</td>\n",
              "      <td>f</td>\n",
              "      <td>4</td>\n",
              "      <td>3.76</td>\n",
              "    </tr>\n",
              "    <tr>\n",
              "      <th>1</th>\n",
              "      <td>2695</td>\n",
              "      <td>https://www.airbnb.com/rooms/2695</td>\n",
              "      <td>20181107122246</td>\n",
              "      <td>2018-11-07</td>\n",
              "      <td>Prenzlauer Berg close to Mauerpark</td>\n",
              "      <td>NaN</td>\n",
              "      <td>In the summertime we are spending most of our ...</td>\n",
              "      <td>In the summertime we are spending most of our ...</td>\n",
              "      <td>none</td>\n",
              "      <td>NaN</td>\n",
              "      <td>NaN</td>\n",
              "      <td>Within walking distance you'll find the S-Bahn...</td>\n",
              "      <td>Außer deinem Zimmer kannst du noch die Küche u...</td>\n",
              "      <td>NaN</td>\n",
              "      <td>NaN</td>\n",
              "      <td>NaN</td>\n",
              "      <td>NaN</td>\n",
              "      <td>https://a0.muscache.com/im/pictures/97d4f6e8-1...</td>\n",
              "      <td>NaN</td>\n",
              "      <td>2986</td>\n",
              "      <td>https://www.airbnb.com/users/show/2986</td>\n",
              "      <td>Michael</td>\n",
              "      <td>2008-09-16</td>\n",
              "      <td>Berlin, Berlin, Germany</td>\n",
              "      <td>Living with my wife in Berlin.  Like travellin...</td>\n",
              "      <td>NaN</td>\n",
              "      <td>NaN</td>\n",
              "      <td>NaN</td>\n",
              "      <td>f</td>\n",
              "      <td>https://a0.muscache.com/im/pictures/50434955-1...</td>\n",
              "      <td>https://a0.muscache.com/im/pictures/50434955-1...</td>\n",
              "      <td>Prenzlauer Berg</td>\n",
              "      <td>1.0</td>\n",
              "      <td>1.0</td>\n",
              "      <td>['email', 'phone', 'reviews', 'jumio', 'govern...</td>\n",
              "      <td>t</td>\n",
              "      <td>t</td>\n",
              "      <td>Berlin, Berlin, Germany</td>\n",
              "      <td>NaN</td>\n",
              "      <td>Prenzlauer Berg Nordwest</td>\n",
              "      <td>...</td>\n",
              "      <td>1.0</td>\n",
              "      <td>Real Bed</td>\n",
              "      <td>{Wifi,Kitchen,Elevator,Heating,Washer,Essentia...</td>\n",
              "      <td>NaN</td>\n",
              "      <td>$17.00</td>\n",
              "      <td>NaN</td>\n",
              "      <td>NaN</td>\n",
              "      <td>$0.00</td>\n",
              "      <td>$0.00</td>\n",
              "      <td>1</td>\n",
              "      <td>$0.00</td>\n",
              "      <td>2</td>\n",
              "      <td>40</td>\n",
              "      <td>7 weeks ago</td>\n",
              "      <td>t</td>\n",
              "      <td>0</td>\n",
              "      <td>0</td>\n",
              "      <td>0</td>\n",
              "      <td>0</td>\n",
              "      <td>2018-11-07</td>\n",
              "      <td>6</td>\n",
              "      <td>2018-07-04</td>\n",
              "      <td>2018-10-01</td>\n",
              "      <td>100.0</td>\n",
              "      <td>10.0</td>\n",
              "      <td>10.0</td>\n",
              "      <td>10.0</td>\n",
              "      <td>10.0</td>\n",
              "      <td>10.0</td>\n",
              "      <td>10.0</td>\n",
              "      <td>t</td>\n",
              "      <td>NaN</td>\n",
              "      <td>NaN</td>\n",
              "      <td>f</td>\n",
              "      <td>f</td>\n",
              "      <td>flexible</td>\n",
              "      <td>f</td>\n",
              "      <td>f</td>\n",
              "      <td>1</td>\n",
              "      <td>1.42</td>\n",
              "    </tr>\n",
              "    <tr>\n",
              "      <th>2</th>\n",
              "      <td>3176</td>\n",
              "      <td>https://www.airbnb.com/rooms/3176</td>\n",
              "      <td>20181107122246</td>\n",
              "      <td>2018-11-07</td>\n",
              "      <td>Fabulous Flat in great Location</td>\n",
              "      <td>This beautiful first floor apartment  is situa...</td>\n",
              "      <td>1st floor (68m2) apartment on Kollwitzplatz/ P...</td>\n",
              "      <td>This beautiful first floor apartment  is situa...</td>\n",
              "      <td>none</td>\n",
              "      <td>The neighbourhood is famous for its variety of...</td>\n",
              "      <td>We welcome FAMILIES and cater especially for y...</td>\n",
              "      <td>We are 5 min walk  away from the tram M2, whic...</td>\n",
              "      <td>The apartment will be entirely yours. We are c...</td>\n",
              "      <td>Feel free to ask any questions prior to bookin...</td>\n",
              "      <td>It’s a non smoking flat, which likes to be tre...</td>\n",
              "      <td>NaN</td>\n",
              "      <td>NaN</td>\n",
              "      <td>https://a0.muscache.com/im/pictures/243355/84a...</td>\n",
              "      <td>NaN</td>\n",
              "      <td>3718</td>\n",
              "      <td>https://www.airbnb.com/users/show/3718</td>\n",
              "      <td>Britta</td>\n",
              "      <td>2008-10-19</td>\n",
              "      <td>Coledale, New South Wales, Australia</td>\n",
              "      <td>We love to travel ourselves a lot and prefer t...</td>\n",
              "      <td>within a day</td>\n",
              "      <td>100%</td>\n",
              "      <td>NaN</td>\n",
              "      <td>f</td>\n",
              "      <td>https://a0.muscache.com/im/users/3718/profile_...</td>\n",
              "      <td>https://a0.muscache.com/im/users/3718/profile_...</td>\n",
              "      <td>Prenzlauer Berg</td>\n",
              "      <td>1.0</td>\n",
              "      <td>1.0</td>\n",
              "      <td>['email', 'phone', 'facebook', 'reviews', 'man...</td>\n",
              "      <td>t</td>\n",
              "      <td>t</td>\n",
              "      <td>Berlin, Berlin, Germany</td>\n",
              "      <td>Prenzlauer Berg</td>\n",
              "      <td>Prenzlauer Berg Südwest</td>\n",
              "      <td>...</td>\n",
              "      <td>2.0</td>\n",
              "      <td>Real Bed</td>\n",
              "      <td>{Internet,Wifi,Kitchen,\"Buzzer/wireless interc...</td>\n",
              "      <td>720.0</td>\n",
              "      <td>$90.00</td>\n",
              "      <td>$520.00</td>\n",
              "      <td>$1,900.00</td>\n",
              "      <td>$200.00</td>\n",
              "      <td>$50.00</td>\n",
              "      <td>2</td>\n",
              "      <td>$20.00</td>\n",
              "      <td>62</td>\n",
              "      <td>1125</td>\n",
              "      <td>a week ago</td>\n",
              "      <td>t</td>\n",
              "      <td>0</td>\n",
              "      <td>0</td>\n",
              "      <td>0</td>\n",
              "      <td>220</td>\n",
              "      <td>2018-11-07</td>\n",
              "      <td>143</td>\n",
              "      <td>2009-06-20</td>\n",
              "      <td>2017-03-20</td>\n",
              "      <td>92.0</td>\n",
              "      <td>9.0</td>\n",
              "      <td>9.0</td>\n",
              "      <td>9.0</td>\n",
              "      <td>9.0</td>\n",
              "      <td>10.0</td>\n",
              "      <td>9.0</td>\n",
              "      <td>t</td>\n",
              "      <td>NaN</td>\n",
              "      <td>NaN</td>\n",
              "      <td>t</td>\n",
              "      <td>f</td>\n",
              "      <td>strict_14_with_grace_period</td>\n",
              "      <td>f</td>\n",
              "      <td>f</td>\n",
              "      <td>1</td>\n",
              "      <td>1.25</td>\n",
              "    </tr>\n",
              "    <tr>\n",
              "      <th>3</th>\n",
              "      <td>3309</td>\n",
              "      <td>https://www.airbnb.com/rooms/3309</td>\n",
              "      <td>20181107122246</td>\n",
              "      <td>2018-11-07</td>\n",
              "      <td>BerlinSpot Schöneberg near KaDeWe</td>\n",
              "      <td>First of all: I prefer short-notice bookings. ...</td>\n",
              "      <td>Your room is really big and has 26 sqm, is ver...</td>\n",
              "      <td>First of all: I prefer short-notice bookings. ...</td>\n",
              "      <td>none</td>\n",
              "      <td>My flat is in the middle of West-Berlin, direc...</td>\n",
              "      <td>The flat is a strictly non-smoking facility! A...</td>\n",
              "      <td>The public transportation is excellent: Severa...</td>\n",
              "      <td>I do have a strictly non-smoker-flat.  Keep th...</td>\n",
              "      <td>I'm working as a freelancing photographer. My ...</td>\n",
              "      <td>House-Rules and Information ..............(deu...</td>\n",
              "      <td>NaN</td>\n",
              "      <td>NaN</td>\n",
              "      <td>https://a0.muscache.com/im/pictures/29054294/b...</td>\n",
              "      <td>NaN</td>\n",
              "      <td>4108</td>\n",
              "      <td>https://www.airbnb.com/users/show/4108</td>\n",
              "      <td>Jana</td>\n",
              "      <td>2008-11-07</td>\n",
              "      <td>Berlin, Berlin, Germany</td>\n",
              "      <td>ENJOY EVERY DAY AS IF IT'S YOUR LAST!!! \\r\\n\\r...</td>\n",
              "      <td>NaN</td>\n",
              "      <td>NaN</td>\n",
              "      <td>NaN</td>\n",
              "      <td>f</td>\n",
              "      <td>https://a0.muscache.com/im/pictures/user/b5938...</td>\n",
              "      <td>https://a0.muscache.com/im/pictures/user/b5938...</td>\n",
              "      <td>Schöneberg</td>\n",
              "      <td>1.0</td>\n",
              "      <td>1.0</td>\n",
              "      <td>['email', 'phone', 'reviews', 'jumio', 'govern...</td>\n",
              "      <td>t</td>\n",
              "      <td>t</td>\n",
              "      <td>Berlin, Berlin, Germany</td>\n",
              "      <td>Schöneberg</td>\n",
              "      <td>Schöneberg-Nord</td>\n",
              "      <td>...</td>\n",
              "      <td>1.0</td>\n",
              "      <td>Pull-out Sofa</td>\n",
              "      <td>{Internet,Wifi,\"Pets allowed\",\"Pets live on th...</td>\n",
              "      <td>0.0</td>\n",
              "      <td>$26.00</td>\n",
              "      <td>$175.00</td>\n",
              "      <td>$599.00</td>\n",
              "      <td>$250.00</td>\n",
              "      <td>$30.00</td>\n",
              "      <td>1</td>\n",
              "      <td>$18.00</td>\n",
              "      <td>5</td>\n",
              "      <td>360</td>\n",
              "      <td>4 weeks ago</td>\n",
              "      <td>t</td>\n",
              "      <td>0</td>\n",
              "      <td>0</td>\n",
              "      <td>22</td>\n",
              "      <td>297</td>\n",
              "      <td>2018-11-07</td>\n",
              "      <td>25</td>\n",
              "      <td>2013-08-12</td>\n",
              "      <td>2018-08-16</td>\n",
              "      <td>88.0</td>\n",
              "      <td>9.0</td>\n",
              "      <td>9.0</td>\n",
              "      <td>9.0</td>\n",
              "      <td>10.0</td>\n",
              "      <td>9.0</td>\n",
              "      <td>9.0</td>\n",
              "      <td>t</td>\n",
              "      <td>NaN</td>\n",
              "      <td>NaN</td>\n",
              "      <td>f</td>\n",
              "      <td>f</td>\n",
              "      <td>strict_14_with_grace_period</td>\n",
              "      <td>f</td>\n",
              "      <td>f</td>\n",
              "      <td>1</td>\n",
              "      <td>0.39</td>\n",
              "    </tr>\n",
              "    <tr>\n",
              "      <th>4</th>\n",
              "      <td>7071</td>\n",
              "      <td>https://www.airbnb.com/rooms/7071</td>\n",
              "      <td>20181107122246</td>\n",
              "      <td>2018-11-07</td>\n",
              "      <td>BrightRoom with sunny greenview!</td>\n",
              "      <td>Cozy and large room in the beautiful district ...</td>\n",
              "      <td>The BrightRoom is an approx. 20 sqm (215ft²), ...</td>\n",
              "      <td>Cozy and large room in the beautiful district ...</td>\n",
              "      <td>none</td>\n",
              "      <td>Great neighborhood with plenty of Cafés, Baker...</td>\n",
              "      <td>I hope you enjoy your stay to the fullest! Ple...</td>\n",
              "      <td>Best access to other parts of the city via pub...</td>\n",
              "      <td>The guests have access to the bathroom, a smal...</td>\n",
              "      <td>I am glad if I can give you advice or help as ...</td>\n",
              "      <td>Please take good care of everything during you...</td>\n",
              "      <td>NaN</td>\n",
              "      <td>NaN</td>\n",
              "      <td>https://a0.muscache.com/im/pictures/21278/32a1...</td>\n",
              "      <td>NaN</td>\n",
              "      <td>17391</td>\n",
              "      <td>https://www.airbnb.com/users/show/17391</td>\n",
              "      <td>Bright</td>\n",
              "      <td>2009-05-16</td>\n",
              "      <td>Berlin, Berlin, Germany</td>\n",
              "      <td>I'm a creative person, adventurer, and travele...</td>\n",
              "      <td>within an hour</td>\n",
              "      <td>100%</td>\n",
              "      <td>NaN</td>\n",
              "      <td>t</td>\n",
              "      <td>https://a0.muscache.com/im/pictures/user/48c3d...</td>\n",
              "      <td>https://a0.muscache.com/im/pictures/user/48c3d...</td>\n",
              "      <td>Prenzlauer Berg</td>\n",
              "      <td>1.0</td>\n",
              "      <td>1.0</td>\n",
              "      <td>['email', 'phone', 'reviews', 'jumio', 'govern...</td>\n",
              "      <td>t</td>\n",
              "      <td>t</td>\n",
              "      <td>Berlin, Berlin, Germany</td>\n",
              "      <td>Prenzlauer Berg</td>\n",
              "      <td>Helmholtzplatz</td>\n",
              "      <td>...</td>\n",
              "      <td>2.0</td>\n",
              "      <td>Real Bed</td>\n",
              "      <td>{Wifi,Heating,\"Family/kid friendly\",Essentials...</td>\n",
              "      <td>NaN</td>\n",
              "      <td>$42.00</td>\n",
              "      <td>NaN</td>\n",
              "      <td>NaN</td>\n",
              "      <td>$0.00</td>\n",
              "      <td>$0.00</td>\n",
              "      <td>1</td>\n",
              "      <td>$24.00</td>\n",
              "      <td>2</td>\n",
              "      <td>10</td>\n",
              "      <td>3 days ago</td>\n",
              "      <td>t</td>\n",
              "      <td>15</td>\n",
              "      <td>26</td>\n",
              "      <td>26</td>\n",
              "      <td>26</td>\n",
              "      <td>2018-11-07</td>\n",
              "      <td>197</td>\n",
              "      <td>2009-08-18</td>\n",
              "      <td>2018-11-04</td>\n",
              "      <td>96.0</td>\n",
              "      <td>10.0</td>\n",
              "      <td>10.0</td>\n",
              "      <td>10.0</td>\n",
              "      <td>10.0</td>\n",
              "      <td>10.0</td>\n",
              "      <td>9.0</td>\n",
              "      <td>t</td>\n",
              "      <td>NaN</td>\n",
              "      <td>NaN</td>\n",
              "      <td>f</td>\n",
              "      <td>f</td>\n",
              "      <td>moderate</td>\n",
              "      <td>f</td>\n",
              "      <td>f</td>\n",
              "      <td>1</td>\n",
              "      <td>1.75</td>\n",
              "    </tr>\n",
              "  </tbody>\n",
              "</table>\n",
              "<p>5 rows × 96 columns</p>\n",
              "</div>"
            ],
            "text/plain": [
              "     id  ... reviews_per_month\n",
              "0  2015  ...              3.76\n",
              "1  2695  ...              1.42\n",
              "2  3176  ...              1.25\n",
              "3  3309  ...              0.39\n",
              "4  7071  ...              1.75\n",
              "\n",
              "[5 rows x 96 columns]"
            ]
          },
          "metadata": {
            "tags": []
          },
          "execution_count": 86
        }
      ]
    },
    {
      "cell_type": "code",
      "metadata": {
        "colab": {
          "base_uri": "https://localhost:8080/"
        },
        "id": "5VCfwJR-cV0n",
        "outputId": "21089984-598b-419b-8f66-0e1ee1ddf8cf"
      },
      "source": [
        "df_l.shape"
      ],
      "execution_count": null,
      "outputs": [
        {
          "output_type": "execute_result",
          "data": {
            "text/plain": [
              "(22552, 96)"
            ]
          },
          "metadata": {
            "tags": []
          },
          "execution_count": 87
        }
      ]
    },
    {
      "cell_type": "code",
      "metadata": {
        "colab": {
          "base_uri": "https://localhost:8080/"
        },
        "id": "StKjFBdJcegL",
        "outputId": "6b756294-8c0f-46a7-bd13-2ed64ce1263e"
      },
      "source": [
        "df_l.info()"
      ],
      "execution_count": null,
      "outputs": [
        {
          "output_type": "stream",
          "text": [
            "<class 'pandas.core.frame.DataFrame'>\n",
            "RangeIndex: 22552 entries, 0 to 22551\n",
            "Data columns (total 96 columns):\n",
            " #   Column                            Non-Null Count  Dtype  \n",
            "---  ------                            --------------  -----  \n",
            " 0   id                                22552 non-null  int64  \n",
            " 1   listing_url                       22552 non-null  object \n",
            " 2   scrape_id                         22552 non-null  int64  \n",
            " 3   last_scraped                      22552 non-null  object \n",
            " 4   name                              22493 non-null  object \n",
            " 5   summary                           21589 non-null  object \n",
            " 6   space                             14020 non-null  object \n",
            " 7   description                       22349 non-null  object \n",
            " 8   experiences_offered               22552 non-null  object \n",
            " 9   neighborhood_overview             11540 non-null  object \n",
            " 10  notes                             7215 non-null   object \n",
            " 11  transit                           13036 non-null  object \n",
            " 12  access                            10837 non-null  object \n",
            " 13  interaction                       10406 non-null  object \n",
            " 14  house_rules                       11449 non-null  object \n",
            " 15  thumbnail_url                     0 non-null      float64\n",
            " 16  medium_url                        0 non-null      float64\n",
            " 17  picture_url                       22552 non-null  object \n",
            " 18  xl_picture_url                    0 non-null      float64\n",
            " 19  host_id                           22552 non-null  int64  \n",
            " 20  host_url                          22552 non-null  object \n",
            " 21  host_name                         22526 non-null  object \n",
            " 22  host_since                        22526 non-null  object \n",
            " 23  host_location                     22436 non-null  object \n",
            " 24  host_about                        11189 non-null  object \n",
            " 25  host_response_time                9658 non-null   object \n",
            " 26  host_response_rate                9657 non-null   object \n",
            " 27  host_acceptance_rate              0 non-null      float64\n",
            " 28  host_is_superhost                 22526 non-null  object \n",
            " 29  host_thumbnail_url                22526 non-null  object \n",
            " 30  host_picture_url                  22526 non-null  object \n",
            " 31  host_neighbourhood                17458 non-null  object \n",
            " 32  host_listings_count               22526 non-null  float64\n",
            " 33  host_total_listings_count         22526 non-null  float64\n",
            " 34  host_verifications                22552 non-null  object \n",
            " 35  host_has_profile_pic              22526 non-null  object \n",
            " 36  host_identity_verified            22526 non-null  object \n",
            " 37  street                            22552 non-null  object \n",
            " 38  neighbourhood                     21421 non-null  object \n",
            " 39  neighbourhood_cleansed            22552 non-null  object \n",
            " 40  neighbourhood_group_cleansed      22552 non-null  object \n",
            " 41  city                              22547 non-null  object \n",
            " 42  state                             22468 non-null  object \n",
            " 43  zipcode                           21896 non-null  object \n",
            " 44  market                            22489 non-null  object \n",
            " 45  smart_location                    22552 non-null  object \n",
            " 46  country_code                      22552 non-null  object \n",
            " 47  country                           22552 non-null  object \n",
            " 48  latitude                          22552 non-null  float64\n",
            " 49  longitude                         22552 non-null  float64\n",
            " 50  is_location_exact                 22552 non-null  object \n",
            " 51  property_type                     22552 non-null  object \n",
            " 52  room_type                         22552 non-null  object \n",
            " 53  accommodates                      22552 non-null  int64  \n",
            " 54  bathrooms                         22520 non-null  float64\n",
            " 55  bedrooms                          22534 non-null  float64\n",
            " 56  beds                              22512 non-null  float64\n",
            " 57  bed_type                          22552 non-null  object \n",
            " 58  amenities                         22552 non-null  object \n",
            " 59  square_feet                       446 non-null    float64\n",
            " 60  price                             22552 non-null  object \n",
            " 61  weekly_price                      3681 non-null   object \n",
            " 62  monthly_price                     2659 non-null   object \n",
            " 63  security_deposit                  13191 non-null  object \n",
            " 64  cleaning_fee                      15406 non-null  object \n",
            " 65  guests_included                   22552 non-null  int64  \n",
            " 66  extra_people                      22552 non-null  object \n",
            " 67  minimum_nights                    22552 non-null  int64  \n",
            " 68  maximum_nights                    22552 non-null  int64  \n",
            " 69  calendar_updated                  22552 non-null  object \n",
            " 70  has_availability                  22552 non-null  object \n",
            " 71  availability_30                   22552 non-null  int64  \n",
            " 72  availability_60                   22552 non-null  int64  \n",
            " 73  availability_90                   22552 non-null  int64  \n",
            " 74  availability_365                  22552 non-null  int64  \n",
            " 75  calendar_last_scraped             22552 non-null  object \n",
            " 76  number_of_reviews                 22552 non-null  int64  \n",
            " 77  first_review                      18638 non-null  object \n",
            " 78  last_review                       18644 non-null  object \n",
            " 79  review_scores_rating              18163 non-null  float64\n",
            " 80  review_scores_accuracy            18138 non-null  float64\n",
            " 81  review_scores_cleanliness         18141 non-null  float64\n",
            " 82  review_scores_checkin             18120 non-null  float64\n",
            " 83  review_scores_communication       18134 non-null  float64\n",
            " 84  review_scores_location            18121 non-null  float64\n",
            " 85  review_scores_value               18117 non-null  float64\n",
            " 86  requires_license                  22552 non-null  object \n",
            " 87  license                           1638 non-null   object \n",
            " 88  jurisdiction_names                0 non-null      float64\n",
            " 89  instant_bookable                  22552 non-null  object \n",
            " 90  is_business_travel_ready          22552 non-null  object \n",
            " 91  cancellation_policy               22552 non-null  object \n",
            " 92  require_guest_profile_picture     22552 non-null  object \n",
            " 93  require_guest_phone_verification  22552 non-null  object \n",
            " 94  calculated_host_listings_count    22552 non-null  int64  \n",
            " 95  reviews_per_month                 18638 non-null  float64\n",
            "dtypes: float64(21), int64(13), object(62)\n",
            "memory usage: 16.5+ MB\n"
          ],
          "name": "stdout"
        }
      ]
    },
    {
      "cell_type": "code",
      "metadata": {
        "id": "gu9i4q2BchoY"
      },
      "source": [
        ""
      ],
      "execution_count": null,
      "outputs": []
    },
    {
      "cell_type": "markdown",
      "metadata": {
        "id": "Mtj9ols6tJIz"
      },
      "source": [
        "# Statista Data"
      ]
    },
    {
      "cell_type": "code",
      "metadata": {
        "colab": {
          "base_uri": "https://localhost:8080/",
          "height": 206
        },
        "id": "_Yfxe_-ztLC_",
        "outputId": "357c4bcf-4e42-49c0-f39b-502583f4ecce"
      },
      "source": [
        "path = 'drive/MyDrive/Colab Notebooks/BI/data/'\n",
        "df_bbs_störung = pd.read_excel(path+'Berlin_Bezirke_Statista.xlsx',sheet_name='Störung_Touris_2012')\n",
        "df_bbs_störung.head()"
      ],
      "execution_count": 3,
      "outputs": [
        {
          "output_type": "execute_result",
          "data": {
            "text/html": [
              "<div>\n",
              "<style scoped>\n",
              "    .dataframe tbody tr th:only-of-type {\n",
              "        vertical-align: middle;\n",
              "    }\n",
              "\n",
              "    .dataframe tbody tr th {\n",
              "        vertical-align: top;\n",
              "    }\n",
              "\n",
              "    .dataframe thead th {\n",
              "        text-align: right;\n",
              "    }\n",
              "</style>\n",
              "<table border=\"1\" class=\"dataframe\">\n",
              "  <thead>\n",
              "    <tr style=\"text-align: right;\">\n",
              "      <th></th>\n",
              "      <th>Bezirk</th>\n",
              "      <th>Gestört</th>\n",
              "      <th>Nicht gestört</th>\n",
              "    </tr>\n",
              "  </thead>\n",
              "  <tbody>\n",
              "    <tr>\n",
              "      <th>0</th>\n",
              "      <td>Friedrichshain-Kreuzberg</td>\n",
              "      <td>29</td>\n",
              "      <td>71</td>\n",
              "    </tr>\n",
              "    <tr>\n",
              "      <th>1</th>\n",
              "      <td>Lichtenberg</td>\n",
              "      <td>14</td>\n",
              "      <td>86</td>\n",
              "    </tr>\n",
              "    <tr>\n",
              "      <th>2</th>\n",
              "      <td>Neukölln</td>\n",
              "      <td>14</td>\n",
              "      <td>86</td>\n",
              "    </tr>\n",
              "    <tr>\n",
              "      <th>3</th>\n",
              "      <td>Mitte</td>\n",
              "      <td>14</td>\n",
              "      <td>86</td>\n",
              "    </tr>\n",
              "    <tr>\n",
              "      <th>4</th>\n",
              "      <td>Pankow</td>\n",
              "      <td>13</td>\n",
              "      <td>87</td>\n",
              "    </tr>\n",
              "  </tbody>\n",
              "</table>\n",
              "</div>"
            ],
            "text/plain": [
              "                     Bezirk  Gestört  Nicht gestört\n",
              "0  Friedrichshain-Kreuzberg       29             71\n",
              "1               Lichtenberg       14             86\n",
              "2                  Neukölln       14             86\n",
              "3                     Mitte       14             86\n",
              "4                    Pankow       13             87"
            ]
          },
          "metadata": {
            "tags": []
          },
          "execution_count": 3
        }
      ]
    },
    {
      "cell_type": "code",
      "metadata": {
        "colab": {
          "base_uri": "https://localhost:8080/",
          "height": 206
        },
        "id": "63Dq6dvqtgJy",
        "outputId": "a653c459-2e8d-4f76-8d1f-701975959278"
      },
      "source": [
        "## Kaufpreise_Whg\n",
        "df_bbs_kaufpreise_whg = pd.read_excel(path+'Berlin_Bezirke_Statista.xlsx',sheet_name='Kaufpreise_Whg')\n",
        "df_bbs_kaufpreise_whg.head()"
      ],
      "execution_count": 4,
      "outputs": [
        {
          "output_type": "execute_result",
          "data": {
            "text/html": [
              "<div>\n",
              "<style scoped>\n",
              "    .dataframe tbody tr th:only-of-type {\n",
              "        vertical-align: middle;\n",
              "    }\n",
              "\n",
              "    .dataframe tbody tr th {\n",
              "        vertical-align: top;\n",
              "    }\n",
              "\n",
              "    .dataframe thead th {\n",
              "        text-align: right;\n",
              "    }\n",
              "</style>\n",
              "<table border=\"1\" class=\"dataframe\">\n",
              "  <thead>\n",
              "    <tr style=\"text-align: right;\">\n",
              "      <th></th>\n",
              "      <th>Bezirk</th>\n",
              "      <th>Q1 2011</th>\n",
              "      <th>Q3 2012</th>\n",
              "      <th>Q1 2013</th>\n",
              "      <th>Q1 2014</th>\n",
              "      <th>Q3 2014</th>\n",
              "      <th>Q3 2015</th>\n",
              "      <th>Q3 2016</th>\n",
              "      <th>Q1 2017</th>\n",
              "      <th>Q1 2018</th>\n",
              "      <th>Q1 2019</th>\n",
              "    </tr>\n",
              "  </thead>\n",
              "  <tbody>\n",
              "    <tr>\n",
              "      <th>0</th>\n",
              "      <td>Charlottenburg-Wilmersdorf</td>\n",
              "      <td>1759</td>\n",
              "      <td>2328</td>\n",
              "      <td>2716</td>\n",
              "      <td>2889</td>\n",
              "      <td>2965</td>\n",
              "      <td>3234</td>\n",
              "      <td>3669</td>\n",
              "      <td>3846</td>\n",
              "      <td>4287</td>\n",
              "      <td>4856</td>\n",
              "    </tr>\n",
              "    <tr>\n",
              "      <th>1</th>\n",
              "      <td>Mitte</td>\n",
              "      <td>2050</td>\n",
              "      <td>2849</td>\n",
              "      <td>2770</td>\n",
              "      <td>3200</td>\n",
              "      <td>3332</td>\n",
              "      <td>3495</td>\n",
              "      <td>3596</td>\n",
              "      <td>3830</td>\n",
              "      <td>4399</td>\n",
              "      <td>4693</td>\n",
              "    </tr>\n",
              "    <tr>\n",
              "      <th>2</th>\n",
              "      <td>Friedrichshain-Kreuzberg</td>\n",
              "      <td>2140</td>\n",
              "      <td>2550</td>\n",
              "      <td>2550</td>\n",
              "      <td>2833</td>\n",
              "      <td>3079</td>\n",
              "      <td>3396</td>\n",
              "      <td>3785</td>\n",
              "      <td>3938</td>\n",
              "      <td>4155</td>\n",
              "      <td>4555</td>\n",
              "    </tr>\n",
              "    <tr>\n",
              "      <th>3</th>\n",
              "      <td>Pankow</td>\n",
              "      <td>2025</td>\n",
              "      <td>2401</td>\n",
              "      <td>2600</td>\n",
              "      <td>2591</td>\n",
              "      <td>2720</td>\n",
              "      <td>2941</td>\n",
              "      <td>3066</td>\n",
              "      <td>3587</td>\n",
              "      <td>3931</td>\n",
              "      <td>4467</td>\n",
              "    </tr>\n",
              "    <tr>\n",
              "      <th>4</th>\n",
              "      <td>Steglitz-Zehlendorf</td>\n",
              "      <td>1656</td>\n",
              "      <td>2000</td>\n",
              "      <td>2196</td>\n",
              "      <td>2292</td>\n",
              "      <td>2375</td>\n",
              "      <td>2796</td>\n",
              "      <td>2995</td>\n",
              "      <td>3301</td>\n",
              "      <td>3650</td>\n",
              "      <td>4068</td>\n",
              "    </tr>\n",
              "  </tbody>\n",
              "</table>\n",
              "</div>"
            ],
            "text/plain": [
              "                       Bezirk  Q1 2011  Q3 2012  ...  Q1 2017  Q1 2018  Q1 2019\n",
              "0  Charlottenburg-Wilmersdorf     1759     2328  ...     3846     4287     4856\n",
              "1                       Mitte     2050     2849  ...     3830     4399     4693\n",
              "2    Friedrichshain-Kreuzberg     2140     2550  ...     3938     4155     4555\n",
              "3                      Pankow     2025     2401  ...     3587     3931     4467\n",
              "4         Steglitz-Zehlendorf     1656     2000  ...     3301     3650     4068\n",
              "\n",
              "[5 rows x 11 columns]"
            ]
          },
          "metadata": {
            "tags": []
          },
          "execution_count": 4
        }
      ]
    },
    {
      "cell_type": "code",
      "metadata": {
        "colab": {
          "base_uri": "https://localhost:8080/",
          "height": 206
        },
        "id": "ikFgznfgtlR1",
        "outputId": "5d621bd3-09bc-45cb-dcb9-67985ac15386"
      },
      "source": [
        "## Neumieten_2019\n",
        "df_bbs_neumieten_2019 = pd.read_excel(path+'Berlin_Bezirke_Statista.xlsx',sheet_name='Neumieten_2019')\n",
        "df_bbs_neumieten_2019.head()\n"
      ],
      "execution_count": 5,
      "outputs": [
        {
          "output_type": "execute_result",
          "data": {
            "text/html": [
              "<div>\n",
              "<style scoped>\n",
              "    .dataframe tbody tr th:only-of-type {\n",
              "        vertical-align: middle;\n",
              "    }\n",
              "\n",
              "    .dataframe tbody tr th {\n",
              "        vertical-align: top;\n",
              "    }\n",
              "\n",
              "    .dataframe thead th {\n",
              "        text-align: right;\n",
              "    }\n",
              "</style>\n",
              "<table border=\"1\" class=\"dataframe\">\n",
              "  <thead>\n",
              "    <tr style=\"text-align: right;\">\n",
              "      <th></th>\n",
              "      <th>Bezirk</th>\n",
              "      <th>mietpreis_qm_2019</th>\n",
              "    </tr>\n",
              "  </thead>\n",
              "  <tbody>\n",
              "    <tr>\n",
              "      <th>0</th>\n",
              "      <td>Mitte</td>\n",
              "      <td>13.42</td>\n",
              "    </tr>\n",
              "    <tr>\n",
              "      <th>1</th>\n",
              "      <td>Friedrichshain-Kreuzberg</td>\n",
              "      <td>13.00</td>\n",
              "    </tr>\n",
              "    <tr>\n",
              "      <th>2</th>\n",
              "      <td>Charlottenburg-Wilmersdorf</td>\n",
              "      <td>12.65</td>\n",
              "    </tr>\n",
              "    <tr>\n",
              "      <th>3</th>\n",
              "      <td>Pankow</td>\n",
              "      <td>10.94</td>\n",
              "    </tr>\n",
              "    <tr>\n",
              "      <th>4</th>\n",
              "      <td>Steglitz-Zehlendorf</td>\n",
              "      <td>10.67</td>\n",
              "    </tr>\n",
              "  </tbody>\n",
              "</table>\n",
              "</div>"
            ],
            "text/plain": [
              "                       Bezirk  mietpreis_qm_2019\n",
              "0                       Mitte              13.42\n",
              "1    Friedrichshain-Kreuzberg              13.00\n",
              "2  Charlottenburg-Wilmersdorf              12.65\n",
              "3                      Pankow              10.94\n",
              "4         Steglitz-Zehlendorf              10.67"
            ]
          },
          "metadata": {
            "tags": []
          },
          "execution_count": 5
        }
      ]
    },
    {
      "cell_type": "code",
      "metadata": {
        "colab": {
          "base_uri": "https://localhost:8080/",
          "height": 206
        },
        "id": "qvHrcH50uNFZ",
        "outputId": "69168907-6235-4307-89d1-035b4c489601"
      },
      "source": [
        "## Anteil_Kettenhotels_2018\n",
        "df_bbs_kettenhotels_2018 = pd.read_excel(path+'Berlin_Bezirke_Statista.xlsx',sheet_name='Anteil_Kettenhotels_2018')\n",
        "df_bbs_kettenhotels_2018.head()"
      ],
      "execution_count": 6,
      "outputs": [
        {
          "output_type": "execute_result",
          "data": {
            "text/html": [
              "<div>\n",
              "<style scoped>\n",
              "    .dataframe tbody tr th:only-of-type {\n",
              "        vertical-align: middle;\n",
              "    }\n",
              "\n",
              "    .dataframe tbody tr th {\n",
              "        vertical-align: top;\n",
              "    }\n",
              "\n",
              "    .dataframe thead th {\n",
              "        text-align: right;\n",
              "    }\n",
              "</style>\n",
              "<table border=\"1\" class=\"dataframe\">\n",
              "  <thead>\n",
              "    <tr style=\"text-align: right;\">\n",
              "      <th></th>\n",
              "      <th>Bezirk</th>\n",
              "      <th>Anteil</th>\n",
              "    </tr>\n",
              "  </thead>\n",
              "  <tbody>\n",
              "    <tr>\n",
              "      <th>0</th>\n",
              "      <td>Mitte</td>\n",
              "      <td>60.0</td>\n",
              "    </tr>\n",
              "    <tr>\n",
              "      <th>1</th>\n",
              "      <td>Lichtenberg</td>\n",
              "      <td>44.0</td>\n",
              "    </tr>\n",
              "    <tr>\n",
              "      <th>2</th>\n",
              "      <td>Friedrichshain-Kreuzberg</td>\n",
              "      <td>39.0</td>\n",
              "    </tr>\n",
              "    <tr>\n",
              "      <th>3</th>\n",
              "      <td>Charlottenburg-Wilmersdorf</td>\n",
              "      <td>36.0</td>\n",
              "    </tr>\n",
              "    <tr>\n",
              "      <th>4</th>\n",
              "      <td>Reinickendorf</td>\n",
              "      <td>36.0</td>\n",
              "    </tr>\n",
              "  </tbody>\n",
              "</table>\n",
              "</div>"
            ],
            "text/plain": [
              "                       Bezirk  Anteil\n",
              "0                       Mitte    60.0\n",
              "1                 Lichtenberg    44.0\n",
              "2    Friedrichshain-Kreuzberg    39.0\n",
              "3  Charlottenburg-Wilmersdorf    36.0\n",
              "4               Reinickendorf    36.0"
            ]
          },
          "metadata": {
            "tags": []
          },
          "execution_count": 6
        }
      ]
    },
    {
      "cell_type": "code",
      "metadata": {
        "colab": {
          "base_uri": "https://localhost:8080/",
          "height": 206
        },
        "id": "PuyDhkVXuT4B",
        "outputId": "f6276bb1-87da-4ce9-98a9-dd235ce6986e"
      },
      "source": [
        "## Anteil_Inland_Ausland_2020\n",
        "df_bbs_in_ausland_2020 = pd.read_excel(path+'Berlin_Bezirke_Statista.xlsx',sheet_name='Anteil_Inland_Ausland_2020')\n",
        "df_bbs_in_ausland_2020.head()"
      ],
      "execution_count": 7,
      "outputs": [
        {
          "output_type": "execute_result",
          "data": {
            "text/html": [
              "<div>\n",
              "<style scoped>\n",
              "    .dataframe tbody tr th:only-of-type {\n",
              "        vertical-align: middle;\n",
              "    }\n",
              "\n",
              "    .dataframe tbody tr th {\n",
              "        vertical-align: top;\n",
              "    }\n",
              "\n",
              "    .dataframe thead th {\n",
              "        text-align: right;\n",
              "    }\n",
              "</style>\n",
              "<table border=\"1\" class=\"dataframe\">\n",
              "  <thead>\n",
              "    <tr style=\"text-align: right;\">\n",
              "      <th></th>\n",
              "      <th>Bezirk</th>\n",
              "      <th>Ausländische Gäste</th>\n",
              "      <th>Insgesamt</th>\n",
              "    </tr>\n",
              "  </thead>\n",
              "  <tbody>\n",
              "    <tr>\n",
              "      <th>0</th>\n",
              "      <td>Mitte</td>\n",
              "      <td>642.55</td>\n",
              "      <td>2119.16</td>\n",
              "    </tr>\n",
              "    <tr>\n",
              "      <th>1</th>\n",
              "      <td>Charlottenburg-Wilmersdorf</td>\n",
              "      <td>238.25</td>\n",
              "      <td>935.75</td>\n",
              "    </tr>\n",
              "    <tr>\n",
              "      <th>2</th>\n",
              "      <td>Friedrichshain-Kreuzberg</td>\n",
              "      <td>169.09</td>\n",
              "      <td>604.48</td>\n",
              "    </tr>\n",
              "    <tr>\n",
              "      <th>3</th>\n",
              "      <td>Tempelhof-Schöneberg</td>\n",
              "      <td>80.28</td>\n",
              "      <td>301.41</td>\n",
              "    </tr>\n",
              "    <tr>\n",
              "      <th>4</th>\n",
              "      <td>Pankow</td>\n",
              "      <td>49.58</td>\n",
              "      <td>194.33</td>\n",
              "    </tr>\n",
              "  </tbody>\n",
              "</table>\n",
              "</div>"
            ],
            "text/plain": [
              "                       Bezirk  Ausländische Gäste  Insgesamt\n",
              "0                       Mitte              642.55    2119.16\n",
              "1  Charlottenburg-Wilmersdorf              238.25     935.75\n",
              "2    Friedrichshain-Kreuzberg              169.09     604.48\n",
              "3        Tempelhof-Schöneberg               80.28     301.41\n",
              "4                      Pankow               49.58     194.33"
            ]
          },
          "metadata": {
            "tags": []
          },
          "execution_count": 7
        }
      ]
    },
    {
      "cell_type": "code",
      "metadata": {
        "colab": {
          "base_uri": "https://localhost:8080/",
          "height": 206
        },
        "id": "BuVXnrnLucXk",
        "outputId": "da441964-a49a-488c-d4f2-032d3ef0ebb2"
      },
      "source": [
        "## Anzahl_Airbnb_2018\n",
        "df_bbs_airbnb_2018 = pd.read_excel(path+'Berlin_Bezirke_Statista.xlsx',sheet_name='Anzahl_Airbnb_2018')\n",
        "df_bbs_airbnb_2018.head()"
      ],
      "execution_count": 8,
      "outputs": [
        {
          "output_type": "execute_result",
          "data": {
            "text/html": [
              "<div>\n",
              "<style scoped>\n",
              "    .dataframe tbody tr th:only-of-type {\n",
              "        vertical-align: middle;\n",
              "    }\n",
              "\n",
              "    .dataframe tbody tr th {\n",
              "        vertical-align: top;\n",
              "    }\n",
              "\n",
              "    .dataframe thead th {\n",
              "        text-align: right;\n",
              "    }\n",
              "</style>\n",
              "<table border=\"1\" class=\"dataframe\">\n",
              "  <thead>\n",
              "    <tr style=\"text-align: right;\">\n",
              "      <th></th>\n",
              "      <th>Bezirk</th>\n",
              "      <th>Anzahl</th>\n",
              "    </tr>\n",
              "  </thead>\n",
              "  <tbody>\n",
              "    <tr>\n",
              "      <th>0</th>\n",
              "      <td>Friedrichshain-Kreuzberg</td>\n",
              "      <td>3212</td>\n",
              "    </tr>\n",
              "    <tr>\n",
              "      <th>1</th>\n",
              "      <td>Mitte</td>\n",
              "      <td>2914</td>\n",
              "    </tr>\n",
              "    <tr>\n",
              "      <th>2</th>\n",
              "      <td>Pankow</td>\n",
              "      <td>2181</td>\n",
              "    </tr>\n",
              "    <tr>\n",
              "      <th>3</th>\n",
              "      <td>Neukölln</td>\n",
              "      <td>1937</td>\n",
              "    </tr>\n",
              "    <tr>\n",
              "      <th>4</th>\n",
              "      <td>Charlottenburg-Wilmersdorf</td>\n",
              "      <td>1010</td>\n",
              "    </tr>\n",
              "  </tbody>\n",
              "</table>\n",
              "</div>"
            ],
            "text/plain": [
              "                       Bezirk  Anzahl\n",
              "0    Friedrichshain-Kreuzberg    3212\n",
              "1                       Mitte    2914\n",
              "2                      Pankow    2181\n",
              "3                    Neukölln    1937\n",
              "4  Charlottenburg-Wilmersdorf    1010"
            ]
          },
          "metadata": {
            "tags": []
          },
          "execution_count": 8
        }
      ]
    },
    {
      "cell_type": "code",
      "metadata": {
        "id": "RPBCsu58ujDl",
        "colab": {
          "base_uri": "https://localhost:8080/",
          "height": 477
        },
        "outputId": "4ccb7869-90d2-4c9f-e78a-4b3ecf460f1e"
      },
      "source": [
        "inner_merged1 = pd.merge(df_bbs_airbnb_2018, df_bbs_in_ausland_2020)\n",
        "inner_merged2 = pd.merge(inner_merged1, df_bbs_kettenhotels_2018)\n",
        "inner_merged3 = pd.merge(inner_merged2, df_bbs_neumieten_2019)\n",
        "inner_merged4 = pd.merge(inner_merged3, df_bbs_kaufpreise_whg)\n",
        "inner_merged = pd.merge(inner_merged4, df_bbs_störung)\n",
        "inner_merged"
      ],
      "execution_count": 11,
      "outputs": [
        {
          "output_type": "execute_result",
          "data": {
            "text/html": [
              "<div>\n",
              "<style scoped>\n",
              "    .dataframe tbody tr th:only-of-type {\n",
              "        vertical-align: middle;\n",
              "    }\n",
              "\n",
              "    .dataframe tbody tr th {\n",
              "        vertical-align: top;\n",
              "    }\n",
              "\n",
              "    .dataframe thead th {\n",
              "        text-align: right;\n",
              "    }\n",
              "</style>\n",
              "<table border=\"1\" class=\"dataframe\">\n",
              "  <thead>\n",
              "    <tr style=\"text-align: right;\">\n",
              "      <th></th>\n",
              "      <th>Bezirk</th>\n",
              "      <th>Anzahl</th>\n",
              "      <th>Ausländische Gäste</th>\n",
              "      <th>Insgesamt</th>\n",
              "      <th>Anteil</th>\n",
              "      <th>mietpreis_qm_2019</th>\n",
              "      <th>Q1 2011</th>\n",
              "      <th>Q3 2012</th>\n",
              "      <th>Q1 2013</th>\n",
              "      <th>Q1 2014</th>\n",
              "      <th>Q3 2014</th>\n",
              "      <th>Q3 2015</th>\n",
              "      <th>Q3 2016</th>\n",
              "      <th>Q1 2017</th>\n",
              "      <th>Q1 2018</th>\n",
              "      <th>Q1 2019</th>\n",
              "      <th>Gestört</th>\n",
              "      <th>Nicht gestört</th>\n",
              "    </tr>\n",
              "  </thead>\n",
              "  <tbody>\n",
              "    <tr>\n",
              "      <th>0</th>\n",
              "      <td>Friedrichshain-Kreuzberg</td>\n",
              "      <td>3212</td>\n",
              "      <td>169.09</td>\n",
              "      <td>604.48</td>\n",
              "      <td>39.0</td>\n",
              "      <td>13.00</td>\n",
              "      <td>2140</td>\n",
              "      <td>2550</td>\n",
              "      <td>2550</td>\n",
              "      <td>2833</td>\n",
              "      <td>3079</td>\n",
              "      <td>3396</td>\n",
              "      <td>3785</td>\n",
              "      <td>3938</td>\n",
              "      <td>4155</td>\n",
              "      <td>4555</td>\n",
              "      <td>29</td>\n",
              "      <td>71</td>\n",
              "    </tr>\n",
              "    <tr>\n",
              "      <th>1</th>\n",
              "      <td>Mitte</td>\n",
              "      <td>2914</td>\n",
              "      <td>642.55</td>\n",
              "      <td>2119.16</td>\n",
              "      <td>60.0</td>\n",
              "      <td>13.42</td>\n",
              "      <td>2050</td>\n",
              "      <td>2849</td>\n",
              "      <td>2770</td>\n",
              "      <td>3200</td>\n",
              "      <td>3332</td>\n",
              "      <td>3495</td>\n",
              "      <td>3596</td>\n",
              "      <td>3830</td>\n",
              "      <td>4399</td>\n",
              "      <td>4693</td>\n",
              "      <td>14</td>\n",
              "      <td>86</td>\n",
              "    </tr>\n",
              "    <tr>\n",
              "      <th>2</th>\n",
              "      <td>Pankow</td>\n",
              "      <td>2181</td>\n",
              "      <td>49.58</td>\n",
              "      <td>194.33</td>\n",
              "      <td>19.0</td>\n",
              "      <td>10.94</td>\n",
              "      <td>2025</td>\n",
              "      <td>2401</td>\n",
              "      <td>2600</td>\n",
              "      <td>2591</td>\n",
              "      <td>2720</td>\n",
              "      <td>2941</td>\n",
              "      <td>3066</td>\n",
              "      <td>3587</td>\n",
              "      <td>3931</td>\n",
              "      <td>4467</td>\n",
              "      <td>13</td>\n",
              "      <td>87</td>\n",
              "    </tr>\n",
              "    <tr>\n",
              "      <th>3</th>\n",
              "      <td>Neukölln</td>\n",
              "      <td>1937</td>\n",
              "      <td>27.77</td>\n",
              "      <td>160.22</td>\n",
              "      <td>33.0</td>\n",
              "      <td>10.06</td>\n",
              "      <td>1109</td>\n",
              "      <td>1733</td>\n",
              "      <td>1687</td>\n",
              "      <td>1997</td>\n",
              "      <td>1993</td>\n",
              "      <td>2302</td>\n",
              "      <td>2750</td>\n",
              "      <td>3073</td>\n",
              "      <td>3450</td>\n",
              "      <td>3758</td>\n",
              "      <td>14</td>\n",
              "      <td>86</td>\n",
              "    </tr>\n",
              "    <tr>\n",
              "      <th>4</th>\n",
              "      <td>Charlottenburg-Wilmersdorf</td>\n",
              "      <td>1010</td>\n",
              "      <td>238.25</td>\n",
              "      <td>935.75</td>\n",
              "      <td>36.0</td>\n",
              "      <td>12.65</td>\n",
              "      <td>1759</td>\n",
              "      <td>2328</td>\n",
              "      <td>2716</td>\n",
              "      <td>2889</td>\n",
              "      <td>2965</td>\n",
              "      <td>3234</td>\n",
              "      <td>3669</td>\n",
              "      <td>3846</td>\n",
              "      <td>4287</td>\n",
              "      <td>4856</td>\n",
              "      <td>11</td>\n",
              "      <td>89</td>\n",
              "    </tr>\n",
              "    <tr>\n",
              "      <th>5</th>\n",
              "      <td>Tempelhof-Schöneberg</td>\n",
              "      <td>971</td>\n",
              "      <td>80.28</td>\n",
              "      <td>301.41</td>\n",
              "      <td>34.0</td>\n",
              "      <td>10.52</td>\n",
              "      <td>1611</td>\n",
              "      <td>1895</td>\n",
              "      <td>1960</td>\n",
              "      <td>2105</td>\n",
              "      <td>2239</td>\n",
              "      <td>2481</td>\n",
              "      <td>3089</td>\n",
              "      <td>3308</td>\n",
              "      <td>3600</td>\n",
              "      <td>4031</td>\n",
              "      <td>10</td>\n",
              "      <td>90</td>\n",
              "    </tr>\n",
              "    <tr>\n",
              "      <th>6</th>\n",
              "      <td>Lichtenberg</td>\n",
              "      <td>415</td>\n",
              "      <td>26.26</td>\n",
              "      <td>172.77</td>\n",
              "      <td>44.0</td>\n",
              "      <td>9.26</td>\n",
              "      <td>1406</td>\n",
              "      <td>1688</td>\n",
              "      <td>2148</td>\n",
              "      <td>1959</td>\n",
              "      <td>1893</td>\n",
              "      <td>1691</td>\n",
              "      <td>2133</td>\n",
              "      <td>2743</td>\n",
              "      <td>3100</td>\n",
              "      <td>3585</td>\n",
              "      <td>14</td>\n",
              "      <td>86</td>\n",
              "    </tr>\n",
              "    <tr>\n",
              "      <th>7</th>\n",
              "      <td>Treptow-Köpenick</td>\n",
              "      <td>370</td>\n",
              "      <td>18.04</td>\n",
              "      <td>168.33</td>\n",
              "      <td>24.0</td>\n",
              "      <td>9.92</td>\n",
              "      <td>1320</td>\n",
              "      <td>1931</td>\n",
              "      <td>1817</td>\n",
              "      <td>1895</td>\n",
              "      <td>1862</td>\n",
              "      <td>1923</td>\n",
              "      <td>2264</td>\n",
              "      <td>2415</td>\n",
              "      <td>2743</td>\n",
              "      <td>3013</td>\n",
              "      <td>6</td>\n",
              "      <td>94</td>\n",
              "    </tr>\n",
              "    <tr>\n",
              "      <th>8</th>\n",
              "      <td>Steglitz-Zehlendorf</td>\n",
              "      <td>276</td>\n",
              "      <td>6.35</td>\n",
              "      <td>66.15</td>\n",
              "      <td>11.0</td>\n",
              "      <td>10.67</td>\n",
              "      <td>1656</td>\n",
              "      <td>2000</td>\n",
              "      <td>2196</td>\n",
              "      <td>2292</td>\n",
              "      <td>2375</td>\n",
              "      <td>2796</td>\n",
              "      <td>2995</td>\n",
              "      <td>3301</td>\n",
              "      <td>3650</td>\n",
              "      <td>4068</td>\n",
              "      <td>5</td>\n",
              "      <td>95</td>\n",
              "    </tr>\n",
              "    <tr>\n",
              "      <th>9</th>\n",
              "      <td>Reinickendorf</td>\n",
              "      <td>167</td>\n",
              "      <td>12.04</td>\n",
              "      <td>73.62</td>\n",
              "      <td>36.0</td>\n",
              "      <td>9.42</td>\n",
              "      <td>1214</td>\n",
              "      <td>1658</td>\n",
              "      <td>1537</td>\n",
              "      <td>1714</td>\n",
              "      <td>1778</td>\n",
              "      <td>1973</td>\n",
              "      <td>2253</td>\n",
              "      <td>2249</td>\n",
              "      <td>2875</td>\n",
              "      <td>3053</td>\n",
              "      <td>3</td>\n",
              "      <td>97</td>\n",
              "    </tr>\n",
              "    <tr>\n",
              "      <th>10</th>\n",
              "      <td>Marzahn-Hellersdorf</td>\n",
              "      <td>104</td>\n",
              "      <td>4.53</td>\n",
              "      <td>43.04</td>\n",
              "      <td>NaN</td>\n",
              "      <td>7.89</td>\n",
              "      <td>1078</td>\n",
              "      <td>1542</td>\n",
              "      <td>1276</td>\n",
              "      <td>1369</td>\n",
              "      <td>1477</td>\n",
              "      <td>1627</td>\n",
              "      <td>1894</td>\n",
              "      <td>2059</td>\n",
              "      <td>2357</td>\n",
              "      <td>2500</td>\n",
              "      <td>10</td>\n",
              "      <td>90</td>\n",
              "    </tr>\n",
              "    <tr>\n",
              "      <th>11</th>\n",
              "      <td>Spandau</td>\n",
              "      <td>87</td>\n",
              "      <td>14.15</td>\n",
              "      <td>108.33</td>\n",
              "      <td>27.0</td>\n",
              "      <td>8.86</td>\n",
              "      <td>1049</td>\n",
              "      <td>1313</td>\n",
              "      <td>1608</td>\n",
              "      <td>1750</td>\n",
              "      <td>1833</td>\n",
              "      <td>1957</td>\n",
              "      <td>1959</td>\n",
              "      <td>2000</td>\n",
              "      <td>2291</td>\n",
              "      <td>2751</td>\n",
              "      <td>4</td>\n",
              "      <td>96</td>\n",
              "    </tr>\n",
              "  </tbody>\n",
              "</table>\n",
              "</div>"
            ],
            "text/plain": [
              "                        Bezirk  Anzahl  ...  Gestört  Nicht gestört\n",
              "0     Friedrichshain-Kreuzberg    3212  ...       29             71\n",
              "1                        Mitte    2914  ...       14             86\n",
              "2                       Pankow    2181  ...       13             87\n",
              "3                     Neukölln    1937  ...       14             86\n",
              "4   Charlottenburg-Wilmersdorf    1010  ...       11             89\n",
              "5         Tempelhof-Schöneberg     971  ...       10             90\n",
              "6                  Lichtenberg     415  ...       14             86\n",
              "7             Treptow-Köpenick     370  ...        6             94\n",
              "8          Steglitz-Zehlendorf     276  ...        5             95\n",
              "9                Reinickendorf     167  ...        3             97\n",
              "10         Marzahn-Hellersdorf     104  ...       10             90\n",
              "11                     Spandau      87  ...        4             96\n",
              "\n",
              "[12 rows x 18 columns]"
            ]
          },
          "metadata": {
            "tags": []
          },
          "execution_count": 11
        }
      ]
    },
    {
      "cell_type": "code",
      "metadata": {
        "id": "msXYeDZcWud-"
      },
      "source": [
        ""
      ],
      "execution_count": null,
      "outputs": []
    }
  ]
}